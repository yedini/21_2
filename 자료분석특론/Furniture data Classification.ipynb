{
 "cells": [
  {
   "cell_type": "markdown",
   "id": "8b8937cd",
   "metadata": {},
   "source": [
    "### Load packages & data"
   ]
  },
  {
   "cell_type": "code",
   "execution_count": 32,
   "id": "718f8e9d",
   "metadata": {},
   "outputs": [],
   "source": [
    "import pandas as pd\n",
    "import numpy as np\n",
    "import matplotlib.pyplot as plt\n",
    "import os, shutil\n",
    "import re\n",
    "from PIL import Image\n",
    "\n",
    "from sklearn.model_selection import train_test_split\n",
    "\n",
    "from tensorflow.keras.preprocessing.image import ImageDataGenerator\n",
    "import tensorflow as tf\n",
    "from tensorflow import keras\n",
    "from tensorflow.keras import layers\n",
    "from tensorflow.keras import models\n",
    "from tensorflow.keras import optimizers\n",
    "from tensorflow.keras.applications import VGG16"
   ]
  },
  {
   "cell_type": "code",
   "execution_count": 40,
   "id": "932d2435",
   "metadata": {},
   "outputs": [
    {
     "data": {
      "text/html": [
       "<div>\n",
       "<style scoped>\n",
       "    .dataframe tbody tr th:only-of-type {\n",
       "        vertical-align: middle;\n",
       "    }\n",
       "\n",
       "    .dataframe tbody tr th {\n",
       "        vertical-align: top;\n",
       "    }\n",
       "\n",
       "    .dataframe thead th {\n",
       "        text-align: right;\n",
       "    }\n",
       "</style>\n",
       "<table border=\"1\" class=\"dataframe\">\n",
       "  <thead>\n",
       "    <tr style=\"text-align: right;\">\n",
       "      <th></th>\n",
       "      <th>Label</th>\n",
       "      <th>Furniture_Type</th>\n",
       "      <th>Image_File</th>\n",
       "    </tr>\n",
       "  </thead>\n",
       "  <tbody>\n",
       "    <tr>\n",
       "      <th>0</th>\n",
       "      <td>furniture set</td>\n",
       "      <td>Other</td>\n",
       "      <td>/furniture_images/1634011558853_Furniture Set ...</td>\n",
       "    </tr>\n",
       "    <tr>\n",
       "      <th>1</th>\n",
       "      <td>bed room set</td>\n",
       "      <td>Bed / bedroom item</td>\n",
       "      <td>/furniture_images/1634011559093_Bed Room Set f...</td>\n",
       "    </tr>\n",
       "    <tr>\n",
       "      <th>2</th>\n",
       "      <td>6by6 teak box bed with hybrids mattress</td>\n",
       "      <td>Bed / bedroom item</td>\n",
       "      <td>/furniture_images/1634011559259_6by6 Teak Box ...</td>\n",
       "    </tr>\n",
       "    <tr>\n",
       "      <th>3</th>\n",
       "      <td>new spring mattress</td>\n",
       "      <td>Bed / bedroom item</td>\n",
       "      <td>/furniture_images/1634011559590_New Spring Mat...</td>\n",
       "    </tr>\n",
       "    <tr>\n",
       "      <th>4</th>\n",
       "      <td>exclusive 6 by teak box bed with spring mattress</td>\n",
       "      <td>Bed / bedroom item</td>\n",
       "      <td>/furniture_images/1634011559751_Exclusive 6 by...</td>\n",
       "    </tr>\n",
       "  </tbody>\n",
       "</table>\n",
       "</div>"
      ],
      "text/plain": [
       "                                               Label      Furniture_Type  \\\n",
       "0                                     furniture set                Other   \n",
       "1                                      bed room set   Bed / bedroom item   \n",
       "2           6by6 teak box bed with hybrids mattress   Bed / bedroom item   \n",
       "3                               new spring mattress   Bed / bedroom item   \n",
       "4  exclusive 6 by teak box bed with spring mattress   Bed / bedroom item   \n",
       "\n",
       "                                          Image_File  \n",
       "0  /furniture_images/1634011558853_Furniture Set ...  \n",
       "1  /furniture_images/1634011559093_Bed Room Set f...  \n",
       "2  /furniture_images/1634011559259_6by6 Teak Box ...  \n",
       "3  /furniture_images/1634011559590_New Spring Mat...  \n",
       "4  /furniture_images/1634011559751_Exclusive 6 by...  "
      ]
     },
     "execution_count": 40,
     "metadata": {},
     "output_type": "execute_result"
    }
   ],
   "source": [
    "Flist = pd.read_csv(\"furniture_data_img.csv\")\n",
    "Flist.head()"
   ]
  },
  {
   "cell_type": "code",
   "execution_count": 13,
   "id": "67ff757a",
   "metadata": {},
   "outputs": [
    {
     "name": "stdout",
     "output_type": "stream",
     "text": [
      "<class 'pandas.core.frame.DataFrame'>\n",
      "RangeIndex: 9346 entries, 0 to 9345\n",
      "Data columns (total 3 columns):\n",
      " #   Column          Non-Null Count  Dtype \n",
      "---  ------          --------------  ----- \n",
      " 0   Label           9346 non-null   object\n",
      " 1   Furniture_Type  9346 non-null   object\n",
      " 2   Image_File      9346 non-null   object\n",
      "dtypes: object(3)\n",
      "memory usage: 219.2+ KB\n"
     ]
    }
   ],
   "source": [
    "Flist.info()"
   ]
  },
  {
   "cell_type": "markdown",
   "id": "1d155ecc",
   "metadata": {},
   "source": [
    "- 데이터에는 가구의 유형을 크게 나눈 Furniture_Type 변수와 세부적인 분류로 나눈 Label 변수가 있다."
   ]
  },
  {
   "cell_type": "code",
   "execution_count": 12,
   "id": "93986ed8",
   "metadata": {},
   "outputs": [
    {
     "data": {
      "text/plain": [
       "Bed / bedroom item         3043\n",
       "Table / chair              2419\n",
       "Sofa / living room item    1813\n",
       "Storage                    1326\n",
       "Other                       270\n",
       "TV / stereo                 244\n",
       "Antique / art               209\n",
       "Textiles / decoration        21\n",
       "Lighting                      1\n",
       "Name: Furniture_Type, dtype: int64"
      ]
     },
     "execution_count": 12,
     "metadata": {},
     "output_type": "execute_result"
    }
   ],
   "source": [
    "Flist['Furniture_Type'].value_counts()"
   ]
  },
  {
   "cell_type": "code",
   "execution_count": 11,
   "id": "8a4c1215",
   "metadata": {},
   "outputs": [
    {
     "data": {
      "text/plain": [
       "sofa set                                                             337\n",
       "tv stand                                                             125\n",
       "table                                                                 98\n",
       "dressing table                                                        61\n",
       "office chair                                                          48\n",
       "                                                                    ... \n",
       "depo teak heavy modern dining table and 6 chairs code 8184             1\n",
       "spring bed (single)                                                    1\n",
       "teak large melon sofa set with glass stool - tlms055                   1\n",
       "teak heavy modern indian box sofa set with stone table code 9014       1\n",
       "tv cupbord                                                             1\n",
       "Name: Label, Length: 6793, dtype: int64"
      ]
     },
     "execution_count": 11,
     "metadata": {},
     "output_type": "execute_result"
    }
   ],
   "source": [
    "Flist['Label'].value_counts()"
   ]
  },
  {
   "cell_type": "markdown",
   "id": "b646949a",
   "metadata": {},
   "source": [
    "value_counts() 결과에 따르면 Furniture_Type은 9개의 범주로 이루어져 있고 Label 변수는 무려 6793개의 범주로 이루어져 있다.    \n",
    "Label 변수를 타겟변수로 사용하기에는 범주가 매우 많다고 판단하여 Furiture_Type 변수를 타겟변수로 사용한다.    \n",
    "Furniture_Type의 범주 중 Lighting의 경우 데이터가 1개밖에 없으므로 train, valid, test set으로 나눌 수 없다. 따라서 해당 데이터는 삭제한다."
   ]
  },
  {
   "cell_type": "code",
   "execution_count": 17,
   "id": "00cf46a5",
   "metadata": {
    "scrolled": true
   },
   "outputs": [
    {
     "data": {
      "text/html": [
       "<div>\n",
       "<style scoped>\n",
       "    .dataframe tbody tr th:only-of-type {\n",
       "        vertical-align: middle;\n",
       "    }\n",
       "\n",
       "    .dataframe tbody tr th {\n",
       "        vertical-align: top;\n",
       "    }\n",
       "\n",
       "    .dataframe thead th {\n",
       "        text-align: right;\n",
       "    }\n",
       "</style>\n",
       "<table border=\"1\" class=\"dataframe\">\n",
       "  <thead>\n",
       "    <tr style=\"text-align: right;\">\n",
       "      <th></th>\n",
       "      <th>Label</th>\n",
       "      <th>Furniture_Type</th>\n",
       "      <th>Image_File</th>\n",
       "    </tr>\n",
       "  </thead>\n",
       "  <tbody>\n",
       "    <tr>\n",
       "      <th>265</th>\n",
       "      <td>lamp stand</td>\n",
       "      <td>Lighting</td>\n",
       "      <td>/furniture_images/1634012522134_Lamp Stand for...</td>\n",
       "    </tr>\n",
       "  </tbody>\n",
       "</table>\n",
       "</div>"
      ],
      "text/plain": [
       "           Label Furniture_Type  \\\n",
       "265  lamp stand        Lighting   \n",
       "\n",
       "                                            Image_File  \n",
       "265  /furniture_images/1634012522134_Lamp Stand for...  "
      ]
     },
     "execution_count": 17,
     "metadata": {},
     "output_type": "execute_result"
    }
   ],
   "source": [
    "Flist[Flist['Furniture_Type']=='Lighting']"
   ]
  },
  {
   "cell_type": "code",
   "execution_count": 41,
   "id": "e20bd0f3",
   "metadata": {},
   "outputs": [],
   "source": [
    "Flist = Flist.drop(265, axis=0).reset_index(drop=True)"
   ]
  },
  {
   "cell_type": "markdown",
   "id": "4573fc29",
   "metadata": {},
   "source": [
    "- 이후 데이터를 로드할 때 편의를 위해 현재 Image_File 내 값의 앞부분에 붙어있는 /furniture_images/ 를 제외한다."
   ]
  },
  {
   "cell_type": "code",
   "execution_count": 42,
   "id": "e8663f39",
   "metadata": {},
   "outputs": [],
   "source": [
    "Flist['Image_File']=[file.split(\"/\")[2] for file in Flist['Image_File']]"
   ]
  },
  {
   "cell_type": "code",
   "execution_count": 71,
   "id": "4cd4729b",
   "metadata": {},
   "outputs": [
    {
     "data": {
      "text/html": [
       "<div>\n",
       "<style scoped>\n",
       "    .dataframe tbody tr th:only-of-type {\n",
       "        vertical-align: middle;\n",
       "    }\n",
       "\n",
       "    .dataframe tbody tr th {\n",
       "        vertical-align: top;\n",
       "    }\n",
       "\n",
       "    .dataframe thead th {\n",
       "        text-align: right;\n",
       "    }\n",
       "</style>\n",
       "<table border=\"1\" class=\"dataframe\">\n",
       "  <thead>\n",
       "    <tr style=\"text-align: right;\">\n",
       "      <th></th>\n",
       "      <th>Label</th>\n",
       "      <th>Furniture_Type</th>\n",
       "      <th>Image_File</th>\n",
       "    </tr>\n",
       "  </thead>\n",
       "  <tbody>\n",
       "    <tr>\n",
       "      <th>0</th>\n",
       "      <td>furniture set</td>\n",
       "      <td>Other</td>\n",
       "      <td>1634011558853_Furniture Set for sale.jpg</td>\n",
       "    </tr>\n",
       "    <tr>\n",
       "      <th>1</th>\n",
       "      <td>bed room set</td>\n",
       "      <td>Bed / bedroom item</td>\n",
       "      <td>1634011559093_Bed Room Set for sale.jpg</td>\n",
       "    </tr>\n",
       "    <tr>\n",
       "      <th>2</th>\n",
       "      <td>6by6 teak box bed with hybrids mattress</td>\n",
       "      <td>Bed / bedroom item</td>\n",
       "      <td>1634011559259_6by6 Teak Box Bed with Hybrids M...</td>\n",
       "    </tr>\n",
       "    <tr>\n",
       "      <th>3</th>\n",
       "      <td>new spring mattress</td>\n",
       "      <td>Bed / bedroom item</td>\n",
       "      <td>1634011559590_New Spring Mattress for sale.jpg</td>\n",
       "    </tr>\n",
       "    <tr>\n",
       "      <th>4</th>\n",
       "      <td>exclusive 6 by teak box bed with spring mattress</td>\n",
       "      <td>Bed / bedroom item</td>\n",
       "      <td>1634011559751_Exclusive 6 by Teak Box Bed with...</td>\n",
       "    </tr>\n",
       "  </tbody>\n",
       "</table>\n",
       "</div>"
      ],
      "text/plain": [
       "                                               Label      Furniture_Type  \\\n",
       "0                                     furniture set                Other   \n",
       "1                                      bed room set   Bed / bedroom item   \n",
       "2           6by6 teak box bed with hybrids mattress   Bed / bedroom item   \n",
       "3                               new spring mattress   Bed / bedroom item   \n",
       "4  exclusive 6 by teak box bed with spring mattress   Bed / bedroom item   \n",
       "\n",
       "                                          Image_File  \n",
       "0           1634011558853_Furniture Set for sale.jpg  \n",
       "1            1634011559093_Bed Room Set for sale.jpg  \n",
       "2  1634011559259_6by6 Teak Box Bed with Hybrids M...  \n",
       "3     1634011559590_New Spring Mattress for sale.jpg  \n",
       "4  1634011559751_Exclusive 6 by Teak Box Bed with...  "
      ]
     },
     "execution_count": 71,
     "metadata": {},
     "output_type": "execute_result"
    }
   ],
   "source": [
    "Flist.head()"
   ]
  },
  {
   "cell_type": "markdown",
   "id": "661ccc8c",
   "metadata": {},
   "source": [
    "- Image_File의 일부 값 중 특수문자로 불러와지는 값들이 있다."
   ]
  },
  {
   "cell_type": "code",
   "execution_count": 77,
   "id": "a706c6b5",
   "metadata": {
    "scrolled": true
   },
   "outputs": [
    {
     "data": {
      "text/html": [
       "<div>\n",
       "<style scoped>\n",
       "    .dataframe tbody tr th:only-of-type {\n",
       "        vertical-align: middle;\n",
       "    }\n",
       "\n",
       "    .dataframe tbody tr th {\n",
       "        vertical-align: top;\n",
       "    }\n",
       "\n",
       "    .dataframe thead th {\n",
       "        text-align: right;\n",
       "    }\n",
       "</style>\n",
       "<table border=\"1\" class=\"dataframe\">\n",
       "  <thead>\n",
       "    <tr style=\"text-align: right;\">\n",
       "      <th></th>\n",
       "      <th>Label</th>\n",
       "      <th>Furniture_Type</th>\n",
       "      <th>Image_File</th>\n",
       "    </tr>\n",
       "  </thead>\n",
       "  <tbody>\n",
       "    <tr>\n",
       "      <th>1</th>\n",
       "      <td>bed room set</td>\n",
       "      <td>Bed / bedroom item</td>\n",
       "      <td>1634011559093_Bed Room Set for sale.jpg</td>\n",
       "    </tr>\n",
       "    <tr>\n",
       "      <th>2</th>\n",
       "      <td>6by6 teak box bed with hybrids mattress</td>\n",
       "      <td>Bed / bedroom item</td>\n",
       "      <td>1634011559259_6by6 Teak Box Bed with Hybrids M...</td>\n",
       "    </tr>\n",
       "    <tr>\n",
       "      <th>3</th>\n",
       "      <td>new spring mattress</td>\n",
       "      <td>Bed / bedroom item</td>\n",
       "      <td>1634011559590_New Spring Mattress for sale.jpg</td>\n",
       "    </tr>\n",
       "    <tr>\n",
       "      <th>4</th>\n",
       "      <td>exclusive 6 by teak box bed with spring mattress</td>\n",
       "      <td>Bed / bedroom item</td>\n",
       "      <td>1634011559751_Exclusive 6 by Teak Box Bed with...</td>\n",
       "    </tr>\n",
       "    <tr>\n",
       "      <th>5</th>\n",
       "      <td>tv stand</td>\n",
       "      <td>TV / stereo</td>\n",
       "      <td>1634011559907_Tv Stand for sale.jpg</td>\n",
       "    </tr>\n",
       "    <tr>\n",
       "      <th>6</th>\n",
       "      <td>exclusive 6 by 5 teak box bed with spring matt...</td>\n",
       "      <td>Bed / bedroom item</td>\n",
       "      <td>1634011560082_Exclusive 6 by 5 Teak Box Bed wi...</td>\n",
       "    </tr>\n",
       "    <tr>\n",
       "      <th>7</th>\n",
       "      <td>new phoenix 6 pc drawer set</td>\n",
       "      <td>Storage</td>\n",
       "      <td>1634011560266_New Phoenix 6 Pc Drawer Set for ...</td>\n",
       "    </tr>\n",
       "    <tr>\n",
       "      <th>8</th>\n",
       "      <td>exclusive 6 by teak box bed</td>\n",
       "      <td>Bed / bedroom item</td>\n",
       "      <td>1634011560797_Exclusive 6 by Teak Box Bed for ...</td>\n",
       "    </tr>\n",
       "    <tr>\n",
       "      <th>9</th>\n",
       "      <td>tv stand</td>\n",
       "      <td>TV / stereo</td>\n",
       "      <td>1634011561104_Tv Stand for sale.jpg</td>\n",
       "    </tr>\n",
       "    <tr>\n",
       "      <th>10</th>\n",
       "      <td>coffee table</td>\n",
       "      <td>Table / chair</td>\n",
       "      <td>1634011561290_Coffee table for sale.jpg</td>\n",
       "    </tr>\n",
       "    <tr>\n",
       "      <th>11</th>\n",
       "      <td>teek box bed 6by4</td>\n",
       "      <td>Bed / bedroom item</td>\n",
       "      <td>1634011561486_Teek box bed 6by4 for sale.jpg</td>\n",
       "    </tr>\n",
       "    <tr>\n",
       "      <th>12</th>\n",
       "      <td>6by6 teak box bed with mattress piyestra</td>\n",
       "      <td>Bed / bedroom item</td>\n",
       "      <td>1634011561656_6by6 Teak Box Bed with Mattress ...</td>\n",
       "    </tr>\n",
       "    <tr>\n",
       "      <th>13</th>\n",
       "      <td>tv stand</td>\n",
       "      <td>TV / stereo</td>\n",
       "      <td>1634011561826_Tv Stand for sale.jpg</td>\n",
       "    </tr>\n",
       "    <tr>\n",
       "      <th>14</th>\n",
       "      <td>new 2d cupboards</td>\n",
       "      <td>Bed / bedroom item</td>\n",
       "      <td>1634011562224_New 2D Cupboards for sale.jpg</td>\n",
       "    </tr>\n",
       "    <tr>\n",
       "      <th>15</th>\n",
       "      <td>tv stand</td>\n",
       "      <td>TV / stereo</td>\n",
       "      <td>1634011562400_Tv Stand for sale.jpg</td>\n",
       "    </tr>\n",
       "    <tr>\n",
       "      <th>16</th>\n",
       "      <td>table</td>\n",
       "      <td>Table / chair</td>\n",
       "      <td>1634011562601_Table for sale.jpg</td>\n",
       "    </tr>\n",
       "    <tr>\n",
       "      <th>17</th>\n",
       "      <td>6 by 5 teak box bed with mattress piyestra</td>\n",
       "      <td>Bed / bedroom item</td>\n",
       "      <td>1634011562765_6 by 5 Teak box bed with mattres...</td>\n",
       "    </tr>\n",
       "    <tr>\n",
       "      <th>18</th>\n",
       "      <td>damro sofa set</td>\n",
       "      <td>Sofa / living room item</td>\n",
       "      <td>1634011562917_Damro Sofa Set for sale.jpg</td>\n",
       "    </tr>\n",
       "    <tr>\n",
       "      <th>19</th>\n",
       "      <td>tv stand</td>\n",
       "      <td>TV / stereo</td>\n",
       "      <td>1634011563066_Tv Stand for sale.jpg</td>\n",
       "    </tr>\n",
       "    <tr>\n",
       "      <th>20</th>\n",
       "      <td>tv stand</td>\n",
       "      <td>TV / stereo</td>\n",
       "      <td>1634011563296_Tv Stand for sale.jpg</td>\n",
       "    </tr>\n",
       "    <tr>\n",
       "      <th>21</th>\n",
       "      <td>tv stand</td>\n",
       "      <td>TV / stereo</td>\n",
       "      <td>1634011563463_Tv Stand for sale.jpg</td>\n",
       "    </tr>\n",
       "    <tr>\n",
       "      <th>22</th>\n",
       "      <td>new office cupboard 4 x 3</td>\n",
       "      <td>Storage</td>\n",
       "      <td>1634011563649_New Office Cupboard 4 X 3 for sa...</td>\n",
       "    </tr>\n",
       "    <tr>\n",
       "      <th>23</th>\n",
       "      <td>new steel office cupboard</td>\n",
       "      <td>Storage</td>\n",
       "      <td>1634011563799_New Steel Office Cupboard for sa...</td>\n",
       "    </tr>\n",
       "    <tr>\n",
       "      <th>24</th>\n",
       "      <td>tv stand</td>\n",
       "      <td>TV / stereo</td>\n",
       "      <td>1634011563959_Tv Stand for sale.jpg</td>\n",
       "    </tr>\n",
       "    <tr>\n",
       "      <th>25</th>\n",
       "      <td>tv stand</td>\n",
       "      <td>TV / stereo</td>\n",
       "      <td>1634011564138_Tv Stand for sale.jpg</td>\n",
       "    </tr>\n",
       "    <tr>\n",
       "      <th>26</th>\n",
       "      <td>new steel office cupboard glass</td>\n",
       "      <td>Storage</td>\n",
       "      <td>1634011564289_New Steel Office Cupboard Glass ...</td>\n",
       "    </tr>\n",
       "    <tr>\n",
       "      <th>27</th>\n",
       "      <td>steel single bed/à¶ºà¶à¶© à¶à¶¯à¶±à·.. 6*2.5</td>\n",
       "      <td>Bed / bedroom item</td>\n",
       "      <td>1634011779654_Steel Single Bedà¶ºà¶à¶© à¶à¶¯...</td>\n",
       "    </tr>\n",
       "    <tr>\n",
       "      <th>28</th>\n",
       "      <td>edh001 executive high back office chair</td>\n",
       "      <td>Table / chair</td>\n",
       "      <td>1634011779918_EDH001 Executive High Back Offic...</td>\n",
       "    </tr>\n",
       "    <tr>\n",
       "      <th>29</th>\n",
       "      <td>tv stand</td>\n",
       "      <td>TV / stereo</td>\n",
       "      <td>1634011780105_Tv Stand for sale.jpg</td>\n",
       "    </tr>\n",
       "  </tbody>\n",
       "</table>\n",
       "</div>"
      ],
      "text/plain": [
       "                                                Label  \\\n",
       "1                                       bed room set    \n",
       "2            6by6 teak box bed with hybrids mattress    \n",
       "3                                new spring mattress    \n",
       "4   exclusive 6 by teak box bed with spring mattress    \n",
       "5                                           tv stand    \n",
       "6   exclusive 6 by 5 teak box bed with spring matt...   \n",
       "7                        new phoenix 6 pc drawer set    \n",
       "8                        exclusive 6 by teak box bed    \n",
       "9                                           tv stand    \n",
       "10                                      coffee table    \n",
       "11                                 teek box bed 6by4    \n",
       "12          6by6 teak box bed with mattress piyestra    \n",
       "13                                          tv stand    \n",
       "14                                  new 2d cupboards    \n",
       "15                                          tv stand    \n",
       "16                                             table    \n",
       "17        6 by 5 teak box bed with mattress piyestra    \n",
       "18                                    damro sofa set    \n",
       "19                                          tv stand    \n",
       "20                                          tv stand    \n",
       "21                                          tv stand    \n",
       "22                         new office cupboard 4 x 3    \n",
       "23                         new steel office cupboard    \n",
       "24                                          tv stand    \n",
       "25                                          tv stand    \n",
       "26                   new steel office cupboard glass    \n",
       "27   steel single bed/à¶ºà¶à¶© à¶à¶¯à¶±à·.. 6*2.5    \n",
       "28           edh001 executive high back office chair    \n",
       "29                                          tv stand    \n",
       "\n",
       "             Furniture_Type                                         Image_File  \n",
       "1        Bed / bedroom item            1634011559093_Bed Room Set for sale.jpg  \n",
       "2        Bed / bedroom item  1634011559259_6by6 Teak Box Bed with Hybrids M...  \n",
       "3        Bed / bedroom item     1634011559590_New Spring Mattress for sale.jpg  \n",
       "4        Bed / bedroom item  1634011559751_Exclusive 6 by Teak Box Bed with...  \n",
       "5               TV / stereo                1634011559907_Tv Stand for sale.jpg  \n",
       "6        Bed / bedroom item  1634011560082_Exclusive 6 by 5 Teak Box Bed wi...  \n",
       "7                   Storage  1634011560266_New Phoenix 6 Pc Drawer Set for ...  \n",
       "8        Bed / bedroom item  1634011560797_Exclusive 6 by Teak Box Bed for ...  \n",
       "9               TV / stereo                1634011561104_Tv Stand for sale.jpg  \n",
       "10            Table / chair            1634011561290_Coffee table for sale.jpg  \n",
       "11       Bed / bedroom item       1634011561486_Teek box bed 6by4 for sale.jpg  \n",
       "12       Bed / bedroom item  1634011561656_6by6 Teak Box Bed with Mattress ...  \n",
       "13              TV / stereo                1634011561826_Tv Stand for sale.jpg  \n",
       "14       Bed / bedroom item        1634011562224_New 2D Cupboards for sale.jpg  \n",
       "15              TV / stereo                1634011562400_Tv Stand for sale.jpg  \n",
       "16            Table / chair                   1634011562601_Table for sale.jpg  \n",
       "17       Bed / bedroom item  1634011562765_6 by 5 Teak box bed with mattres...  \n",
       "18  Sofa / living room item          1634011562917_Damro Sofa Set for sale.jpg  \n",
       "19              TV / stereo                1634011563066_Tv Stand for sale.jpg  \n",
       "20              TV / stereo                1634011563296_Tv Stand for sale.jpg  \n",
       "21              TV / stereo                1634011563463_Tv Stand for sale.jpg  \n",
       "22                  Storage  1634011563649_New Office Cupboard 4 X 3 for sa...  \n",
       "23                  Storage  1634011563799_New Steel Office Cupboard for sa...  \n",
       "24              TV / stereo                1634011563959_Tv Stand for sale.jpg  \n",
       "25              TV / stereo                1634011564138_Tv Stand for sale.jpg  \n",
       "26                  Storage  1634011564289_New Steel Office Cupboard Glass ...  \n",
       "27       Bed / bedroom item  1634011779654_Steel Single Bedà¶ºà¶à¶© à¶à¶¯...  \n",
       "28            Table / chair  1634011779918_EDH001 Executive High Back Offic...  \n",
       "29              TV / stereo                1634011780105_Tv Stand for sale.jpg  "
      ]
     },
     "execution_count": 77,
     "metadata": {},
     "output_type": "execute_result"
    }
   ],
   "source": [
    "Flist[1:30]"
   ]
  },
  {
   "attachments": {
    "image.png": {
     "image/png": "[encoded data removed]"
    }
   },
   "cell_type": "markdown",
   "id": "a1d7a7d6",
   "metadata": {},
   "source": [
    "출력한 앞부분의 데이터들 중 27번째 값에서 영어가 아닌 다른 문자가 확인된다.      \n",
    "![image.png](attachment:image.png)\n",
    "실제로 파일명을 검색해서 찾아보면 해당 데이터는 다음과 같이 알 수 없는 말로 표현된 제목을 가진 파일이다. 이 경우 데이터를 로드할 때 인식이 불가능하므로 영어 대소문자와 숫자, 언더바를 제외한 문자가 포함된 경우는 분석에서 제외한다.    \n",
    "우선 이에 해당하는 파일이 몇개인지 확인해본다."
   ]
  },
  {
   "cell_type": "code",
   "execution_count": 43,
   "id": "9679aa32",
   "metadata": {},
   "outputs": [
    {
     "data": {
      "text/plain": [
       "366"
      ]
     },
     "execution_count": 43,
     "metadata": {},
     "output_type": "execute_result"
    }
   ],
   "source": [
    "count = 0\n",
    "for i in range(len(Flist['Image_File'])):\n",
    "    if re.search('[^a-zA-Z0-9_. ]', Flist['Image_File'][i]):\n",
    "        count += 1\n",
    "count"
   ]
  },
  {
   "cell_type": "code",
   "execution_count": 44,
   "id": "1f53578c",
   "metadata": {},
   "outputs": [],
   "source": [
    "dropidx = []\n",
    "for i in range(len(Flist['Image_File'])):\n",
    "    if re.search('[^a-zA-Z0-9_. ]', Flist['Image_File'][i]):\n",
    "        dropidx.append(i)\n",
    "Flist = Flist.drop(dropidx, axis=0).reset_index(drop=True)"
   ]
  },
  {
   "cell_type": "markdown",
   "id": "d0e69c85",
   "metadata": {},
   "source": [
    "- 1개의 이미지를 불러와서 shape을 확인하고 이미지를 시각화해본다."
   ]
  },
  {
   "cell_type": "code",
   "execution_count": 123,
   "id": "b1c38afd",
   "metadata": {},
   "outputs": [
    {
     "data": {
      "text/plain": [
       "(120, 160, 3)"
      ]
     },
     "execution_count": 123,
     "metadata": {},
     "output_type": "execute_result"
    }
   ],
   "source": [
    "path='./furniture_images/1634011558853_Furniture Set for sale.jpg'\n",
    "\n",
    "image_pil = Image.open(path)\n",
    "image = np.array(image_pil)\n",
    "image.shape"
   ]
  },
  {
   "cell_type": "code",
   "execution_count": 125,
   "id": "4c8170b3",
   "metadata": {},
   "outputs": [
    {
     "data": {
      "image/png": "[encoded data removed]",
      "text/plain": [
       "<Figure size 432x288 with 1 Axes>"
      ]
     },
     "metadata": {
      "needs_background": "light"
     },
     "output_type": "display_data"
    }
   ],
   "source": [
    "plt.imshow(image);"
   ]
  },
  {
   "cell_type": "markdown",
   "id": "18ea5a05",
   "metadata": {},
   "source": [
    "사진은 (120, 160, 3)의 크기를 갖는다."
   ]
  },
  {
   "cell_type": "markdown",
   "id": "2586c0a6",
   "metadata": {},
   "source": [
    "- train, validation, test set으로 나눠 각 label별로 해당 사진들이 담긴 폴더를 만든다."
   ]
  },
  {
   "cell_type": "code",
   "execution_count": 4,
   "id": "d700d18f",
   "metadata": {},
   "outputs": [],
   "source": [
    "# 현재 이미지 파일이 있는 경로 지정\n",
    "original_dataset_dir = './furniture_images'\n",
    "\n",
    "# label별 폴더를 만들 경로 지정\n",
    "base_dir = './Furniture'\n",
    "\n",
    "# train/validation/test 폴더 생성\n",
    "train_dir = os.path.join(base_dir, 'train')\n",
    "#os.mkdir(train_dir)\n",
    "valid_dir = os.path.join(base_dir, 'valid')\n",
    "#os.mkdir(valid_dir)\n",
    "test_dir = os.path.join(base_dir, 'test')\n",
    "#os.mkdir(test_dir)"
   ]
  },
  {
   "cell_type": "code",
   "execution_count": 20,
   "id": "6ca5824a",
   "metadata": {},
   "outputs": [],
   "source": [
    "# label별 train, valid, test set 경로 지정\n",
    "train_bb_dir = os.path.join(train_dir, 'Bed_bedroom item') ; os.mkdir(train_bb_dir)\n",
    "train_tc_dir = os.path.join(train_dir, 'Table_chair') ; os.mkdir(train_tc_dir)\n",
    "train_sl_dir = os.path.join(train_dir, 'sofa_living room item') ; os.mkdir(train_sl_dir)\n",
    "train_st_dir = os.path.join(train_dir, 'Storage') ; os.mkdir(train_st_dir)\n",
    "train_ot_dir = os.path.join(train_dir, 'Other') ; os.mkdir(train_ot_dir)\n",
    "train_ts_dir = os.path.join(train_dir, 'TV_stereo') ; os.mkdir(train_ts_dir)\n",
    "train_aa_dir = os.path.join(train_dir, 'Antique_art') ; os.mkdir(train_aa_dir)\n",
    "train_td_dir = os.path.join(train_dir, 'Textiles_decoration') ; os.mkdir(train_td_dir)\n",
    "\n",
    "valid_bb_dir = os.path.join(valid_dir, 'Bed_bedroom item') ; os.mkdir(valid_bb_dir)\n",
    "valid_tc_dir = os.path.join(valid_dir, 'Table_chair') ; os.mkdir(valid_tc_dir)\n",
    "valid_sl_dir = os.path.join(valid_dir, 'sofa_living room item') ; os.mkdir(valid_sl_dir)\n",
    "valid_st_dir = os.path.join(valid_dir, 'Storage') ; os.mkdir(valid_st_dir)\n",
    "valid_ot_dir = os.path.join(valid_dir, 'Other') ; os.mkdir(valid_ot_dir)\n",
    "valid_ts_dir = os.path.join(valid_dir, 'TV_stereo') ; os.mkdir(valid_ts_dir)\n",
    "valid_aa_dir = os.path.join(valid_dir, 'Antique_art') ; os.mkdir(valid_aa_dir)\n",
    "valid_td_dir = os.path.join(valid_dir, 'Textiles_decoration') ; os.mkdir(valid_td_dir)\n",
    "\n",
    "test_bb_dir = os.path.join(test_dir, 'Bed_bedroom item') ; os.mkdir(test_bb_dir)\n",
    "test_tc_dir = os.path.join(test_dir, 'Table_chair') ; os.mkdir(test_tc_dir)\n",
    "test_sl_dir = os.path.join(test_dir, 'sofa_living room item') ; os.mkdir(test_sl_dir)\n",
    "test_st_dir = os.path.join(test_dir, 'Storage') ; os.mkdir(test_st_dir)\n",
    "test_ot_dir = os.path.join(test_dir, 'Other') ; os.mkdir(test_ot_dir)\n",
    "test_ts_dir = os.path.join(test_dir, 'TV_stereo') ; os.mkdir(test_ts_dir)\n",
    "test_aa_dir = os.path.join(test_dir, 'Antique_art') ; os.mkdir(test_aa_dir)\n",
    "test_td_dir = os.path.join(test_dir, 'Textiles_decoration') ; os.mkdir(test_td_dir)"
   ]
  },
  {
   "cell_type": "code",
   "execution_count": 116,
   "id": "17798aea",
   "metadata": {},
   "outputs": [
    {
     "name": "stdout",
     "output_type": "stream",
     "text": [
      "Bed / bedroom item 1703.3999999999999 567.8000000000001\n",
      "Table / chair 1422.6 474.20000000000005\n",
      "Sofa / living room item 1070.3999999999999 356.8\n",
      "Storage 778.8 259.6\n",
      "Other 143.4 47.800000000000004\n",
      "TV / stereo 144.6 48.2\n",
      "Antique / art 112.8 37.6\n",
      "Textiles / decoration 11.4 3.8000000000000003\n"
     ]
    }
   ],
   "source": [
    "# label별 파일명 지정, train/valid/test set 분리를 위해 0.6/0.2 비율 확인\n",
    "file_bb=Flist[Flist['Furniture_Type']=='Bed / bedroom item']['Image_File']\n",
    "print(\"Bed / bedroom item\", len(file_bb)*0.6, len(file_bb)*0.2)\n",
    "file_tc=Flist[Flist['Furniture_Type']=='Table / chair']['Image_File']\n",
    "print(\"Table / chair\", len(file_tc)*0.6, len(file_tc)*0.2)\n",
    "file_sl=Flist[Flist['Furniture_Type']=='Sofa / living room item']['Image_File']\n",
    "print(\"Sofa / living room item\", len(file_sl)*0.6, len(file_sl)*0.2)\n",
    "file_st=Flist[Flist['Furniture_Type']=='Storage']['Image_File']\n",
    "print(\"Storage\", len(file_st)*0.6, len(file_st)*0.2)\n",
    "file_ot=Flist[Flist['Furniture_Type']=='Other']['Image_File']\n",
    "print(\"Other\", len(file_ot)*0.6, len(file_ot)*0.2)\n",
    "file_ts=Flist[Flist['Furniture_Type']=='TV / stereo']['Image_File']\n",
    "print(\"TV / stereo\", len(file_ts)*0.6, len(file_ts)*0.2)\n",
    "file_aa=Flist[Flist['Furniture_Type']=='Antique / art']['Image_File']\n",
    "print(\"Antique / art\", len(file_aa)*0.6, len(file_aa)*0.2)\n",
    "file_td=Flist[Flist['Furniture_Type']=='Textiles / decoration']['Image_File']\n",
    "print(\"Textiles / decoration\", len(file_td)*0.6, len(file_td)*0.2)"
   ]
  },
  {
   "cell_type": "markdown",
   "id": "6bac6fa2",
   "metadata": {},
   "source": [
    "train:valid:test = 6:2:2 의 비율로 나눈다."
   ]
  },
  {
   "cell_type": "code",
   "execution_count": 118,
   "id": "42c06d4f",
   "metadata": {
    "scrolled": true
   },
   "outputs": [],
   "source": [
    "# train file path\n",
    "for fname in file_bb[:1703].reset_index(drop=True):\n",
    "    src = os.path.join(original_dataset_dir, fname)\n",
    "    dst = os.path.join(train_bb_dir,fname)\n",
    "    shutil.copyfile(src, dst)\n",
    "\n",
    "for fname in file_tc[:1423].reset_index(drop=True):\n",
    "    src = os.path.join(original_dataset_dir, fname)\n",
    "    dst = os.path.join(train_tc_dir, fname)\n",
    "    shutil.copyfile(src, dst)\n",
    "    \n",
    "for fname in file_sl[:1070].reset_index(drop=True):\n",
    "    src = os.path.join(original_dataset_dir, fname)\n",
    "    dst = os.path.join(train_sl_dir, fname)\n",
    "    shutil.copyfile(src, dst)\n",
    "    \n",
    "for fname in file_st[:779].reset_index(drop=True):\n",
    "    src = os.path.join(original_dataset_dir, fname)\n",
    "    dst = os.path.join(train_st_dir, fname)\n",
    "    shutil.copyfile(src, dst)\n",
    "    \n",
    "for fname in file_ot[:143].reset_index(drop=True):\n",
    "    src = os.path.join(original_dataset_dir, fname)\n",
    "    dst = os.path.join(train_ot_dir, fname)\n",
    "    shutil.copyfile(src, dst)\n",
    "    \n",
    "for fname in file_ts[:145].reset_index(drop=True):\n",
    "    src = os.path.join(original_dataset_dir, fname)\n",
    "    dst = os.path.join(train_ts_dir, fname)\n",
    "    shutil.copyfile(src, dst)\n",
    "    \n",
    "for fname in file_aa[:113].reset_index(drop=True):\n",
    "    src = os.path.join(original_dataset_dir, fname)\n",
    "    dst = os.path.join(train_aa_dir, fname)\n",
    "    shutil.copyfile(src, dst)\n",
    "    \n",
    "for fname in file_td[:11].reset_index(drop=True):\n",
    "    src = os.path.join(original_dataset_dir, fname)\n",
    "    dst = os.path.join(train_td_dir, fname)\n",
    "    shutil.copyfile(src, dst)"
   ]
  },
  {
   "cell_type": "code",
   "execution_count": 119,
   "id": "ca81fc63",
   "metadata": {},
   "outputs": [],
   "source": [
    "# valid file path\n",
    "for fname in file_bb[1703:(1703+568)].reset_index(drop=True):\n",
    "    src = os.path.join(original_dataset_dir, fname)\n",
    "    dst = os.path.join(valid_bb_dir,fname)\n",
    "    shutil.copyfile(src, dst)\n",
    "\n",
    "for fname in file_tc[1423:(1423+474)].reset_index(drop=True):\n",
    "    src = os.path.join(original_dataset_dir, fname)\n",
    "    dst = os.path.join(valid_tc_dir, fname)\n",
    "    shutil.copyfile(src, dst)\n",
    "    \n",
    "for fname in file_sl[1070:(1070+357)].reset_index(drop=True):\n",
    "    src = os.path.join(original_dataset_dir, fname)\n",
    "    dst = os.path.join(valid_sl_dir, fname)\n",
    "    shutil.copyfile(src, dst)\n",
    "    \n",
    "for fname in file_st[779:(779+260)].reset_index(drop=True):\n",
    "    src = os.path.join(original_dataset_dir, fname)\n",
    "    dst = os.path.join(valid_st_dir, fname)\n",
    "    shutil.copyfile(src, dst)\n",
    "    \n",
    "for fname in file_ot[143:(143+48)].reset_index(drop=True):\n",
    "    src = os.path.join(original_dataset_dir, fname)\n",
    "    dst = os.path.join(valid_ot_dir, fname)\n",
    "    shutil.copyfile(src, dst)\n",
    "    \n",
    "for fname in file_ts[145:(145+48)].reset_index(drop=True):\n",
    "    src = os.path.join(original_dataset_dir, fname)\n",
    "    dst = os.path.join(valid_ts_dir, fname)\n",
    "    shutil.copyfile(src, dst)\n",
    "    \n",
    "for fname in file_aa[113:(113+38)].reset_index(drop=True):\n",
    "    src = os.path.join(original_dataset_dir, fname)\n",
    "    dst = os.path.join(valid_aa_dir, fname)\n",
    "    shutil.copyfile(src, dst)\n",
    "    \n",
    "for fname in file_td[11:(11+4)].reset_index(drop=True):\n",
    "    src = os.path.join(original_dataset_dir, fname)\n",
    "    dst = os.path.join(valid_td_dir, fname)\n",
    "    shutil.copyfile(src, dst)"
   ]
  },
  {
   "cell_type": "code",
   "execution_count": 120,
   "id": "d175537b",
   "metadata": {},
   "outputs": [],
   "source": [
    "# test file path\n",
    "for fname in file_bb[(1703+568):].reset_index(drop=True):\n",
    "    src = os.path.join(original_dataset_dir, fname)\n",
    "    dst = os.path.join(test_bb_dir,fname)\n",
    "    shutil.copyfile(src, dst)\n",
    "\n",
    "for fname in file_tc[(1423+474):].reset_index(drop=True):\n",
    "    src = os.path.join(original_dataset_dir, fname)\n",
    "    dst = os.path.join(test_tc_dir, fname)\n",
    "    shutil.copyfile(src, dst)\n",
    "    \n",
    "for fname in file_sl[(1070+357):].reset_index(drop=True):\n",
    "    src = os.path.join(original_dataset_dir, fname)\n",
    "    dst = os.path.join(test_sl_dir, fname)\n",
    "    shutil.copyfile(src, dst)\n",
    "    \n",
    "for fname in file_st[(779+260):].reset_index(drop=True):\n",
    "    src = os.path.join(original_dataset_dir, fname)\n",
    "    dst = os.path.join(test_st_dir, fname)\n",
    "    shutil.copyfile(src, dst)\n",
    "    \n",
    "for fname in file_ot[(143+48):].reset_index(drop=True):\n",
    "    src = os.path.join(original_dataset_dir, fname)\n",
    "    dst = os.path.join(test_ot_dir, fname)\n",
    "    shutil.copyfile(src, dst)\n",
    "    \n",
    "for fname in file_ts[(145+48):].reset_index(drop=True):\n",
    "    src = os.path.join(original_dataset_dir, fname)\n",
    "    dst = os.path.join(test_ts_dir, fname)\n",
    "    shutil.copyfile(src, dst)\n",
    "    \n",
    "for fname in file_aa[(113+38):].reset_index(drop=True):\n",
    "    src = os.path.join(original_dataset_dir, fname)\n",
    "    dst = os.path.join(test_aa_dir, fname)\n",
    "    shutil.copyfile(src, dst)\n",
    "    \n",
    "for fname in file_td[(11+4):].reset_index(drop=True):\n",
    "    src = os.path.join(original_dataset_dir, fname)\n",
    "    dst = os.path.join(test_td_dir, fname)\n",
    "    shutil.copyfile(src, dst)"
   ]
  },
  {
   "cell_type": "markdown",
   "id": "811f6ba2",
   "metadata": {},
   "source": [
    "#### 모델링 1) 소형 합성망"
   ]
  },
  {
   "cell_type": "code",
   "execution_count": 8,
   "id": "158f19ad",
   "metadata": {},
   "outputs": [
    {
     "name": "stdout",
     "output_type": "stream",
     "text": [
      "Model: \"sequential\"\n",
      "_________________________________________________________________\n",
      "Layer (type)                 Output Shape              Param #   \n",
      "=================================================================\n",
      "conv2d (Conv2D)              (None, 118, 158, 32)      896       \n",
      "_________________________________________________________________\n",
      "max_pooling2d (MaxPooling2D) (None, 59, 79, 32)        0         \n",
      "_________________________________________________________________\n",
      "conv2d_1 (Conv2D)            (None, 57, 77, 64)        18496     \n",
      "_________________________________________________________________\n",
      "max_pooling2d_1 (MaxPooling2 (None, 28, 38, 64)        0         \n",
      "_________________________________________________________________\n",
      "conv2d_2 (Conv2D)            (None, 26, 36, 128)       73856     \n",
      "_________________________________________________________________\n",
      "max_pooling2d_2 (MaxPooling2 (None, 13, 18, 128)       0         \n",
      "_________________________________________________________________\n",
      "conv2d_3 (Conv2D)            (None, 11, 16, 128)       147584    \n",
      "_________________________________________________________________\n",
      "max_pooling2d_3 (MaxPooling2 (None, 5, 8, 128)         0         \n",
      "_________________________________________________________________\n",
      "flatten (Flatten)            (None, 5120)              0         \n",
      "_________________________________________________________________\n",
      "dense (Dense)                (None, 64)                327744    \n",
      "_________________________________________________________________\n",
      "dense_1 (Dense)              (None, 8)                 520       \n",
      "=================================================================\n",
      "Total params: 569,096\n",
      "Trainable params: 569,096\n",
      "Non-trainable params: 0\n",
      "_________________________________________________________________\n"
     ]
    }
   ],
   "source": [
    "model1 = models.Sequential()\n",
    "model1.add(layers.Conv2D(32, (3, 3), activation='relu', input_shape=(120, 160, 3))) \n",
    "model1.add(layers.MaxPooling2D((2, 2))) \n",
    "model1.add(layers.Conv2D(64, (3, 3), activation='relu')) \n",
    "model1.add(layers.MaxPooling2D((2, 2))) \n",
    "model1.add(layers.Conv2D(128, (3, 3), activation='relu')) \n",
    "model1.add(layers.MaxPooling2D((2, 2))) \n",
    "model1.add(layers.Conv2D(128, (3, 3), activation='relu')) \n",
    "model1.add(layers.MaxPooling2D((2, 2))) \n",
    "model1.add(layers.Flatten()) \n",
    "model1.add(layers.Dense(64, activation='relu')) \n",
    "model1.add(layers.Dense(8, activation='softmax'))\n",
    "\n",
    "model1.summary()"
   ]
  },
  {
   "cell_type": "code",
   "execution_count": 11,
   "id": "626fa741",
   "metadata": {},
   "outputs": [],
   "source": [
    "# compile\n",
    "model1.compile(loss='categorical_crossentropy', \n",
    "              optimizer=optimizers.SGD(lr=0.01), \n",
    "              metrics=[keras.metrics.categorical_accuracy])"
   ]
  },
  {
   "cell_type": "code",
   "execution_count": 2,
   "id": "e7d667aa",
   "metadata": {},
   "outputs": [],
   "source": [
    "# data generate\n",
    "train_datagen = ImageDataGenerator(rescale=1./255) \n",
    "test_datagen = ImageDataGenerator(rescale=1./255) "
   ]
  },
  {
   "cell_type": "code",
   "execution_count": 5,
   "id": "629ced85",
   "metadata": {},
   "outputs": [
    {
     "name": "stdout",
     "output_type": "stream",
     "text": [
      "Found 5387 images belonging to 8 classes.\n"
     ]
    }
   ],
   "source": [
    "# train set\n",
    "train_generator = train_datagen.flow_from_directory( \n",
    "    train_dir, target_size=(120, 160), batch_size=50, class_mode='categorical')"
   ]
  },
  {
   "cell_type": "code",
   "execution_count": 6,
   "id": "6edec5fe",
   "metadata": {},
   "outputs": [
    {
     "name": "stdout",
     "output_type": "stream",
     "text": [
      "Found 1797 images belonging to 8 classes.\n"
     ]
    }
   ],
   "source": [
    "# validation set\n",
    "validation_generator = test_datagen.flow_from_directory( \n",
    "    valid_dir, target_size=(120, 160), batch_size=50, class_mode='categorical')"
   ]
  },
  {
   "cell_type": "code",
   "execution_count": 7,
   "id": "78471820",
   "metadata": {},
   "outputs": [
    {
     "name": "stdout",
     "output_type": "stream",
     "text": [
      "(50, 120, 160, 3)\n",
      "(50, 8)\n"
     ]
    }
   ],
   "source": [
    "for data_batch, labels_batch in train_generator: \n",
    "    print(data_batch.shape) \n",
    "    print(labels_batch.shape) \n",
    "    break"
   ]
  },
  {
   "cell_type": "code",
   "execution_count": 12,
   "id": "47080a94",
   "metadata": {
    "scrolled": true
   },
   "outputs": [
    {
     "name": "stdout",
     "output_type": "stream",
     "text": [
      "Epoch 1/30\n",
      "100/100 [==============================] - 78s 773ms/step - loss: 1.6755 - categorical_accuracy: 0.3158 - val_loss: 1.5997 - val_categorical_accuracy: 0.3194\n",
      "Epoch 2/30\n",
      "100/100 [==============================] - 70s 702ms/step - loss: 1.5908 - categorical_accuracy: 0.3218 - val_loss: 1.5868 - val_categorical_accuracy: 0.3389\n",
      "Epoch 3/30\n",
      "100/100 [==============================] - 69s 689ms/step - loss: 1.5873 - categorical_accuracy: 0.3411 - val_loss: 1.5983 - val_categorical_accuracy: 0.3356\n",
      "Epoch 4/30\n",
      "100/100 [==============================] - 68s 679ms/step - loss: 1.5715 - categorical_accuracy: 0.3471 - val_loss: 1.5722 - val_categorical_accuracy: 0.3550\n",
      "Epoch 5/30\n",
      "100/100 [==============================] - 69s 687ms/step - loss: 1.5613 - categorical_accuracy: 0.3517 - val_loss: 1.5795 - val_categorical_accuracy: 0.3328\n",
      "Epoch 6/30\n",
      "100/100 [==============================] - 70s 704ms/step - loss: 1.5546 - categorical_accuracy: 0.3585 - val_loss: 1.5583 - val_categorical_accuracy: 0.3656\n",
      "Epoch 7/30\n",
      "100/100 [==============================] - 70s 702ms/step - loss: 1.5438 - categorical_accuracy: 0.3627 - val_loss: 1.6326 - val_categorical_accuracy: 0.3283\n",
      "Epoch 8/30\n",
      "100/100 [==============================] - 71s 708ms/step - loss: 1.5367 - categorical_accuracy: 0.3738 - val_loss: 1.5357 - val_categorical_accuracy: 0.3701\n",
      "Epoch 9/30\n",
      "100/100 [==============================] - 70s 697ms/step - loss: 1.5222 - categorical_accuracy: 0.3834 - val_loss: 1.5191 - val_categorical_accuracy: 0.3806\n",
      "Epoch 10/30\n",
      "100/100 [==============================] - 68s 678ms/step - loss: 1.5041 - categorical_accuracy: 0.3920 - val_loss: 1.5111 - val_categorical_accuracy: 0.3840\n",
      "Epoch 11/30\n",
      "100/100 [==============================] - 73s 727ms/step - loss: 1.4886 - categorical_accuracy: 0.4078 - val_loss: 1.4998 - val_categorical_accuracy: 0.4062\n",
      "Epoch 12/30\n",
      "100/100 [==============================] - 69s 694ms/step - loss: 1.4714 - categorical_accuracy: 0.4167 - val_loss: 1.5370 - val_categorical_accuracy: 0.3678\n",
      "Epoch 13/30\n",
      "100/100 [==============================] - 71s 706ms/step - loss: 1.4532 - categorical_accuracy: 0.4265 - val_loss: 1.4937 - val_categorical_accuracy: 0.3829\n",
      "Epoch 14/30\n",
      "100/100 [==============================] - 70s 702ms/step - loss: 1.4326 - categorical_accuracy: 0.4383 - val_loss: 1.4564 - val_categorical_accuracy: 0.4151\n",
      "Epoch 15/30\n",
      "100/100 [==============================] - 70s 698ms/step - loss: 1.4120 - categorical_accuracy: 0.4596 - val_loss: 1.4864 - val_categorical_accuracy: 0.3868\n",
      "Epoch 16/30\n",
      "100/100 [==============================] - 70s 700ms/step - loss: 1.3982 - categorical_accuracy: 0.4620 - val_loss: 1.4386 - val_categorical_accuracy: 0.4396\n",
      "Epoch 17/30\n",
      "100/100 [==============================] - 70s 702ms/step - loss: 1.3589 - categorical_accuracy: 0.4823 - val_loss: 1.4261 - val_categorical_accuracy: 0.4218\n",
      "Epoch 18/30\n",
      "100/100 [==============================] - 69s 689ms/step - loss: 1.3408 - categorical_accuracy: 0.4911 - val_loss: 1.4022 - val_categorical_accuracy: 0.4352\n",
      "Epoch 19/30\n",
      "100/100 [==============================] - 68s 678ms/step - loss: 1.3139 - categorical_accuracy: 0.5049 - val_loss: 1.4103 - val_categorical_accuracy: 0.4352\n",
      "Epoch 20/30\n",
      "100/100 [==============================] - 68s 685ms/step - loss: 1.2959 - categorical_accuracy: 0.5171 - val_loss: 1.4029 - val_categorical_accuracy: 0.4652\n",
      "Epoch 21/30\n",
      "100/100 [==============================] - 73s 735ms/step - loss: 1.2743 - categorical_accuracy: 0.5248 - val_loss: 1.3771 - val_categorical_accuracy: 0.4708\n",
      "Epoch 22/30\n",
      "100/100 [==============================] - 76s 762ms/step - loss: 1.2367 - categorical_accuracy: 0.5354 - val_loss: 1.3520 - val_categorical_accuracy: 0.4836\n",
      "Epoch 23/30\n",
      "100/100 [==============================] - 77s 769ms/step - loss: 1.1988 - categorical_accuracy: 0.5589 - val_loss: 1.4118 - val_categorical_accuracy: 0.4819\n",
      "Epoch 24/30\n",
      "100/100 [==============================] - 76s 764ms/step - loss: 1.1773 - categorical_accuracy: 0.5697 - val_loss: 1.3687 - val_categorical_accuracy: 0.4819\n",
      "Epoch 25/30\n",
      "100/100 [==============================] - 75s 745ms/step - loss: 1.1409 - categorical_accuracy: 0.5725 - val_loss: 1.4117 - val_categorical_accuracy: 0.4702\n",
      "Epoch 26/30\n",
      "100/100 [==============================] - 73s 731ms/step - loss: 1.1277 - categorical_accuracy: 0.5899 - val_loss: 1.3244 - val_categorical_accuracy: 0.4886\n",
      "Epoch 27/30\n",
      "100/100 [==============================] - 73s 733ms/step - loss: 1.0859 - categorical_accuracy: 0.6074 - val_loss: 1.3281 - val_categorical_accuracy: 0.5008\n",
      "Epoch 28/30\n",
      "100/100 [==============================] - 72s 723ms/step - loss: 1.0695 - categorical_accuracy: 0.6112 - val_loss: 1.3484 - val_categorical_accuracy: 0.4919\n",
      "Epoch 29/30\n",
      "100/100 [==============================] - 70s 703ms/step - loss: 1.0312 - categorical_accuracy: 0.6280 - val_loss: 1.4868 - val_categorical_accuracy: 0.4491\n",
      "Epoch 30/30\n",
      "100/100 [==============================] - 72s 716ms/step - loss: 1.0069 - categorical_accuracy: 0.6409 - val_loss: 1.3634 - val_categorical_accuracy: 0.4992\n"
     ]
    }
   ],
   "source": [
    "# Model fitting\n",
    "history = model1.fit(train_generator, epochs=30, steps_per_epoch=100,\n",
    "                   validation_data=validation_generator)"
   ]
  },
  {
   "cell_type": "code",
   "execution_count": 13,
   "id": "4e5e62f3",
   "metadata": {},
   "outputs": [],
   "source": [
    "# save model\n",
    "model1.save('model1_smallcnn.h5')"
   ]
  },
  {
   "cell_type": "code",
   "execution_count": 15,
   "id": "6b8e56c9",
   "metadata": {},
   "outputs": [
    {
     "data": {
      "text/plain": [
       "{'loss': [1.6755212545394897,\n",
       "  1.5908408164978027,\n",
       "  1.5872976779937744,\n",
       "  1.571475625038147,\n",
       "  1.5613429546356201,\n",
       "  1.5545910596847534,\n",
       "  1.543774127960205,\n",
       "  1.5367496013641357,\n",
       "  1.5222077369689941,\n",
       "  1.5041110515594482,\n",
       "  1.4885520935058594,\n",
       "  1.4714223146438599,\n",
       "  1.453202724456787,\n",
       "  1.4325839281082153,\n",
       "  1.4120248556137085,\n",
       "  1.3981925249099731,\n",
       "  1.358934998512268,\n",
       "  1.3407928943634033,\n",
       "  1.313925862312317,\n",
       "  1.2959141731262207,\n",
       "  1.2743417024612427,\n",
       "  1.2366609573364258,\n",
       "  1.1987990140914917,\n",
       "  1.177314043045044,\n",
       "  1.1408954858779907,\n",
       "  1.1276962757110596,\n",
       "  1.085909128189087,\n",
       "  1.0694724321365356,\n",
       "  1.031196117401123,\n",
       "  1.0068936347961426],\n",
       " 'categorical_accuracy': [0.3158211410045624,\n",
       "  0.32179999351501465,\n",
       "  0.34108683466911316,\n",
       "  0.34710246324539185,\n",
       "  0.35171446204185486,\n",
       "  0.358532190322876,\n",
       "  0.3627431392669678,\n",
       "  0.3737718164920807,\n",
       "  0.38339683413505554,\n",
       "  0.39201924204826355,\n",
       "  0.40779998898506165,\n",
       "  0.4166833758354187,\n",
       "  0.42650893330574036,\n",
       "  0.4383396804332733,\n",
       "  0.4595949351787567,\n",
       "  0.4620012044906616,\n",
       "  0.4822538495063782,\n",
       "  0.491076797246933,\n",
       "  0.504912793636322,\n",
       "  0.5171445608139038,\n",
       "  0.524764358997345,\n",
       "  0.5353920459747314,\n",
       "  0.558853030204773,\n",
       "  0.5696811676025391,\n",
       "  0.5724884867668152,\n",
       "  0.5899338126182556,\n",
       "  0.6073791980743408,\n",
       "  0.611189067363739,\n",
       "  0.6280328631401062,\n",
       "  0.6408662796020508],\n",
       " 'val_loss': [1.5997428894042969,\n",
       "  1.5868290662765503,\n",
       "  1.5982680320739746,\n",
       "  1.5722289085388184,\n",
       "  1.5795469284057617,\n",
       "  1.5582702159881592,\n",
       "  1.6326245069503784,\n",
       "  1.5357351303100586,\n",
       "  1.5190767049789429,\n",
       "  1.511060357093811,\n",
       "  1.4997632503509521,\n",
       "  1.5370426177978516,\n",
       "  1.4936503171920776,\n",
       "  1.4563621282577515,\n",
       "  1.486396312713623,\n",
       "  1.438554048538208,\n",
       "  1.4261165857315063,\n",
       "  1.4021764993667603,\n",
       "  1.410317063331604,\n",
       "  1.4028536081314087,\n",
       "  1.3770842552185059,\n",
       "  1.3520087003707886,\n",
       "  1.4118221998214722,\n",
       "  1.3686763048171997,\n",
       "  1.4116848707199097,\n",
       "  1.324414610862732,\n",
       "  1.3280987739562988,\n",
       "  1.348358392715454,\n",
       "  1.4867726564407349,\n",
       "  1.3634403944015503],\n",
       " 'val_categorical_accuracy': [0.31942126154899597,\n",
       "  0.3388981521129608,\n",
       "  0.33555927872657776,\n",
       "  0.3550361692905426,\n",
       "  0.33277684450149536,\n",
       "  0.365609347820282,\n",
       "  0.32832497358322144,\n",
       "  0.3700612187385559,\n",
       "  0.3806343972682953,\n",
       "  0.38397330045700073,\n",
       "  0.4062325954437256,\n",
       "  0.36783528327941895,\n",
       "  0.38286033272743225,\n",
       "  0.41513633728027344,\n",
       "  0.38675570487976074,\n",
       "  0.43962159752845764,\n",
       "  0.4218141436576843,\n",
       "  0.4351697266101837,\n",
       "  0.4351697266101837,\n",
       "  0.4652198255062103,\n",
       "  0.47078463435173035,\n",
       "  0.4835837483406067,\n",
       "  0.48191431164741516,\n",
       "  0.48191431164741516,\n",
       "  0.4702281653881073,\n",
       "  0.48859208822250366,\n",
       "  0.5008347034454346,\n",
       "  0.4919309914112091,\n",
       "  0.44908180832862854,\n",
       "  0.49916526675224304]}"
      ]
     },
     "execution_count": 15,
     "metadata": {},
     "output_type": "execute_result"
    }
   ],
   "source": [
    "history.history"
   ]
  },
  {
   "cell_type": "code",
   "execution_count": 20,
   "id": "e6d2b4c0",
   "metadata": {},
   "outputs": [
    {
     "data": {
      "image/png": "[encoded data removed]",
      "text/plain": [
       "<Figure size 1080x360 with 2 Axes>"
      ]
     },
     "metadata": {
      "needs_background": "light"
     },
     "output_type": "display_data"
    }
   ],
   "source": [
    "# accuracy & loss plot\n",
    "acc = history.history['categorical_accuracy'] \n",
    "val_acc = history.history['val_categorical_accuracy'] \n",
    "loss = history.history['loss'] \n",
    "val_loss = history.history['val_loss'] \n",
    "\n",
    "epochs = range(len(acc)) \n",
    "\n",
    "plt.figure(figsize=(15, 5))\n",
    "\n",
    "plt.subplot(1,2,1)\n",
    "plt.plot(epochs, acc, 'bo', label='Training acc') \n",
    "plt.plot(epochs, val_acc, 'b', label='Validation acc') \n",
    "plt.title('Training and validation accuracy') \n",
    "plt.legend() \n",
    "\n",
    "plt.subplot(1,2,2)\n",
    "plt.plot(epochs, loss, 'bo', label='Training loss') \n",
    "plt.plot(epochs, val_loss, 'b', label='Validation loss') \n",
    "plt.title('Training and validation loss')\n",
    "plt.legend()\n",
    "\n",
    "plt.show()"
   ]
  },
  {
   "cell_type": "markdown",
   "id": "f7b3bda6",
   "metadata": {},
   "source": [
    "#### 모델링 2) Augmetation data를 이용한 합성망 모델링"
   ]
  },
  {
   "cell_type": "markdown",
   "id": "47a6785b",
   "metadata": {},
   "source": [
    "과적합 방지를 위해 dropout을 추가한 모델 생성"
   ]
  },
  {
   "cell_type": "code",
   "execution_count": 21,
   "id": "35bc9258",
   "metadata": {},
   "outputs": [
    {
     "name": "stdout",
     "output_type": "stream",
     "text": [
      "Model: \"sequential_1\"\n",
      "_________________________________________________________________\n",
      "Layer (type)                 Output Shape              Param #   \n",
      "=================================================================\n",
      "conv2d_4 (Conv2D)            (None, 118, 158, 32)      896       \n",
      "_________________________________________________________________\n",
      "max_pooling2d_4 (MaxPooling2 (None, 59, 79, 32)        0         \n",
      "_________________________________________________________________\n",
      "conv2d_5 (Conv2D)            (None, 57, 77, 64)        18496     \n",
      "_________________________________________________________________\n",
      "max_pooling2d_5 (MaxPooling2 (None, 28, 38, 64)        0         \n",
      "_________________________________________________________________\n",
      "conv2d_6 (Conv2D)            (None, 26, 36, 128)       73856     \n",
      "_________________________________________________________________\n",
      "max_pooling2d_6 (MaxPooling2 (None, 13, 18, 128)       0         \n",
      "_________________________________________________________________\n",
      "conv2d_7 (Conv2D)            (None, 11, 16, 128)       147584    \n",
      "_________________________________________________________________\n",
      "max_pooling2d_7 (MaxPooling2 (None, 5, 8, 128)         0         \n",
      "_________________________________________________________________\n",
      "flatten_1 (Flatten)          (None, 5120)              0         \n",
      "_________________________________________________________________\n",
      "dropout (Dropout)            (None, 5120)              0         \n",
      "_________________________________________________________________\n",
      "dense_2 (Dense)              (None, 512)               2621952   \n",
      "_________________________________________________________________\n",
      "dense_3 (Dense)              (None, 8)                 4104      \n",
      "=================================================================\n",
      "Total params: 2,866,888\n",
      "Trainable params: 2,866,888\n",
      "Non-trainable params: 0\n",
      "_________________________________________________________________\n"
     ]
    }
   ],
   "source": [
    "model2 = models.Sequential() \n",
    "model2.add(layers.Conv2D(32, (3, 3), activation='relu', input_shape=(120, 160, 3))) \n",
    "model2.add(layers.MaxPooling2D((2, 2))) \n",
    "model2.add(layers.Conv2D(64, (3, 3), activation='relu')) \n",
    "model2.add(layers.MaxPooling2D((2, 2))) \n",
    "model2.add(layers.Conv2D(128, (3, 3), activation='relu')) \n",
    "model2.add(layers.MaxPooling2D((2, 2))) \n",
    "model2.add(layers.Conv2D(128, (3, 3), activation='relu'))\n",
    "model2.add(layers.MaxPooling2D((2, 2))) \n",
    "model2.add(layers.Flatten()) \n",
    "model2.add(layers.Dropout(0.5)) \n",
    "model2.add(layers.Dense(512, activation='relu')) \n",
    "model2.add(layers.Dense(8, activation='softmax'))\n",
    "\n",
    "model2.summary()"
   ]
  },
  {
   "cell_type": "code",
   "execution_count": 22,
   "id": "12186081",
   "metadata": {},
   "outputs": [
    {
     "name": "stderr",
     "output_type": "stream",
     "text": [
      "C:\\Users\\YJ-HWANG\\anaconda3\\lib\\site-packages\\keras\\optimizer_v2\\optimizer_v2.py:355: UserWarning: The `lr` argument is deprecated, use `learning_rate` instead.\n",
      "  warnings.warn(\n"
     ]
    }
   ],
   "source": [
    "#compile\n",
    "model2.compile(loss='categorical_crossentropy', \n",
    "              optimizer=optimizers.SGD(lr=0.01), \n",
    "              metrics=[keras.metrics.categorical_accuracy])"
   ]
  },
  {
   "cell_type": "code",
   "execution_count": 25,
   "id": "45bc4358",
   "metadata": {},
   "outputs": [
    {
     "name": "stdout",
     "output_type": "stream",
     "text": [
      "Found 5387 images belonging to 8 classes.\n",
      "Found 1797 images belonging to 8 classes.\n"
     ]
    }
   ],
   "source": [
    "# data generator\n",
    "train_datagen = ImageDataGenerator( \n",
    "    rescale=1./255, rotation_range=40, \n",
    "    width_shift_range=0.2, height_shift_range=0.2, \n",
    "    shear_range=0.2, zoom_range=0.2, \n",
    "    horizontal_flip=True,)\n",
    "\n",
    "test_datagen = ImageDataGenerator(rescale=1./255) \n",
    "\n",
    "train_generator = train_datagen.flow_from_directory( train_dir, target_size=(120, 160), batch_size=50, class_mode='categorical')\n",
    "validation_generator = test_datagen.flow_from_directory( valid_dir, target_size=(120, 160), batch_size=50, class_mode='categorical')"
   ]
  },
  {
   "cell_type": "code",
   "execution_count": 29,
   "id": "61caa1d6",
   "metadata": {
    "scrolled": true
   },
   "outputs": [
    {
     "name": "stdout",
     "output_type": "stream",
     "text": [
      "Epoch 1/50\n",
      "100/100 [==============================] - 73s 730ms/step - loss: 1.6040 - categorical_accuracy: 0.3090 - val_loss: 1.6008 - val_categorical_accuracy: 0.3177\n",
      "Epoch 2/50\n",
      "100/100 [==============================] - 72s 721ms/step - loss: 1.6007 - categorical_accuracy: 0.3086 - val_loss: 1.5938 - val_categorical_accuracy: 0.3206\n",
      "Epoch 3/50\n",
      "100/100 [==============================] - 75s 744ms/step - loss: 1.5976 - categorical_accuracy: 0.3078 - val_loss: 1.5914 - val_categorical_accuracy: 0.3189\n",
      "Epoch 4/50\n",
      "100/100 [==============================] - 75s 750ms/step - loss: 1.5951 - categorical_accuracy: 0.3124 - val_loss: 1.5917 - val_categorical_accuracy: 0.3480\n",
      "Epoch 5/50\n",
      "100/100 [==============================] - 76s 754ms/step - loss: 1.5974 - categorical_accuracy: 0.3214 - val_loss: 1.5923 - val_categorical_accuracy: 0.3309\n",
      "Epoch 6/50\n",
      "100/100 [==============================] - 77s 769ms/step - loss: 1.5949 - categorical_accuracy: 0.3114 - val_loss: 1.5841 - val_categorical_accuracy: 0.3240\n",
      "Epoch 7/50\n",
      "100/100 [==============================] - 74s 735ms/step - loss: 1.5959 - categorical_accuracy: 0.3162 - val_loss: 1.5873 - val_categorical_accuracy: 0.3120\n",
      "Epoch 8/50\n",
      "100/100 [==============================] - 73s 731ms/step - loss: 1.5911 - categorical_accuracy: 0.3190 - val_loss: 1.5850 - val_categorical_accuracy: 0.3234\n",
      "Epoch 9/50\n",
      "100/100 [==============================] - 74s 742ms/step - loss: 1.5914 - categorical_accuracy: 0.3188 - val_loss: 1.5816 - val_categorical_accuracy: 0.3320\n",
      "Epoch 10/50\n",
      "100/100 [==============================] - 75s 745ms/step - loss: 1.5873 - categorical_accuracy: 0.3212 - val_loss: 1.5819 - val_categorical_accuracy: 0.3246\n",
      "Epoch 11/50\n",
      "100/100 [==============================] - 67s 664ms/step - loss: 1.5796 - categorical_accuracy: 0.3238 - val_loss: 1.5696 - val_categorical_accuracy: 0.3314\n",
      "Epoch 12/50\n",
      "100/100 [==============================] - 66s 654ms/step - loss: 1.5788 - categorical_accuracy: 0.3281 - val_loss: 1.5698 - val_categorical_accuracy: 0.3229\n",
      "Epoch 13/50\n",
      "100/100 [==============================] - 65s 649ms/step - loss: 1.5752 - categorical_accuracy: 0.3321 - val_loss: 1.5593 - val_categorical_accuracy: 0.3709\n",
      "Epoch 14/50\n",
      "100/100 [==============================] - 65s 648ms/step - loss: 1.5672 - categorical_accuracy: 0.3405 - val_loss: 1.5528 - val_categorical_accuracy: 0.3537\n",
      "Epoch 15/50\n",
      "100/100 [==============================] - 65s 645ms/step - loss: 1.5692 - categorical_accuracy: 0.3445 - val_loss: 1.5587 - val_categorical_accuracy: 0.3880\n",
      "Epoch 16/50\n",
      "100/100 [==============================] - 64s 641ms/step - loss: 1.5583 - categorical_accuracy: 0.3475 - val_loss: 1.5416 - val_categorical_accuracy: 0.3629\n",
      "Epoch 17/50\n",
      "100/100 [==============================] - 64s 639ms/step - loss: 1.5575 - categorical_accuracy: 0.3453 - val_loss: 1.5342 - val_categorical_accuracy: 0.3629\n",
      "Epoch 18/50\n",
      "100/100 [==============================] - 64s 645ms/step - loss: 1.5496 - categorical_accuracy: 0.3559 - val_loss: 1.5469 - val_categorical_accuracy: 0.3486\n",
      "Epoch 19/50\n",
      "100/100 [==============================] - 64s 639ms/step - loss: 1.5373 - categorical_accuracy: 0.3668 - val_loss: 1.5250 - val_categorical_accuracy: 0.3811\n",
      "Epoch 20/50\n",
      "100/100 [==============================] - 64s 641ms/step - loss: 1.5317 - categorical_accuracy: 0.3714 - val_loss: 1.5047 - val_categorical_accuracy: 0.4006\n",
      "Epoch 21/50\n",
      "100/100 [==============================] - 64s 640ms/step - loss: 1.5300 - categorical_accuracy: 0.3826 - val_loss: 1.5090 - val_categorical_accuracy: 0.3914\n",
      "Epoch 22/50\n",
      "100/100 [==============================] - 64s 640ms/step - loss: 1.5278 - categorical_accuracy: 0.3653 - val_loss: 1.5204 - val_categorical_accuracy: 0.3857\n",
      "Epoch 23/50\n",
      "100/100 [==============================] - 64s 642ms/step - loss: 1.5169 - categorical_accuracy: 0.3866 - val_loss: 1.5115 - val_categorical_accuracy: 0.3851\n",
      "Epoch 24/50\n",
      "100/100 [==============================] - 64s 641ms/step - loss: 1.5158 - categorical_accuracy: 0.3952 - val_loss: 1.4779 - val_categorical_accuracy: 0.4114\n",
      "Epoch 25/50\n",
      "100/100 [==============================] - 64s 642ms/step - loss: 1.5089 - categorical_accuracy: 0.3846 - val_loss: 1.5105 - val_categorical_accuracy: 0.3846\n",
      "Epoch 26/50\n",
      "100/100 [==============================] - 65s 646ms/step - loss: 1.5050 - categorical_accuracy: 0.3996 - val_loss: 1.4820 - val_categorical_accuracy: 0.4046\n",
      "Epoch 27/50\n",
      "100/100 [==============================] - 64s 643ms/step - loss: 1.4974 - categorical_accuracy: 0.3914 - val_loss: 1.4742 - val_categorical_accuracy: 0.4171\n",
      "Epoch 28/50\n",
      "100/100 [==============================] - 64s 640ms/step - loss: 1.4935 - categorical_accuracy: 0.3920 - val_loss: 1.4593 - val_categorical_accuracy: 0.4171\n",
      "Epoch 29/50\n",
      "100/100 [==============================] - 65s 653ms/step - loss: 1.4925 - categorical_accuracy: 0.4067 - val_loss: 1.4634 - val_categorical_accuracy: 0.4057\n",
      "Epoch 30/50\n",
      "100/100 [==============================] - 65s 644ms/step - loss: 1.4901 - categorical_accuracy: 0.4004 - val_loss: 1.4623 - val_categorical_accuracy: 0.4097\n",
      "Epoch 31/50\n",
      "100/100 [==============================] - 66s 659ms/step - loss: 1.4743 - categorical_accuracy: 0.4097 - val_loss: 1.4910 - val_categorical_accuracy: 0.4069\n",
      "Epoch 32/50\n",
      "100/100 [==============================] - 64s 640ms/step - loss: 1.4800 - categorical_accuracy: 0.4081 - val_loss: 1.4756 - val_categorical_accuracy: 0.4154\n",
      "Epoch 33/50\n",
      "100/100 [==============================] - 64s 644ms/step - loss: 1.4838 - categorical_accuracy: 0.4012 - val_loss: 1.4590 - val_categorical_accuracy: 0.4029\n",
      "Epoch 34/50\n",
      "100/100 [==============================] - 64s 642ms/step - loss: 1.4709 - categorical_accuracy: 0.4073 - val_loss: 1.5180 - val_categorical_accuracy: 0.3971\n",
      "Epoch 35/50\n",
      "100/100 [==============================] - 65s 645ms/step - loss: 1.4786 - categorical_accuracy: 0.4047 - val_loss: 1.4420 - val_categorical_accuracy: 0.4149\n",
      "Epoch 36/50\n",
      "100/100 [==============================] - 65s 649ms/step - loss: 1.4658 - categorical_accuracy: 0.4205 - val_loss: 1.4508 - val_categorical_accuracy: 0.4034\n",
      "Epoch 37/50\n",
      "100/100 [==============================] - 64s 641ms/step - loss: 1.4644 - categorical_accuracy: 0.4085 - val_loss: 1.4858 - val_categorical_accuracy: 0.4040\n",
      "Epoch 38/50\n",
      "100/100 [==============================] - 67s 667ms/step - loss: 1.4604 - categorical_accuracy: 0.4203 - val_loss: 1.4419 - val_categorical_accuracy: 0.4291\n",
      "Epoch 39/50\n",
      "100/100 [==============================] - 65s 653ms/step - loss: 1.4552 - categorical_accuracy: 0.4203 - val_loss: 1.4407 - val_categorical_accuracy: 0.4189\n",
      "Epoch 40/50\n",
      "100/100 [==============================] - 64s 643ms/step - loss: 1.4424 - categorical_accuracy: 0.4181 - val_loss: 1.4626 - val_categorical_accuracy: 0.4120\n",
      "Epoch 41/50\n",
      "100/100 [==============================] - 64s 640ms/step - loss: 1.4500 - categorical_accuracy: 0.4229 - val_loss: 1.4744 - val_categorical_accuracy: 0.4051\n",
      "Epoch 42/50\n",
      "100/100 [==============================] - 68s 681ms/step - loss: 1.4451 - categorical_accuracy: 0.4241 - val_loss: 1.4166 - val_categorical_accuracy: 0.4349\n",
      "Epoch 43/50\n",
      "100/100 [==============================] - 67s 672ms/step - loss: 1.4448 - categorical_accuracy: 0.4301 - val_loss: 1.4274 - val_categorical_accuracy: 0.4383\n",
      "Epoch 44/50\n",
      "100/100 [==============================] - 67s 670ms/step - loss: 1.4398 - categorical_accuracy: 0.4317 - val_loss: 1.4006 - val_categorical_accuracy: 0.4531\n",
      "Epoch 45/50\n",
      "100/100 [==============================] - 69s 684ms/step - loss: 1.4300 - categorical_accuracy: 0.4345 - val_loss: 1.4141 - val_categorical_accuracy: 0.4423\n",
      "Epoch 46/50\n",
      "100/100 [==============================] - 68s 682ms/step - loss: 1.4165 - categorical_accuracy: 0.4413 - val_loss: 1.4148 - val_categorical_accuracy: 0.4423\n",
      "Epoch 47/50\n",
      "100/100 [==============================] - 68s 681ms/step - loss: 1.4223 - categorical_accuracy: 0.4379 - val_loss: 1.4090 - val_categorical_accuracy: 0.4274\n",
      "Epoch 48/50\n",
      "100/100 [==============================] - 70s 695ms/step - loss: 1.4162 - categorical_accuracy: 0.4438 - val_loss: 1.4286 - val_categorical_accuracy: 0.4349\n",
      "Epoch 49/50\n"
     ]
    },
    {
     "name": "stdout",
     "output_type": "stream",
     "text": [
      "100/100 [==============================] - 68s 678ms/step - loss: 1.4205 - categorical_accuracy: 0.4424 - val_loss: 1.4073 - val_categorical_accuracy: 0.4583\n",
      "Epoch 50/50\n",
      "100/100 [==============================] - 67s 668ms/step - loss: 1.4124 - categorical_accuracy: 0.4405 - val_loss: 1.4007 - val_categorical_accuracy: 0.4497\n"
     ]
    }
   ],
   "source": [
    "# Model fitting\n",
    "history = model2.fit_generator(train_generator, epochs=50, steps_per_epoch=100,\n",
    "                   validation_data=validation_generator)"
   ]
  },
  {
   "cell_type": "code",
   "execution_count": 30,
   "id": "9a5c0e8b",
   "metadata": {},
   "outputs": [],
   "source": [
    "# save model\n",
    "model2.save('model2_smallcnn_dataaug.h5')"
   ]
  },
  {
   "cell_type": "code",
   "execution_count": 31,
   "id": "2fbdbe58",
   "metadata": {},
   "outputs": [
    {
     "data": {
      "image/png": "[encoded data removed]",
      "text/plain": [
       "<Figure size 1080x360 with 2 Axes>"
      ]
     },
     "metadata": {
      "needs_background": "light"
     },
     "output_type": "display_data"
    }
   ],
   "source": [
    "# accuracy & loss plot\n",
    "acc = history.history['categorical_accuracy'] \n",
    "val_acc = history.history['val_categorical_accuracy'] \n",
    "loss = history.history['loss'] \n",
    "val_loss = history.history['val_loss'] \n",
    "\n",
    "epochs = range(len(acc)) \n",
    "\n",
    "plt.figure(figsize=(15, 5))\n",
    "\n",
    "plt.subplot(1,2,1)\n",
    "plt.plot(epochs, acc, 'bo', label='Training acc') \n",
    "plt.plot(epochs, val_acc, 'b', label='Validation acc') \n",
    "plt.title('Training and validation accuracy') \n",
    "plt.legend() \n",
    "\n",
    "plt.subplot(1,2,2)\n",
    "plt.plot(epochs, loss, 'bo', label='Training loss') \n",
    "plt.plot(epochs, val_loss, 'b', label='Validation loss') \n",
    "plt.title('Training and validation loss')\n",
    "plt.legend()\n",
    "\n",
    "plt.show()"
   ]
  },
  {
   "cell_type": "markdown",
   "id": "e92a73b9",
   "metadata": {},
   "source": [
    "#### 모델링 3) 사전 훈련 합성망 - VGG16 합성곱 기반 모형: vgg16 출력값을 분류기의 입력값으로 사용"
   ]
  },
  {
   "cell_type": "code",
   "execution_count": 33,
   "id": "5080963a",
   "metadata": {},
   "outputs": [
    {
     "name": "stdout",
     "output_type": "stream",
     "text": [
      "Downloading data from https://storage.googleapis.com/tensorflow/keras-applications/vgg16/vgg16_weights_tf_dim_ordering_tf_kernels_notop.h5\n",
      "58892288/58889256 [==============================] - 7s 0us/step\n",
      "58900480/58889256 [==============================] - 7s 0us/step\n",
      "Model: \"vgg16\"\n",
      "_________________________________________________________________\n",
      "Layer (type)                 Output Shape              Param #   \n",
      "=================================================================\n",
      "input_1 (InputLayer)         [(None, 120, 160, 3)]     0         \n",
      "_________________________________________________________________\n",
      "block1_conv1 (Conv2D)        (None, 120, 160, 64)      1792      \n",
      "_________________________________________________________________\n",
      "block1_conv2 (Conv2D)        (None, 120, 160, 64)      36928     \n",
      "_________________________________________________________________\n",
      "block1_pool (MaxPooling2D)   (None, 60, 80, 64)        0         \n",
      "_________________________________________________________________\n",
      "block2_conv1 (Conv2D)        (None, 60, 80, 128)       73856     \n",
      "_________________________________________________________________\n",
      "block2_conv2 (Conv2D)        (None, 60, 80, 128)       147584    \n",
      "_________________________________________________________________\n",
      "block2_pool (MaxPooling2D)   (None, 30, 40, 128)       0         \n",
      "_________________________________________________________________\n",
      "block3_conv1 (Conv2D)        (None, 30, 40, 256)       295168    \n",
      "_________________________________________________________________\n",
      "block3_conv2 (Conv2D)        (None, 30, 40, 256)       590080    \n",
      "_________________________________________________________________\n",
      "block3_conv3 (Conv2D)        (None, 30, 40, 256)       590080    \n",
      "_________________________________________________________________\n",
      "block3_pool (MaxPooling2D)   (None, 15, 20, 256)       0         \n",
      "_________________________________________________________________\n",
      "block4_conv1 (Conv2D)        (None, 15, 20, 512)       1180160   \n",
      "_________________________________________________________________\n",
      "block4_conv2 (Conv2D)        (None, 15, 20, 512)       2359808   \n",
      "_________________________________________________________________\n",
      "block4_conv3 (Conv2D)        (None, 15, 20, 512)       2359808   \n",
      "_________________________________________________________________\n",
      "block4_pool (MaxPooling2D)   (None, 7, 10, 512)        0         \n",
      "_________________________________________________________________\n",
      "block5_conv1 (Conv2D)        (None, 7, 10, 512)        2359808   \n",
      "_________________________________________________________________\n",
      "block5_conv2 (Conv2D)        (None, 7, 10, 512)        2359808   \n",
      "_________________________________________________________________\n",
      "block5_conv3 (Conv2D)        (None, 7, 10, 512)        2359808   \n",
      "_________________________________________________________________\n",
      "block5_pool (MaxPooling2D)   (None, 3, 5, 512)         0         \n",
      "=================================================================\n",
      "Total params: 14,714,688\n",
      "Trainable params: 14,714,688\n",
      "Non-trainable params: 0\n",
      "_________________________________________________________________\n"
     ]
    }
   ],
   "source": [
    "conv_base = VGG16(weights='imagenet', include_top=False, input_shape=(120, 160, 3))\n",
    "conv_base.summary()"
   ]
  },
  {
   "cell_type": "code",
   "execution_count": 50,
   "id": "e86a6b84",
   "metadata": {},
   "outputs": [
    {
     "name": "stdout",
     "output_type": "stream",
     "text": [
      "Found 5387 images belonging to 8 classes.\n",
      "Found 1797 images belonging to 8 classes.\n",
      "Found 1795 images belonging to 8 classes.\n"
     ]
    }
   ],
   "source": [
    "datagen = ImageDataGenerator(rescale=1./255) \n",
    "batch_size = 50\n",
    "\n",
    "def extract_features(directory, sample_count): \n",
    "    features = np.zeros(shape=(sample_count, 3, 5, 512)) \n",
    "    labels = np.zeros(shape=(sample_count)) \n",
    "    generator = datagen.flow_from_directory( \n",
    "        directory, target_size=(120, 160), batch_size=batch_size, class_mode='sparse') \n",
    "    i = 0 \n",
    "    for inputs_batch, labels_batch in generator: \n",
    "        features_batch = conv_base.predict(inputs_batch) \n",
    "        features[i * batch_size : (i + 1) * batch_size] = features_batch \n",
    "        labels[i * batch_size : (i + 1) * batch_size] = labels_batch \n",
    "        i += 1 \n",
    "        if i * batch_size >= sample_count: \n",
    "            break \n",
    "    return features, labels\n",
    "\n",
    "train_features, train_labels = extract_features(train_dir, 5387)\n",
    "validation_features, validation_labels = extract_features(valid_dir, 1797)\n",
    "test_features, test_labels = extract_features(test_dir, 1795)"
   ]
  },
  {
   "cell_type": "code",
   "execution_count": 51,
   "id": "e2a55af6",
   "metadata": {},
   "outputs": [],
   "source": [
    "train_features = np.reshape(train_features, (5387, 3 * 5 * 512)) \n",
    "validation_features = np.reshape(validation_features, (1797, 3 * 5 * 512)) \n",
    "test_features = np.reshape(test_features, (1795, 3 * 5 * 512))"
   ]
  },
  {
   "cell_type": "code",
   "execution_count": 53,
   "id": "99716423",
   "metadata": {},
   "outputs": [],
   "source": [
    "model3 = models.Sequential() \n",
    "model3.add(layers.Dense(256, activation='relu', input_dim=3 * 5 * 512)) \n",
    "model3.add(layers.Dropout(0.5)) \n",
    "model3.add(layers.Dense(8, activation='softmax')) "
   ]
  },
  {
   "cell_type": "code",
   "execution_count": 84,
   "id": "3a96324b",
   "metadata": {},
   "outputs": [
    {
     "name": "stdout",
     "output_type": "stream",
     "text": [
      "Model: \"sequential_3\"\n",
      "_________________________________________________________________\n",
      "Layer (type)                 Output Shape              Param #   \n",
      "=================================================================\n",
      "dense_6 (Dense)              (None, 256)               1966336   \n",
      "_________________________________________________________________\n",
      "dropout_2 (Dropout)          (None, 256)               0         \n",
      "_________________________________________________________________\n",
      "dense_7 (Dense)              (None, 8)                 2056      \n",
      "=================================================================\n",
      "Total params: 1,968,392\n",
      "Trainable params: 1,968,392\n",
      "Non-trainable params: 0\n",
      "_________________________________________________________________\n"
     ]
    }
   ],
   "source": [
    "model3.summary()"
   ]
  },
  {
   "cell_type": "code",
   "execution_count": 56,
   "id": "2ea79924",
   "metadata": {},
   "outputs": [],
   "source": [
    "#compile\n",
    "model3.compile(loss='sparse_categorical_crossentropy', \n",
    "              optimizer=optimizers.SGD(lr=0.01), \n",
    "              metrics=[keras.metrics.sparse_categorical_accuracy])"
   ]
  },
  {
   "cell_type": "code",
   "execution_count": 57,
   "id": "beced0a7",
   "metadata": {
    "scrolled": true
   },
   "outputs": [
    {
     "name": "stdout",
     "output_type": "stream",
     "text": [
      "Epoch 1/50\n",
      "108/108 [==============================] - 1s 9ms/step - loss: 1.4823 - sparse_categorical_accuracy: 0.4359 - val_loss: 1.2312 - val_sparse_categorical_accuracy: 0.5420\n",
      "Epoch 2/50\n",
      "108/108 [==============================] - 1s 8ms/step - loss: 1.2305 - sparse_categorical_accuracy: 0.5498 - val_loss: 1.1409 - val_sparse_categorical_accuracy: 0.5838\n",
      "Epoch 3/50\n",
      "108/108 [==============================] - 1s 8ms/step - loss: 1.1404 - sparse_categorical_accuracy: 0.5899 - val_loss: 1.0824 - val_sparse_categorical_accuracy: 0.6194\n",
      "Epoch 4/50\n",
      "108/108 [==============================] - 1s 8ms/step - loss: 1.0733 - sparse_categorical_accuracy: 0.6308 - val_loss: 1.0781 - val_sparse_categorical_accuracy: 0.6082\n",
      "Epoch 5/50\n",
      "108/108 [==============================] - 1s 8ms/step - loss: 1.0317 - sparse_categorical_accuracy: 0.6406 - val_loss: 1.0341 - val_sparse_categorical_accuracy: 0.6255\n",
      "Epoch 6/50\n",
      "108/108 [==============================] - 1s 8ms/step - loss: 1.0094 - sparse_categorical_accuracy: 0.6536 - val_loss: 1.0162 - val_sparse_categorical_accuracy: 0.6349\n",
      "Epoch 7/50\n",
      "108/108 [==============================] - 1s 8ms/step - loss: 0.9813 - sparse_categorical_accuracy: 0.6631 - val_loss: 1.0959 - val_sparse_categorical_accuracy: 0.5993\n",
      "Epoch 8/50\n",
      "108/108 [==============================] - 1s 8ms/step - loss: 0.9495 - sparse_categorical_accuracy: 0.6802 - val_loss: 0.9522 - val_sparse_categorical_accuracy: 0.6717\n",
      "Epoch 9/50\n",
      "108/108 [==============================] - 1s 8ms/step - loss: 0.9200 - sparse_categorical_accuracy: 0.6826 - val_loss: 1.0226 - val_sparse_categorical_accuracy: 0.6188\n",
      "Epoch 10/50\n",
      "108/108 [==============================] - 1s 8ms/step - loss: 0.9065 - sparse_categorical_accuracy: 0.6846 - val_loss: 0.9893 - val_sparse_categorical_accuracy: 0.6605\n",
      "Epoch 11/50\n",
      "108/108 [==============================] - 1s 8ms/step - loss: 0.8745 - sparse_categorical_accuracy: 0.7058 - val_loss: 0.9546 - val_sparse_categorical_accuracy: 0.6656\n",
      "Epoch 12/50\n",
      "108/108 [==============================] - 1s 8ms/step - loss: 0.8622 - sparse_categorical_accuracy: 0.7054 - val_loss: 1.0168 - val_sparse_categorical_accuracy: 0.6461\n",
      "Epoch 13/50\n",
      "108/108 [==============================] - 1s 8ms/step - loss: 0.8300 - sparse_categorical_accuracy: 0.7138 - val_loss: 0.9720 - val_sparse_categorical_accuracy: 0.6583\n",
      "Epoch 14/50\n",
      "108/108 [==============================] - 1s 8ms/step - loss: 0.8301 - sparse_categorical_accuracy: 0.7201 - val_loss: 1.0083 - val_sparse_categorical_accuracy: 0.6388\n",
      "Epoch 15/50\n",
      "108/108 [==============================] - 1s 8ms/step - loss: 0.8137 - sparse_categorical_accuracy: 0.7136 - val_loss: 0.9087 - val_sparse_categorical_accuracy: 0.6806\n",
      "Epoch 16/50\n",
      "108/108 [==============================] - 1s 8ms/step - loss: 0.7888 - sparse_categorical_accuracy: 0.7306 - val_loss: 0.9336 - val_sparse_categorical_accuracy: 0.6667\n",
      "Epoch 17/50\n",
      "108/108 [==============================] - 1s 8ms/step - loss: 0.7745 - sparse_categorical_accuracy: 0.7373 - val_loss: 0.9845 - val_sparse_categorical_accuracy: 0.6672\n",
      "Epoch 18/50\n",
      "108/108 [==============================] - 1s 8ms/step - loss: 0.7551 - sparse_categorical_accuracy: 0.7370 - val_loss: 0.8939 - val_sparse_categorical_accuracy: 0.6956\n",
      "Epoch 19/50\n",
      "108/108 [==============================] - 1s 9ms/step - loss: 0.7550 - sparse_categorical_accuracy: 0.7399 - val_loss: 1.0383 - val_sparse_categorical_accuracy: 0.6400\n",
      "Epoch 20/50\n",
      "108/108 [==============================] - 1s 8ms/step - loss: 0.7411 - sparse_categorical_accuracy: 0.7490 - val_loss: 0.9280 - val_sparse_categorical_accuracy: 0.6772\n",
      "Epoch 21/50\n",
      "108/108 [==============================] - 1s 8ms/step - loss: 0.7203 - sparse_categorical_accuracy: 0.7527 - val_loss: 0.9014 - val_sparse_categorical_accuracy: 0.6839\n",
      "Epoch 22/50\n",
      "108/108 [==============================] - 1s 9ms/step - loss: 0.7075 - sparse_categorical_accuracy: 0.7526 - val_loss: 0.8998 - val_sparse_categorical_accuracy: 0.6956\n",
      "Epoch 23/50\n",
      "108/108 [==============================] - 1s 8ms/step - loss: 0.7025 - sparse_categorical_accuracy: 0.7581 - val_loss: 0.8800 - val_sparse_categorical_accuracy: 0.6989\n",
      "Epoch 24/50\n",
      "108/108 [==============================] - 1s 8ms/step - loss: 0.6893 - sparse_categorical_accuracy: 0.7628 - val_loss: 0.9041 - val_sparse_categorical_accuracy: 0.6789\n",
      "Epoch 25/50\n",
      "108/108 [==============================] - 1s 8ms/step - loss: 0.6869 - sparse_categorical_accuracy: 0.7618 - val_loss: 0.9184 - val_sparse_categorical_accuracy: 0.6828\n",
      "Epoch 26/50\n",
      "108/108 [==============================] - 1s 8ms/step - loss: 0.6787 - sparse_categorical_accuracy: 0.7654 - val_loss: 0.8765 - val_sparse_categorical_accuracy: 0.6934\n",
      "Epoch 27/50\n",
      "108/108 [==============================] - 1s 8ms/step - loss: 0.6508 - sparse_categorical_accuracy: 0.7674 - val_loss: 0.9508 - val_sparse_categorical_accuracy: 0.6750\n",
      "Epoch 28/50\n",
      "108/108 [==============================] - 1s 8ms/step - loss: 0.6465 - sparse_categorical_accuracy: 0.7815 - val_loss: 0.9380 - val_sparse_categorical_accuracy: 0.6839\n",
      "Epoch 29/50\n",
      "108/108 [==============================] - 1s 8ms/step - loss: 0.6294 - sparse_categorical_accuracy: 0.7904 - val_loss: 0.8928 - val_sparse_categorical_accuracy: 0.6967\n",
      "Epoch 30/50\n",
      "108/108 [==============================] - 1s 8ms/step - loss: 0.6184 - sparse_categorical_accuracy: 0.7919 - val_loss: 0.9251 - val_sparse_categorical_accuracy: 0.6867\n",
      "Epoch 31/50\n",
      "108/108 [==============================] - 1s 8ms/step - loss: 0.6198 - sparse_categorical_accuracy: 0.7826 - val_loss: 0.9503 - val_sparse_categorical_accuracy: 0.6828\n",
      "Epoch 32/50\n",
      "108/108 [==============================] - 1s 8ms/step - loss: 0.5990 - sparse_categorical_accuracy: 0.7852 - val_loss: 0.8865 - val_sparse_categorical_accuracy: 0.7028\n",
      "Epoch 33/50\n",
      "108/108 [==============================] - 1s 8ms/step - loss: 0.5839 - sparse_categorical_accuracy: 0.7973 - val_loss: 0.9032 - val_sparse_categorical_accuracy: 0.6895\n",
      "Epoch 34/50\n",
      "108/108 [==============================] - 1s 8ms/step - loss: 0.5862 - sparse_categorical_accuracy: 0.7978 - val_loss: 0.9474 - val_sparse_categorical_accuracy: 0.6750\n",
      "Epoch 35/50\n",
      "108/108 [==============================] - 1s 8ms/step - loss: 0.5741 - sparse_categorical_accuracy: 0.7997 - val_loss: 0.9054 - val_sparse_categorical_accuracy: 0.7012\n",
      "Epoch 36/50\n",
      "108/108 [==============================] - 1s 8ms/step - loss: 0.5694 - sparse_categorical_accuracy: 0.7988 - val_loss: 0.9056 - val_sparse_categorical_accuracy: 0.7051\n",
      "Epoch 37/50\n",
      "108/108 [==============================] - 1s 8ms/step - loss: 0.5424 - sparse_categorical_accuracy: 0.8133 - val_loss: 0.9982 - val_sparse_categorical_accuracy: 0.6806\n",
      "Epoch 38/50\n",
      "108/108 [==============================] - 1s 8ms/step - loss: 0.5411 - sparse_categorical_accuracy: 0.8110 - val_loss: 0.8652 - val_sparse_categorical_accuracy: 0.7106\n",
      "Epoch 39/50\n",
      "108/108 [==============================] - 1s 8ms/step - loss: 0.5450 - sparse_categorical_accuracy: 0.8138 - val_loss: 0.8960 - val_sparse_categorical_accuracy: 0.7090\n",
      "Epoch 40/50\n",
      "108/108 [==============================] - 1s 8ms/step - loss: 0.5264 - sparse_categorical_accuracy: 0.8177 - val_loss: 0.8793 - val_sparse_categorical_accuracy: 0.7051\n",
      "Epoch 41/50\n",
      "108/108 [==============================] - 1s 8ms/step - loss: 0.5190 - sparse_categorical_accuracy: 0.8229 - val_loss: 0.8674 - val_sparse_categorical_accuracy: 0.7062\n",
      "Epoch 42/50\n",
      "108/108 [==============================] - 1s 8ms/step - loss: 0.5106 - sparse_categorical_accuracy: 0.8190 - val_loss: 0.9273 - val_sparse_categorical_accuracy: 0.6962\n",
      "Epoch 43/50\n",
      "108/108 [==============================] - 1s 8ms/step - loss: 0.5037 - sparse_categorical_accuracy: 0.8259 - val_loss: 0.8851 - val_sparse_categorical_accuracy: 0.6934\n",
      "Epoch 44/50\n",
      "108/108 [==============================] - 1s 8ms/step - loss: 0.4941 - sparse_categorical_accuracy: 0.8264 - val_loss: 0.8724 - val_sparse_categorical_accuracy: 0.7056\n",
      "Epoch 45/50\n",
      "108/108 [==============================] - 1s 8ms/step - loss: 0.4851 - sparse_categorical_accuracy: 0.8292 - val_loss: 0.9037 - val_sparse_categorical_accuracy: 0.7101\n",
      "Epoch 46/50\n"
     ]
    },
    {
     "name": "stdout",
     "output_type": "stream",
     "text": [
      "108/108 [==============================] - 1s 8ms/step - loss: 0.4796 - sparse_categorical_accuracy: 0.8272 - val_loss: 0.8690 - val_sparse_categorical_accuracy: 0.7067\n",
      "Epoch 47/50\n",
      "108/108 [==============================] - 1s 7ms/step - loss: 0.4792 - sparse_categorical_accuracy: 0.8279 - val_loss: 0.9269 - val_sparse_categorical_accuracy: 0.6845\n",
      "Epoch 48/50\n",
      "108/108 [==============================] - 1s 7ms/step - loss: 0.4707 - sparse_categorical_accuracy: 0.8311 - val_loss: 0.9035 - val_sparse_categorical_accuracy: 0.7101\n",
      "Epoch 49/50\n",
      "108/108 [==============================] - 1s 7ms/step - loss: 0.4554 - sparse_categorical_accuracy: 0.8411 - val_loss: 0.8906 - val_sparse_categorical_accuracy: 0.7056\n",
      "Epoch 50/50\n",
      "108/108 [==============================] - 1s 7ms/step - loss: 0.4558 - sparse_categorical_accuracy: 0.8418 - val_loss: 0.9276 - val_sparse_categorical_accuracy: 0.6917\n"
     ]
    }
   ],
   "source": [
    "history = model3.fit(train_features, train_labels, epochs=50, batch_size=50, \n",
    "                    validation_data=(validation_features, validation_labels))"
   ]
  },
  {
   "cell_type": "code",
   "execution_count": 58,
   "id": "6db457a4",
   "metadata": {},
   "outputs": [],
   "source": [
    "# save model\n",
    "model3.save('model3_vgg16_1.h5')"
   ]
  },
  {
   "cell_type": "code",
   "execution_count": 61,
   "id": "f5197d0f",
   "metadata": {},
   "outputs": [
    {
     "data": {
      "image/png": "[encoded data removed]",
      "text/plain": [
       "<Figure size 1080x360 with 2 Axes>"
      ]
     },
     "metadata": {
      "needs_background": "light"
     },
     "output_type": "display_data"
    }
   ],
   "source": [
    "# accuracy & loss plot\n",
    "acc = history.history['sparse_categorical_accuracy'] \n",
    "val_acc = history.history['val_sparse_categorical_accuracy'] \n",
    "loss = history.history['loss'] \n",
    "val_loss = history.history['val_loss'] \n",
    "\n",
    "epochs = range(len(acc)) \n",
    "\n",
    "plt.figure(figsize=(15, 5))\n",
    "\n",
    "plt.subplot(1,2,1)\n",
    "plt.plot(epochs, acc, 'bo', label='Training acc') \n",
    "plt.plot(epochs, val_acc, 'b', label='Validation acc') \n",
    "plt.title('Training and validation accuracy') \n",
    "plt.legend() \n",
    "\n",
    "plt.subplot(1,2,2)\n",
    "plt.plot(epochs, loss, 'bo', label='Training loss') \n",
    "plt.plot(epochs, val_loss, 'b', label='Validation loss') \n",
    "plt.title('Training and validation loss')\n",
    "plt.legend()\n",
    "\n",
    "plt.show()"
   ]
  },
  {
   "cell_type": "markdown",
   "id": "50e0fb0a",
   "metadata": {},
   "source": [
    "#### 모델링 4) 사전 훈련 합성망 - VGG16 합성곱 기반 모형: vgg16 layer부터 끝까지 모든 layer를 실행"
   ]
  },
  {
   "cell_type": "code",
   "execution_count": 62,
   "id": "f912d23f",
   "metadata": {},
   "outputs": [
    {
     "name": "stdout",
     "output_type": "stream",
     "text": [
      "Model: \"sequential_4\"\n",
      "_________________________________________________________________\n",
      "Layer (type)                 Output Shape              Param #   \n",
      "=================================================================\n",
      "vgg16 (Functional)           (None, 3, 5, 512)         14714688  \n",
      "_________________________________________________________________\n",
      "flatten_2 (Flatten)          (None, 7680)              0         \n",
      "_________________________________________________________________\n",
      "dense_8 (Dense)              (None, 256)               1966336   \n",
      "_________________________________________________________________\n",
      "dense_9 (Dense)              (None, 8)                 2056      \n",
      "=================================================================\n",
      "Total params: 16,683,080\n",
      "Trainable params: 16,683,080\n",
      "Non-trainable params: 0\n",
      "_________________________________________________________________\n"
     ]
    }
   ],
   "source": [
    "model4 = models.Sequential() \n",
    "model4.add(conv_base) \n",
    "model4.add(layers.Flatten()) \n",
    "model4.add(layers.Dense(256, activation='relu')) \n",
    "model4.add(layers.Dense(8, activation='softmax'))\n",
    "model4.summary()"
   ]
  },
  {
   "cell_type": "code",
   "execution_count": 63,
   "id": "7d6b013b",
   "metadata": {},
   "outputs": [
    {
     "name": "stdout",
     "output_type": "stream",
     "text": [
      "Found 5387 images belonging to 8 classes.\n",
      "Found 1797 images belonging to 8 classes.\n"
     ]
    }
   ],
   "source": [
    "# data augmentation\n",
    "train_datagen = ImageDataGenerator( rescale=1./255, \n",
    "                                   rotation_range=20, width_shift_range=0.1, height_shift_range=0.1, \n",
    "                                   shear_range=0.1, zoom_range=0.1, horizontal_flip=True, fill_mode='nearest')\n",
    "\n",
    "test_datagen = ImageDataGenerator(rescale=1./255) \n",
    "\n",
    "train_generator = train_datagen.flow_from_directory( train_dir, target_size=(120, 160), batch_size=50, class_mode='categorical')\n",
    "validation_generator = test_datagen.flow_from_directory( valid_dir, target_size=(120, 160), batch_size=50, class_mode='categorical')"
   ]
  },
  {
   "cell_type": "code",
   "execution_count": 64,
   "id": "3f227c79",
   "metadata": {},
   "outputs": [],
   "source": [
    "#compile\n",
    "model4.compile(loss='categorical_crossentropy', \n",
    "              optimizer=optimizers.SGD(lr=0.01), \n",
    "              metrics=[keras.metrics.categorical_accuracy])"
   ]
  },
  {
   "cell_type": "code",
   "execution_count": 70,
   "id": "3c286c4d",
   "metadata": {
    "scrolled": true
   },
   "outputs": [
    {
     "name": "stdout",
     "output_type": "stream",
     "text": [
      "Epoch 1/30\n",
      "100/100 [==============================] - 849s 8s/step - loss: 1.4250 - categorical_accuracy: 0.4341 - val_loss: 1.1058 - val_categorical_accuracy: 0.5989\n",
      "Epoch 2/30\n",
      "100/100 [==============================] - 968s 10s/step - loss: 1.0868 - categorical_accuracy: 0.6124 - val_loss: 0.9220 - val_categorical_accuracy: 0.6909\n",
      "Epoch 3/30\n",
      "100/100 [==============================] - 979s 10s/step - loss: 0.9257 - categorical_accuracy: 0.6788 - val_loss: 0.9167 - val_categorical_accuracy: 0.6817\n",
      "Epoch 4/30\n",
      "100/100 [==============================] - 986s 10s/step - loss: 0.8372 - categorical_accuracy: 0.7143 - val_loss: 0.8302 - val_categorical_accuracy: 0.7120\n",
      "Epoch 5/30\n",
      "100/100 [==============================] - 987s 10s/step - loss: 0.7648 - categorical_accuracy: 0.7397 - val_loss: 0.8564 - val_categorical_accuracy: 0.7263\n",
      "Epoch 6/30\n",
      "100/100 [==============================] - 982s 10s/step - loss: 0.7074 - categorical_accuracy: 0.7526 - val_loss: 1.0296 - val_categorical_accuracy: 0.6709\n",
      "Epoch 7/30\n",
      "100/100 [==============================] - 988s 10s/step - loss: 0.6354 - categorical_accuracy: 0.7826 - val_loss: 0.7918 - val_categorical_accuracy: 0.7389\n",
      "Epoch 8/30\n",
      "100/100 [==============================] - 983s 10s/step - loss: 0.5786 - categorical_accuracy: 0.7977 - val_loss: 0.7150 - val_categorical_accuracy: 0.7720\n",
      "Epoch 9/30\n",
      "100/100 [==============================] - 969s 10s/step - loss: 0.5628 - categorical_accuracy: 0.8023 - val_loss: 0.7781 - val_categorical_accuracy: 0.7446\n",
      "Epoch 10/30\n",
      "100/100 [==============================] - 961s 10s/step - loss: 0.5088 - categorical_accuracy: 0.8227 - val_loss: 0.7523 - val_categorical_accuracy: 0.7611\n",
      "Epoch 11/30\n",
      "100/100 [==============================] - 1007s 10s/step - loss: 0.4743 - categorical_accuracy: 0.8352 - val_loss: 0.8134 - val_categorical_accuracy: 0.7674\n",
      "Epoch 12/30\n",
      "100/100 [==============================] - 1005s 10s/step - loss: 0.4494 - categorical_accuracy: 0.8414 - val_loss: 0.7925 - val_categorical_accuracy: 0.7429\n",
      "Epoch 13/30\n",
      "100/100 [==============================] - 1005s 10s/step - loss: 0.4095 - categorical_accuracy: 0.8530 - val_loss: 0.8042 - val_categorical_accuracy: 0.7657\n",
      "Epoch 14/30\n",
      "100/100 [==============================] - 1174s 12s/step - loss: 0.3907 - categorical_accuracy: 0.8614 - val_loss: 0.8214 - val_categorical_accuracy: 0.7463\n",
      "Epoch 15/30\n",
      "100/100 [==============================] - 1156s 12s/step - loss: 0.3546 - categorical_accuracy: 0.8709 - val_loss: 0.9334 - val_categorical_accuracy: 0.7560\n",
      "Epoch 16/30\n",
      "100/100 [==============================] - 1169s 12s/step - loss: 0.3123 - categorical_accuracy: 0.8841 - val_loss: 0.7904 - val_categorical_accuracy: 0.7714\n",
      "Epoch 17/30\n",
      "100/100 [==============================] - 1107s 11s/step - loss: 0.3202 - categorical_accuracy: 0.8795 - val_loss: 0.9011 - val_categorical_accuracy: 0.7486\n",
      "Epoch 18/30\n",
      "100/100 [==============================] - 1053s 11s/step - loss: 0.3527 - categorical_accuracy: 0.8747 - val_loss: 0.9140 - val_categorical_accuracy: 0.7543\n",
      "Epoch 19/30\n",
      "100/100 [==============================] - 1025s 10s/step - loss: 0.2890 - categorical_accuracy: 0.8907 - val_loss: 1.0023 - val_categorical_accuracy: 0.7183\n",
      "Epoch 20/30\n",
      "100/100 [==============================] - 1018s 10s/step - loss: 0.2413 - categorical_accuracy: 0.9100 - val_loss: 1.0628 - val_categorical_accuracy: 0.7417\n",
      "Epoch 21/30\n",
      "100/100 [==============================] - 1014s 10s/step - loss: 0.2346 - categorical_accuracy: 0.9146 - val_loss: 0.9468 - val_categorical_accuracy: 0.7714\n",
      "Epoch 22/30\n",
      "100/100 [==============================] - 1035s 10s/step - loss: 0.2160 - categorical_accuracy: 0.9210 - val_loss: 1.4812 - val_categorical_accuracy: 0.6629\n",
      "Epoch 23/30\n",
      "100/100 [==============================] - 1010s 10s/step - loss: 0.2991 - categorical_accuracy: 0.8915 - val_loss: 0.9581 - val_categorical_accuracy: 0.7663\n",
      "Epoch 24/30\n",
      "100/100 [==============================] - 1172s 12s/step - loss: 0.1830 - categorical_accuracy: 0.9300 - val_loss: 1.2219 - val_categorical_accuracy: 0.7337\n",
      "Epoch 25/30\n",
      "100/100 [==============================] - 1000s 10s/step - loss: 0.2323 - categorical_accuracy: 0.9178 - val_loss: 1.1101 - val_categorical_accuracy: 0.7103\n",
      "Epoch 26/30\n",
      "100/100 [==============================] - 1002s 10s/step - loss: 0.1506 - categorical_accuracy: 0.9414 - val_loss: 1.1165 - val_categorical_accuracy: 0.7469\n",
      "Epoch 27/30\n",
      "100/100 [==============================] - 995s 10s/step - loss: 0.1671 - categorical_accuracy: 0.9366 - val_loss: 1.0224 - val_categorical_accuracy: 0.7669\n",
      "Epoch 28/30\n",
      "100/100 [==============================] - 994s 10s/step - loss: 0.1492 - categorical_accuracy: 0.9437 - val_loss: 1.0435 - val_categorical_accuracy: 0.7709\n",
      "Epoch 29/30\n",
      "100/100 [==============================] - 995s 10s/step - loss: 0.1365 - categorical_accuracy: 0.9471 - val_loss: 1.1279 - val_categorical_accuracy: 0.7560\n",
      "Epoch 30/30\n",
      "100/100 [==============================] - 1005s 10s/step - loss: 0.1212 - categorical_accuracy: 0.9535 - val_loss: 1.1804 - val_categorical_accuracy: 0.7623\n"
     ]
    }
   ],
   "source": [
    "# Model fitting\n",
    "history = model4.fit_generator(train_generator,\n",
    "                               epochs=30, steps_per_epoch=100,\n",
    "                   validation_data=validation_generator, validation_steps=35)"
   ]
  },
  {
   "cell_type": "code",
   "execution_count": 72,
   "id": "37a169c0",
   "metadata": {},
   "outputs": [],
   "source": [
    "# save model\n",
    "model4.save('model4_vgg16_2.h5')"
   ]
  },
  {
   "cell_type": "code",
   "execution_count": 73,
   "id": "3372f529",
   "metadata": {},
   "outputs": [
    {
     "data": {
      "image/png": "[encoded data removed]",
      "text/plain": [
       "<Figure size 1080x360 with 2 Axes>"
      ]
     },
     "metadata": {
      "needs_background": "light"
     },
     "output_type": "display_data"
    }
   ],
   "source": [
    "# accuracy & loss plot\n",
    "acc = history.history['categorical_accuracy'] \n",
    "val_acc = history.history['val_categorical_accuracy'] \n",
    "loss = history.history['loss'] \n",
    "val_loss = history.history['val_loss'] \n",
    "\n",
    "epochs = range(len(acc)) \n",
    "\n",
    "plt.figure(figsize=(15, 5))\n",
    "\n",
    "plt.subplot(1,2,1)\n",
    "plt.plot(epochs, acc, 'bo', label='Training acc') \n",
    "plt.plot(epochs, val_acc, 'b', label='Validation acc') \n",
    "plt.title('Training and validation accuracy') \n",
    "plt.legend() \n",
    "\n",
    "plt.subplot(1,2,2)\n",
    "plt.plot(epochs, loss, 'bo', label='Training loss') \n",
    "plt.plot(epochs, val_loss, 'b', label='Validation loss') \n",
    "plt.title('Training and validation loss')\n",
    "plt.legend()\n",
    "\n",
    "plt.show()"
   ]
  },
  {
   "cell_type": "code",
   "execution_count": 103,
   "id": "f54c6a7f",
   "metadata": {},
   "outputs": [
    {
     "name": "stdout",
     "output_type": "stream",
     "text": [
      "Found 1795 images belonging to 8 classes.\n"
     ]
    }
   ],
   "source": [
    "test_generator = test_datagen.flow_from_directory( \n",
    "    test_dir, target_size=(120, 160), \n",
    "    batch_size=50, class_mode='categorical')"
   ]
  },
  {
   "cell_type": "code",
   "execution_count": 96,
   "id": "3b5121a9",
   "metadata": {},
   "outputs": [
    {
     "name": "stdout",
     "output_type": "stream",
     "text": [
      "loss: 1.4029135704040527\n",
      "accuracy: 0.47600001096725464\n"
     ]
    }
   ],
   "source": [
    "# test accuracy - model1\n",
    "test_loss1, test_acc1 = model1.evaluate_generator(test_generator, steps=10)\n",
    "print(\"loss:\",test_loss1) \n",
    "print(\"accuracy:\",test_acc1)"
   ]
  },
  {
   "cell_type": "code",
   "execution_count": 97,
   "id": "f6bf55fc",
   "metadata": {},
   "outputs": [
    {
     "name": "stdout",
     "output_type": "stream",
     "text": [
      "loss: 1.4641484022140503\n",
      "accuracy: 0.39399999380111694\n"
     ]
    }
   ],
   "source": [
    "# test accuracy - model2\n",
    "test_loss2, test_acc2 = model2.evaluate_generator(test_generator, steps=10)\n",
    "print(\"loss:\",test_loss2) \n",
    "print(\"accuracy:\",test_acc2)"
   ]
  },
  {
   "cell_type": "code",
   "execution_count": 101,
   "id": "be8a678f",
   "metadata": {},
   "outputs": [
    {
     "name": "stdout",
     "output_type": "stream",
     "text": [
      "57/57 [==============================] - 0s 3ms/step - loss: 0.9947 - sparse_categorical_accuracy: 0.6635\n",
      "loss: 0.9946524500846863\n",
      "accuracy: 0.663509726524353\n"
     ]
    }
   ],
   "source": [
    "# test accuracy - model3\n",
    "test_loss3, test_acc3 = model3.evaluate(test_features, test_labels)\n",
    "print(\"loss:\",test_loss3) \n",
    "print(\"accuracy:\",test_acc3)"
   ]
  },
  {
   "cell_type": "code",
   "execution_count": 104,
   "id": "41e3a619",
   "metadata": {},
   "outputs": [
    {
     "name": "stdout",
     "output_type": "stream",
     "text": [
      "loss: 1.494651198387146\n",
      "accuracy: 0.7400000095367432\n"
     ]
    }
   ],
   "source": [
    "# test accuracy - model\n",
    "test_loss4, test_acc4 = model4.evaluate_generator(test_generator, steps=10)\n",
    "print(\"loss:\",test_loss4) \n",
    "print(\"accuracy:\",test_acc4)"
   ]
  }
 ],
 "metadata": {
  "kernelspec": {
   "display_name": "Python 3",
   "language": "python",
   "name": "python3"
  },
  "language_info": {
   "codemirror_mode": {
    "name": "ipython",
    "version": 3
   },
   "file_extension": ".py",
   "mimetype": "text/x-python",
   "name": "python",
   "nbconvert_exporter": "python",
   "pygments_lexer": "ipython3",
   "version": "3.8.8"
  }
 },
 "nbformat": 4,
 "nbformat_minor": 5
}
