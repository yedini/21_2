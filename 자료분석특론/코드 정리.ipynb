{
 "cells": [
  {
   "cell_type": "markdown",
   "id": "b72e2b58",
   "metadata": {},
   "source": [
    "## ML3-분류\n",
    "이진분류, 분류모델 평가지표"
   ]
  },
  {
   "cell_type": "markdown",
   "id": "3820cf96",
   "metadata": {},
   "source": [
    "#### mnist 자료 사용"
   ]
  },
  {
   "cell_type": "code",
   "execution_count": 17,
   "id": "c07b8544",
   "metadata": {},
   "outputs": [],
   "source": [
    "from sklearn.datasets import fetch_openml \n",
    "mnist = fetch_openml('mnist_784', version=1)\n",
    "\n",
    "X, y = mnist[\"data\"], mnist[\"target\"]\n",
    "\n",
    "# y의 type 바꾸기\n",
    "import numpy as np \n",
    "y = y.astype(np.uint8)\n",
    "\n",
    "# train / test  set 나누기\n",
    "X_train, X_test, y_train, y_test = X[:60000], X[60000:], y[:60000], y[60000:]"
   ]
  },
  {
   "cell_type": "code",
   "execution_count": 18,
   "id": "ebb94e19",
   "metadata": {},
   "outputs": [
    {
     "data": {
      "text/plain": [
       "(-0.5, 27.5, 27.5, -0.5)"
      ]
     },
     "execution_count": 18,
     "metadata": {},
     "output_type": "execute_result"
    },
    {
     "data": {
      "image/png": "[encoded data removed]",
      "text/plain": [
       "<Figure size 432x288 with 1 Axes>"
      ]
     },
     "metadata": {
      "needs_background": "light"
     },
     "output_type": "display_data"
    }
   ],
   "source": [
    "# 첫번째 자료의 이미지 그려보기\n",
    "import matplotlib as mpl \n",
    "import matplotlib.pyplot as plt \n",
    "some_digit = X.iloc[0] \n",
    "some_digit_image = np.array(some_digit).reshape(28, 28) \n",
    "plt.imshow(some_digit_image, cmap=mpl.cm.binary) \n",
    "plt.axis(\"off\")"
   ]
  },
  {
   "cell_type": "markdown",
   "id": "b1ae6b8e",
   "metadata": {},
   "source": [
    "### 이진 분류기 훈련 - SGDClassifier (확률적 경사하강법)\n",
    "- 한번에 하나씩 훈련 샘플을 독립적으로 처리 -> 큰 데이터셋에 효율적임. \n",
    "- 온라인 학습에 적절함"
   ]
  },
  {
   "cell_type": "code",
   "execution_count": 11,
   "id": "4c8bb8be",
   "metadata": {},
   "outputs": [
    {
     "data": {
      "text/plain": [
       "SGDClassifier(random_state=2020)"
      ]
     },
     "execution_count": 11,
     "metadata": {},
     "output_type": "execute_result"
    }
   ],
   "source": [
    "y_train_5 = (y_train == 5)  # y_train이 5인 경우\n",
    "y_test_5 = (y_test == 5)\n",
    "\n",
    "from sklearn.linear_model import SGDClassifier\n",
    "sgd_clf = SGDClassifier(max_iter=1000, tol=1e-3, random_state=2020) \n",
    "sgd_clf.fit(X_train, y_train_5)"
   ]
  },
  {
   "cell_type": "code",
   "execution_count": 13,
   "id": "ac6f4b33",
   "metadata": {},
   "outputs": [
    {
     "data": {
      "text/plain": [
       "array([ True])"
      ]
     },
     "execution_count": 13,
     "metadata": {},
     "output_type": "execute_result"
    }
   ],
   "source": [
    "sgd_clf.predict([X.iloc[0]])"
   ]
  },
  {
   "cell_type": "code",
   "execution_count": 19,
   "id": "3df3fb93",
   "metadata": {},
   "outputs": [
    {
     "data": {
      "text/plain": [
       "array([ True])"
      ]
     },
     "execution_count": 19,
     "metadata": {},
     "output_type": "execute_result"
    }
   ],
   "source": [
    "sgd_clf.predict([X.iloc[48]])"
   ]
  },
  {
   "cell_type": "code",
   "execution_count": 20,
   "id": "3d411aae",
   "metadata": {},
   "outputs": [
    {
     "data": {
      "text/plain": [
       "(5, 9)"
      ]
     },
     "execution_count": 20,
     "metadata": {},
     "output_type": "execute_result"
    }
   ],
   "source": [
    "(y[0], y[48])"
   ]
  },
  {
   "cell_type": "code",
   "execution_count": 22,
   "id": "d4e4e833",
   "metadata": {},
   "outputs": [
    {
     "data": {
      "text/plain": [
       "(-0.5, 27.5, 27.5, -0.5)"
      ]
     },
     "execution_count": 22,
     "metadata": {},
     "output_type": "execute_result"
    },
    {
     "data": {
      "image/png": "[encoded data removed]",
      "text/plain": [
       "<Figure size 432x288 with 1 Axes>"
      ]
     },
     "metadata": {
      "needs_background": "light"
     },
     "output_type": "display_data"
    }
   ],
   "source": [
    "some_digit = X.iloc[48] \n",
    "some_digit_image = np.array(some_digit).reshape(28, 28)\n",
    "plt.imshow(some_digit_image, cmap=mpl.cm.binary) \n",
    "plt.axis(\"off\")\n"
   ]
  },
  {
   "cell_type": "markdown",
   "id": "bfe7e4bf",
   "metadata": {},
   "source": [
    "### 성능 측정"
   ]
  },
  {
   "cell_type": "markdown",
   "id": "f09e88d7",
   "metadata": {},
   "source": [
    "#### 교차 검증\n",
    "- cross_val_score() : k-fold cv"
   ]
  },
  {
   "cell_type": "code",
   "execution_count": 24,
   "id": "817aa634",
   "metadata": {},
   "outputs": [
    {
     "data": {
      "text/plain": [
       "array([0.96975, 0.94815, 0.96385])"
      ]
     },
     "execution_count": 24,
     "metadata": {},
     "output_type": "execute_result"
    }
   ],
   "source": [
    "from sklearn.model_selection import cross_val_score \n",
    "cross_val_score(sgd_clf, X_train, y_train_5, cv=3, scoring=\"accuracy\")"
   ]
  },
  {
   "cell_type": "markdown",
   "id": "1451d569",
   "metadata": {},
   "source": [
    "#### 오차 행렬\n",
    "- confusion_matrix()\n",
    "- cross_val_predict(): 각 fold에서 얻은 prediction 반환"
   ]
  },
  {
   "cell_type": "code",
   "execution_count": 25,
   "id": "76b38c9f",
   "metadata": {},
   "outputs": [
    {
     "data": {
      "text/plain": [
       "array([[53073,  1506],\n",
       "       [  859,  4562]], dtype=int64)"
      ]
     },
     "execution_count": 25,
     "metadata": {},
     "output_type": "execute_result"
    }
   ],
   "source": [
    "from sklearn.model_selection import cross_val_predict \n",
    "y_train_pred = cross_val_predict(sgd_clf, X_train, y_train_5, cv=3)\n",
    "from sklearn.metrics import confusion_matrix \n",
    "confusion_matrix(y_train_5, y_train_pred)"
   ]
  },
  {
   "cell_type": "markdown",
   "id": "291848f1",
   "metadata": {},
   "source": [
    "#### precision: 정밀도"
   ]
  },
  {
   "cell_type": "code",
   "execution_count": 26,
   "id": "8add4d14",
   "metadata": {},
   "outputs": [
    {
     "data": {
      "text/plain": [
       "0.7518127883981542"
      ]
     },
     "execution_count": 26,
     "metadata": {},
     "output_type": "execute_result"
    }
   ],
   "source": [
    "from sklearn.metrics import precision_score\n",
    "precision_score(y_train_5, y_train_pred)"
   ]
  },
  {
   "cell_type": "markdown",
   "id": "562e0180",
   "metadata": {},
   "source": [
    "#### recall: 재현율"
   ]
  },
  {
   "cell_type": "code",
   "execution_count": 27,
   "id": "a12bf3a7",
   "metadata": {},
   "outputs": [
    {
     "data": {
      "text/plain": [
       "0.8415421508946689"
      ]
     },
     "execution_count": 27,
     "metadata": {},
     "output_type": "execute_result"
    }
   ],
   "source": [
    "from sklearn.metrics import recall_score\n",
    "recall_score(y_train_5, y_train_pred)"
   ]
  },
  {
   "cell_type": "markdown",
   "id": "5af9ce02",
   "metadata": {},
   "source": [
    "#### f1 score"
   ]
  },
  {
   "cell_type": "code",
   "execution_count": 28,
   "id": "6e6dd71d",
   "metadata": {},
   "outputs": [
    {
     "data": {
      "text/plain": [
       "0.7941509269736269"
      ]
     },
     "execution_count": 28,
     "metadata": {},
     "output_type": "execute_result"
    }
   ],
   "source": [
    "from sklearn.metrics import f1_score \n",
    "f1_score(y_train_5, y_train_pred)"
   ]
  },
  {
   "cell_type": "markdown",
   "id": "d3df6a68",
   "metadata": {},
   "source": [
    "#### decision function: 결정함수\n",
    "각 샘플의 점수를 계산"
   ]
  },
  {
   "cell_type": "code",
   "execution_count": 30,
   "id": "8c2ffda9",
   "metadata": {},
   "outputs": [
    {
     "data": {
      "text/plain": [
       "array([2424.34912726])"
      ]
     },
     "execution_count": 30,
     "metadata": {},
     "output_type": "execute_result"
    }
   ],
   "source": [
    "sgd_clf.decision_function([X.iloc[0]])"
   ]
  },
  {
   "cell_type": "markdown",
   "id": "e5ccec93",
   "metadata": {},
   "source": [
    "#### ROC curve"
   ]
  },
  {
   "cell_type": "code",
   "execution_count": 33,
   "id": "b5a34ba6",
   "metadata": {},
   "outputs": [
    {
     "data": {
      "text/plain": [
       "[<matplotlib.lines.Line2D at 0x1ed6d380730>]"
      ]
     },
     "execution_count": 33,
     "metadata": {},
     "output_type": "execute_result"
    },
    {
     "data": {
      "image/png": "[encoded data removed]",
      "text/plain": [
       "<Figure size 432x288 with 1 Axes>"
      ]
     },
     "metadata": {
      "needs_background": "light"
     },
     "output_type": "display_data"
    }
   ],
   "source": [
    "y_scores = cross_val_predict(sgd_clf, X_train, y_train_5, cv=3, method=\"decision_function\")\n",
    "\n",
    "from sklearn.metrics import roc_curve \n",
    "fpr, tpr, thresholds1 = roc_curve(y_train_5, y_scores)\n",
    "\n",
    "def plot_roc_curve(fpr, tpr, label=None): \n",
    "    plt.plot(fpr, tpr, linewidth=2, label=label) \n",
    "    plt.plot([0, 1], [0, 1], 'k--') # dashed diagonal \n",
    "    plt.axis([0, 1, 0, 1]) \n",
    "    plt.xlabel('False Positive Rate (Fall-Out)', fontsize=16) \n",
    "    plt.ylabel('True Positive Rate (Recall)', fontsize=16) \n",
    "    plt.grid(True)\n",
    "    \n",
    "plot_roc_curve(fpr, tpr)\n",
    "\n",
    "from sklearn.metrics import precision_recall_curve \n",
    "precisions, recalls, thresholds = precision_recall_curve(y_train_5, y_scores)\n",
    "threshold_90_precision = thresholds[np.argmax(precisions >= 0.90)] \n",
    "y_train_pred_90 = (y_scores >= threshold_90_precision) \n",
    "recall_s = recall_score(y_train_5, y_train_pred_90)\n",
    "plt.plot([1-tpr[fpr[fpr<recall_s].shape], 1-tpr[fpr[fpr<recall_s].shape]], [0., recall_s], \"r:\") \n",
    "plt.plot([0.0, 1-tpr[fpr[fpr<recall_s].shape]], [recall_s, recall_s], \"r:\") \n",
    "plt.plot([1-tpr[fpr[fpr<recall_s].shape]], [recall_s], \"ro\")"
   ]
  },
  {
   "cell_type": "markdown",
   "id": "380e9df8",
   "metadata": {},
   "source": [
    "#### AUC (Area Under Curve)"
   ]
  },
  {
   "cell_type": "code",
   "execution_count": 34,
   "id": "b4a912b1",
   "metadata": {},
   "outputs": [
    {
     "data": {
      "text/plain": [
       "0.9668937517833468"
      ]
     },
     "execution_count": 34,
     "metadata": {},
     "output_type": "execute_result"
    }
   ],
   "source": [
    "from sklearn.metrics import roc_auc_score\n",
    "roc_auc_score(y_train_5, y_scores)"
   ]
  },
  {
   "cell_type": "markdown",
   "id": "603b6250",
   "metadata": {},
   "source": [
    "## ML4 - 회귀"
   ]
  },
  {
   "cell_type": "code",
   "execution_count": 6,
   "id": "77c4f55a",
   "metadata": {},
   "outputs": [],
   "source": [
    "import numpy as np\n",
    "X = 2 * np.random.rand(100, 1)   # uniform\n",
    "y = 4 + 3 * X + np.random.randn(100, 1) # standard normal\n",
    "X_new = np.array([[0], [2]])"
   ]
  },
  {
   "cell_type": "markdown",
   "id": "375c1e0d",
   "metadata": {},
   "source": [
    "#### 선형회귀"
   ]
  },
  {
   "cell_type": "code",
   "execution_count": 5,
   "id": "65f1d8f4",
   "metadata": {},
   "outputs": [
    {
     "data": {
      "text/plain": [
       "(array([3.90541626]), array([[3.01119682]]))"
      ]
     },
     "execution_count": 5,
     "metadata": {},
     "output_type": "execute_result"
    }
   ],
   "source": [
    "from sklearn.linear_model import LinearRegression \n",
    "lin_reg = LinearRegression() \n",
    "lin_reg.fit(X, y)\n",
    "lin_reg.intercept_, lin_reg.coef_"
   ]
  },
  {
   "cell_type": "code",
   "execution_count": 7,
   "id": "7fa4b208",
   "metadata": {},
   "outputs": [
    {
     "data": {
      "text/plain": [
       "array([[3.90541626],\n",
       "       [9.9278099 ]])"
      ]
     },
     "execution_count": 7,
     "metadata": {},
     "output_type": "execute_result"
    }
   ],
   "source": [
    "lin_reg.predict(X_new)"
   ]
  },
  {
   "cell_type": "markdown",
   "id": "7d5d3cac",
   "metadata": {},
   "source": [
    "#### SGD(확률적 경사 하강법)"
   ]
  },
  {
   "cell_type": "code",
   "execution_count": 8,
   "id": "38a41913",
   "metadata": {},
   "outputs": [
    {
     "data": {
      "text/plain": [
       "SGDRegressor(eta0=0.1, penalty=None, random_state=777)"
      ]
     },
     "execution_count": 8,
     "metadata": {},
     "output_type": "execute_result"
    }
   ],
   "source": [
    "from sklearn.linear_model import SGDRegressor \n",
    "sgd_reg = SGDRegressor(max_iter=1000, tol=1e-3, penalty=None, eta0=0.1, random_state=777) \n",
    "sgd_reg.fit(X, y.ravel())"
   ]
  },
  {
   "cell_type": "code",
   "execution_count": 9,
   "id": "7bc16d8c",
   "metadata": {},
   "outputs": [
    {
     "data": {
      "text/plain": [
       "(array([3.85515196]), array([3.17403649]))"
      ]
     },
     "execution_count": 9,
     "metadata": {},
     "output_type": "execute_result"
    }
   ],
   "source": [
    "sgd_reg.intercept_, sgd_reg.coef_"
   ]
  },
  {
   "cell_type": "code",
   "execution_count": 10,
   "id": "696fb87b",
   "metadata": {},
   "outputs": [
    {
     "data": {
      "text/plain": [
       "array([ 3.85515196, 10.20322494])"
      ]
     },
     "execution_count": 10,
     "metadata": {},
     "output_type": "execute_result"
    }
   ],
   "source": [
    "sgd_reg.predict(X_new)"
   ]
  },
  {
   "cell_type": "markdown",
   "id": "e2f4d2e2",
   "metadata": {},
   "source": [
    "#### 다항 회귀"
   ]
  },
  {
   "cell_type": "code",
   "execution_count": 11,
   "id": "d597ed1e",
   "metadata": {},
   "outputs": [],
   "source": [
    "# 2차 방정식으로 비선형 데이터 생성: y = 0.5x^2+x+2\n",
    "import numpy as np \n",
    "import numpy.random as rnd \n",
    "np.random.seed(2020) \n",
    "m = 100 \n",
    "X = 6 * np.random.rand(m, 1) - 3 \n",
    "y = 0.5 * X**2 + X + 2 + np.random.randn(m, 1)"
   ]
  },
  {
   "cell_type": "code",
   "execution_count": 12,
   "id": "6f72c7ca",
   "metadata": {},
   "outputs": [
    {
     "data": {
      "text/plain": [
       "array([2.91766097])"
      ]
     },
     "execution_count": 12,
     "metadata": {},
     "output_type": "execute_result"
    }
   ],
   "source": [
    "from sklearn.preprocessing import PolynomialFeatures \n",
    "poly_features = PolynomialFeatures(degree=2, include_bias=False) \n",
    "X_poly = poly_features.fit_transform(X) \n",
    "X[0]"
   ]
  },
  {
   "cell_type": "markdown",
   "id": "3372d17d",
   "metadata": {},
   "source": [
    "* polynomialFeatures 함수 이용해서 degree에 2 대신 더 높은 숫자를 넣으면 높은 차원의 다항회귀도 적합할 수 있음."
   ]
  },
  {
   "cell_type": "code",
   "execution_count": 15,
   "id": "db81ac9b",
   "metadata": {},
   "outputs": [
    {
     "data": {
      "text/plain": [
       "array([2.91766097, 8.51274555])"
      ]
     },
     "execution_count": 15,
     "metadata": {},
     "output_type": "execute_result"
    }
   ],
   "source": [
    "X_poly[0]   # x값과 x의 2차항"
   ]
  },
  {
   "cell_type": "code",
   "execution_count": 16,
   "id": "e6572791",
   "metadata": {},
   "outputs": [
    {
     "data": {
      "text/plain": [
       "LinearRegression()"
      ]
     },
     "execution_count": 16,
     "metadata": {},
     "output_type": "execute_result"
    }
   ],
   "source": [
    "# LinearRegression 적용\n",
    "lin_reg = LinearRegression() \n",
    "lin_reg.fit(X_poly, y)"
   ]
  },
  {
   "cell_type": "code",
   "execution_count": 17,
   "id": "69660ecf",
   "metadata": {},
   "outputs": [
    {
     "data": {
      "text/plain": [
       "(array([2.12101388]), array([[1.05245102, 0.48033081]]))"
      ]
     },
     "execution_count": 17,
     "metadata": {},
     "output_type": "execute_result"
    }
   ],
   "source": [
    "lin_reg.intercept_, lin_reg.coef_"
   ]
  },
  {
   "cell_type": "code",
   "execution_count": 21,
   "id": "4675a06e",
   "metadata": {},
   "outputs": [
    {
     "data": {
      "image/png": "[encoded data removed]",
      "text/plain": [
       "<Figure size 432x288 with 1 Axes>"
      ]
     },
     "metadata": {
      "needs_background": "light"
     },
     "output_type": "display_data"
    }
   ],
   "source": [
    "X_new=np.linspace(-3, 3, 100).reshape(100, 1) \n",
    "X_new_poly = poly_features.transform(X_new) \n",
    "y_new = lin_reg.predict(X_new_poly) \n",
    "plt.plot(X, y, \"b.\") \n",
    "plt.plot(X_new, y_new, \"r-\", linewidth=2, label=\"Predictions\") \n",
    "plt.xlabel(\"$x_1$\", fontsize=18) \n",
    "plt.ylabel(\"$y$\", rotation=0, fontsize=18) \n",
    "plt.legend(loc=\"upper left\", fontsize=14) \n",
    "plt.axis([-3, 3, 0, 10])\n",
    "## [-3, 3, 0, 10]\n",
    "plt.show()"
   ]
  },
  {
   "cell_type": "markdown",
   "id": "4b9de2dd",
   "metadata": {},
   "source": [
    "#### 릿지 회귀"
   ]
  },
  {
   "cell_type": "code",
   "execution_count": 23,
   "id": "19af8ffd",
   "metadata": {},
   "outputs": [],
   "source": [
    "np.random.seed(2020) \n",
    "m = 20 \n",
    "X = 3 * np.random.rand(m, 1)     # m * 1 matrix 형태로 N(0,1) 따르는 데이터 생성\n",
    "y = 1 + 0.5 * X + np.random.randn(m, 1) / 1.5 \n",
    "X_new = np.linspace(0, 3, 100).reshape(100, 1)"
   ]
  },
  {
   "cell_type": "code",
   "execution_count": 25,
   "id": "11ffdf14",
   "metadata": {},
   "outputs": [
    {
     "data": {
      "text/plain": [
       "Ridge(alpha=1, random_state=777, solver='cholesky')"
      ]
     },
     "execution_count": 25,
     "metadata": {},
     "output_type": "execute_result"
    }
   ],
   "source": [
    "from sklearn.linear_model import Ridge \n",
    "ridge_reg = Ridge(alpha=1, solver=\"cholesky\", random_state=777) \n",
    "ridge_reg.fit(X, y)"
   ]
  },
  {
   "cell_type": "code",
   "execution_count": 26,
   "id": "3d339940",
   "metadata": {},
   "outputs": [
    {
     "data": {
      "text/plain": [
       "array([[1.86016341]])"
      ]
     },
     "execution_count": 26,
     "metadata": {},
     "output_type": "execute_result"
    }
   ],
   "source": [
    "ridge_reg.predict([[1.5]])"
   ]
  },
  {
   "cell_type": "markdown",
   "id": "57da432a",
   "metadata": {},
   "source": [
    "#### 랏쏘 회귀"
   ]
  },
  {
   "cell_type": "code",
   "execution_count": 27,
   "id": "64d5d573",
   "metadata": {},
   "outputs": [
    {
     "data": {
      "text/plain": [
       "array([1.8437758])"
      ]
     },
     "execution_count": 27,
     "metadata": {},
     "output_type": "execute_result"
    }
   ],
   "source": [
    "from sklearn.linear_model import Lasso \n",
    "lasso_reg = Lasso(alpha=0.1) \n",
    "lasso_reg.fit(X, y)\n",
    "\n",
    "lasso_reg.predict([[1.5]])"
   ]
  },
  {
   "cell_type": "markdown",
   "id": "f91ddadb",
   "metadata": {},
   "source": [
    "Elastic Net"
   ]
  },
  {
   "cell_type": "code",
   "execution_count": 28,
   "id": "d2ecfd76",
   "metadata": {},
   "outputs": [
    {
     "data": {
      "text/plain": [
       "array([1.84970189])"
      ]
     },
     "execution_count": 28,
     "metadata": {},
     "output_type": "execute_result"
    }
   ],
   "source": [
    "from sklearn.linear_model import ElasticNet \n",
    "elastic_net = ElasticNet(alpha=0.1, l1_ratio=0.5, random_state=777) \n",
    "elastic_net.fit(X, y)\n",
    "\n",
    "elastic_net.predict([[1.5]])"
   ]
  },
  {
   "cell_type": "markdown",
   "id": "0a5f4d2c",
   "metadata": {},
   "source": [
    "#### 로지스틱회귀"
   ]
  },
  {
   "cell_type": "code",
   "execution_count": 29,
   "id": "768ff6c1",
   "metadata": {},
   "outputs": [],
   "source": [
    "from sklearn import datasets \n",
    "iris = datasets.load_iris()\n",
    "\n",
    "X = iris[\"data\"][:, 3:] \n",
    "y = (iris[\"target\"] == 2).astype(np.int)"
   ]
  },
  {
   "cell_type": "code",
   "execution_count": 30,
   "id": "f2ed2cd2",
   "metadata": {},
   "outputs": [
    {
     "data": {
      "text/plain": [
       "LogisticRegression(random_state=777)"
      ]
     },
     "execution_count": 30,
     "metadata": {},
     "output_type": "execute_result"
    }
   ],
   "source": [
    "from sklearn.linear_model import LogisticRegression \n",
    "log_reg = LogisticRegression(solver=\"lbfgs\", random_state=777) \n",
    "log_reg.fit(X, y)"
   ]
  },
  {
   "cell_type": "code",
   "execution_count": 35,
   "id": "f265097e",
   "metadata": {},
   "outputs": [
    {
     "data": {
      "text/plain": [
       "array([0])"
      ]
     },
     "execution_count": 35,
     "metadata": {},
     "output_type": "execute_result"
    }
   ],
   "source": [
    "log_reg.predict([[0.5]])"
   ]
  },
  {
   "cell_type": "code",
   "execution_count": 36,
   "id": "6437b130",
   "metadata": {},
   "outputs": [
    {
     "data": {
      "text/plain": [
       "array([1])"
      ]
     },
     "execution_count": 36,
     "metadata": {},
     "output_type": "execute_result"
    }
   ],
   "source": [
    "log_reg.predict([[1.8]])"
   ]
  },
  {
   "cell_type": "markdown",
   "id": "a99b2be8",
   "metadata": {},
   "source": [
    "- multinomial - softmax regression"
   ]
  },
  {
   "cell_type": "code",
   "execution_count": 37,
   "id": "66591037",
   "metadata": {},
   "outputs": [
    {
     "data": {
      "text/plain": [
       "LogisticRegression(C=10, multi_class='multinomial', random_state=777)"
      ]
     },
     "execution_count": 37,
     "metadata": {},
     "output_type": "execute_result"
    }
   ],
   "source": [
    "X = iris[\"data\"][:, (2, 3)] \n",
    "y = iris[\"target\"]\n",
    "\n",
    "softmax_reg = LogisticRegression(multi_class=\"multinomial\",solver=\"lbfgs\", C=10, random_state=777) \n",
    "softmax_reg.fit(X, y)"
   ]
  },
  {
   "cell_type": "code",
   "execution_count": 38,
   "id": "46372c5c",
   "metadata": {},
   "outputs": [
    {
     "data": {
      "text/plain": [
       "array([2])"
      ]
     },
     "execution_count": 38,
     "metadata": {},
     "output_type": "execute_result"
    }
   ],
   "source": [
    "softmax_reg.predict([[5, 2]])"
   ]
  },
  {
   "cell_type": "code",
   "execution_count": 39,
   "id": "c39a6f08",
   "metadata": {},
   "outputs": [
    {
     "data": {
      "text/plain": [
       "array([[6.38014896e-07, 5.74929995e-02, 9.42506362e-01]])"
      ]
     },
     "execution_count": 39,
     "metadata": {},
     "output_type": "execute_result"
    }
   ],
   "source": [
    "softmax_reg.predict_proba([[5, 2]])"
   ]
  },
  {
   "cell_type": "markdown",
   "id": "1c9d9753",
   "metadata": {},
   "source": [
    "### ML5 - SVM\n",
    "- 선형 혹은 비선형 분류, 회귀 모두 사용 가능.\n",
    "- 복잡한 분류 문제에 잘 맞음\n",
    "- 작거나 중간 크기의 데이터\n",
    "- scale에 민감함 => 사용 전에 꼭 조정하자!"
   ]
  },
  {
   "cell_type": "markdown",
   "id": "e3efbf02",
   "metadata": {},
   "source": [
    "#### 선형 SVM 분류\n",
    "iris 데이터의 petal.length, petal.width를 이용해서 virginica를 분류"
   ]
  },
  {
   "cell_type": "markdown",
   "id": "041e27ce",
   "metadata": {},
   "source": [
    "- sklearn의 LinearSVC 이용"
   ]
  },
  {
   "cell_type": "code",
   "execution_count": 2,
   "id": "435d347a",
   "metadata": {},
   "outputs": [],
   "source": [
    "import numpy as np \n",
    "from sklearn import datasets \n",
    "from sklearn.pipeline import Pipeline \n",
    "from sklearn.preprocessing import StandardScaler \n",
    "from sklearn.svm import LinearSVC\n",
    "\n",
    "iris = datasets.load_iris() \n",
    "X = iris[\"data\"][:, (2, 3)] \n",
    "y = (iris[\"target\"] == 2).astype(np.float64) # Virginica"
   ]
  },
  {
   "cell_type": "code",
   "execution_count": 3,
   "id": "9f934672",
   "metadata": {},
   "outputs": [
    {
     "data": {
      "text/plain": [
       "Pipeline(steps=[('scaler', StandardScaler()),\n",
       "                ('linear_svc',\n",
       "                 LinearSVC(C=1, loss='hinge', random_state=2020))])"
      ]
     },
     "execution_count": 3,
     "metadata": {},
     "output_type": "execute_result"
    }
   ],
   "source": [
    "svm_clf = Pipeline([ \n",
    "    (\"scaler\", StandardScaler()),     # 스케일링\n",
    "    (\"linear_svc\", LinearSVC(C=1, loss=\"hinge\", random_state=2020)), #모델 객체 생성\n",
    "]) \n",
    "svm_clf.fit(X, y)"
   ]
  },
  {
   "cell_type": "code",
   "execution_count": 5,
   "id": "c211d1b7",
   "metadata": {},
   "outputs": [
    {
     "data": {
      "text/plain": [
       "array([1.])"
      ]
     },
     "execution_count": 5,
     "metadata": {},
     "output_type": "execute_result"
    }
   ],
   "source": [
    "svm_clf.predict([[5.5, 2.5]])"
   ]
  },
  {
   "cell_type": "code",
   "execution_count": 6,
   "id": "e257e1a3",
   "metadata": {},
   "outputs": [
    {
     "data": {
      "text/plain": [
       "array([0.])"
      ]
     },
     "execution_count": 6,
     "metadata": {},
     "output_type": "execute_result"
    }
   ],
   "source": [
    "svm_clf.predict([[4.25, 1.0]])"
   ]
  },
  {
   "cell_type": "markdown",
   "id": "1a996836",
   "metadata": {},
   "source": [
    "- SVC 이용"
   ]
  },
  {
   "cell_type": "code",
   "execution_count": 7,
   "id": "44e2b4bf",
   "metadata": {},
   "outputs": [
    {
     "data": {
      "text/plain": [
       "Pipeline(steps=[('scaler', StandardScaler()),\n",
       "                ('SVC_linear', SVC(kernel='linear', random_state=2020))])"
      ]
     },
     "execution_count": 7,
     "metadata": {},
     "output_type": "execute_result"
    }
   ],
   "source": [
    "from sklearn.svm import SVC \n",
    "\n",
    "svm_clf_SVC = Pipeline([ \n",
    "    (\"scaler\", StandardScaler()), \n",
    "    (\"SVC_linear\", SVC(kernel='linear',C=1.0, random_state=2020)), \n",
    "]) \n",
    "svm_clf_SVC.fit(X, y)"
   ]
  },
  {
   "cell_type": "code",
   "execution_count": 8,
   "id": "a8eebbc2",
   "metadata": {},
   "outputs": [
    {
     "data": {
      "text/plain": [
       "array([1.])"
      ]
     },
     "execution_count": 8,
     "metadata": {},
     "output_type": "execute_result"
    }
   ],
   "source": [
    "svm_clf_SVC.predict([[5.5, 2.5]])"
   ]
  },
  {
   "cell_type": "code",
   "execution_count": 9,
   "id": "c6119ee0",
   "metadata": {},
   "outputs": [
    {
     "data": {
      "text/plain": [
       "array([0.])"
      ]
     },
     "execution_count": 9,
     "metadata": {},
     "output_type": "execute_result"
    }
   ],
   "source": [
    "svm_clf_SVC.predict([[4.25, 1.0]])"
   ]
  },
  {
   "cell_type": "markdown",
   "id": "52887a60",
   "metadata": {},
   "source": [
    "- SGDClassifier 이용      \n",
    "linearSVC만큼 빠르게 수렴하지는 않지만 data가 매우 크거나 온라인 학습으로 분류 문제를 다룰 때 유용함."
   ]
  },
  {
   "cell_type": "code",
   "execution_count": 10,
   "id": "90b6fe9f",
   "metadata": {},
   "outputs": [
    {
     "data": {
      "text/plain": [
       "Pipeline(steps=[('scaler', StandardScaler()),\n",
       "                ('SGD_linear',\n",
       "                 SGDClassifier(alpha=0.006666666666666667, random_state=2020))])"
      ]
     },
     "execution_count": 10,
     "metadata": {},
     "output_type": "execute_result"
    }
   ],
   "source": [
    "from sklearn.linear_model import SGDClassifier \n",
    "m = X.shape[0] \n",
    "C = 1.0 \n",
    "svm_clf_SGD = Pipeline([ \n",
    "    (\"scaler\", StandardScaler()), \n",
    "    (\"SGD_linear\", SGDClassifier(loss=\"hinge\",alpha = 1/(m*C), random_state=2020)), \n",
    "]) \n",
    "svm_clf_SGD.fit(X, y)"
   ]
  },
  {
   "cell_type": "code",
   "execution_count": 11,
   "id": "33a6cb74",
   "metadata": {},
   "outputs": [
    {
     "data": {
      "text/plain": [
       "array([1.])"
      ]
     },
     "execution_count": 11,
     "metadata": {},
     "output_type": "execute_result"
    }
   ],
   "source": [
    "svm_clf_SGD.predict([[5.5, 2.5]])"
   ]
  },
  {
   "cell_type": "code",
   "execution_count": 12,
   "id": "e55d7876",
   "metadata": {},
   "outputs": [
    {
     "data": {
      "text/plain": [
       "array([0.])"
      ]
     },
     "execution_count": 12,
     "metadata": {},
     "output_type": "execute_result"
    }
   ],
   "source": [
    "svm_clf_SGD.predict([[4.25, 1.0]])"
   ]
  },
  {
   "cell_type": "markdown",
   "id": "431dc530",
   "metadata": {},
   "source": [
    "#### 비선형 SVM 분류\n",
    "선형으로는 분류가 불가능한 경우."
   ]
  },
  {
   "cell_type": "markdown",
   "id": "09c241ff",
   "metadata": {},
   "source": [
    "- LinearSVC 이용\n",
    "    - polynomial features 변환기 이용해서 다항변수 만들기\n",
    "    - 스케일 조정\n",
    "    - 분류기 생성"
   ]
  },
  {
   "cell_type": "code",
   "execution_count": 13,
   "id": "5aa70fbe",
   "metadata": {},
   "outputs": [
    {
     "data": {
      "text/plain": [
       "Pipeline(steps=[('poly_features', PolynomialFeatures(degree=3)),\n",
       "                ('scaler', StandardScaler()),\n",
       "                ('svm_clf', LinearSVC(C=10, loss='hinge', random_state=2020))])"
      ]
     },
     "execution_count": 13,
     "metadata": {},
     "output_type": "execute_result"
    }
   ],
   "source": [
    "from sklearn.datasets import make_moons \n",
    "from sklearn.pipeline import Pipeline \n",
    "from sklearn.preprocessing import PolynomialFeatures \n",
    "from sklearn.preprocessing import StandardScaler \n",
    "from sklearn.svm import LinearSVC\n",
    "\n",
    "X, y = make_moons(n_samples=100, noise=0.15, random_state=2020)\n",
    "\n",
    "polynomial_svm_clf = Pipeline([ \n",
    "    (\"poly_features\", PolynomialFeatures(degree=3)), \n",
    "    (\"scaler\", StandardScaler()), \n",
    "    (\"svm_clf\", LinearSVC(C=10, loss=\"hinge\", random_state=2020)) \n",
    "]) \n",
    "polynomial_svm_clf.fit(X, y)"
   ]
  },
  {
   "cell_type": "markdown",
   "id": "d3b0964f",
   "metadata": {},
   "source": [
    "- SVC 이용: kernel trick(실제 특성은 추가 안하면서 다항식의 특성을 추가한 것과 같은 결과를 내는 것)\n",
    "    - 스케일 조정\n",
    "    - SVC(kernel=\"poly\") 이용.\n",
    "    - 모델이 과대적합이면 다항식 차수 내리기.\n",
    "    - coef0: 모델이 높은 차수와 낮은 차수에 얼마나 영향을 받을지 조절"
   ]
  },
  {
   "cell_type": "code",
   "execution_count": 14,
   "id": "5f1fc78f",
   "metadata": {},
   "outputs": [
    {
     "data": {
      "text/plain": [
       "Pipeline(steps=[('scaler', StandardScaler()),\n",
       "                ('svm_clf', SVC(C=5, coef0=1, kernel='poly'))])"
      ]
     },
     "execution_count": 14,
     "metadata": {},
     "output_type": "execute_result"
    }
   ],
   "source": [
    "from sklearn.svm import SVC \n",
    "poly_kernel_svm_clf = Pipeline([ \n",
    "    (\"scaler\", StandardScaler()), \n",
    "    (\"svm_clf\", SVC(kernel=\"poly\", degree=3, coef0=1, C=5)) \n",
    "]) \n",
    "poly_kernel_svm_clf.fit(X, y)"
   ]
  },
  {
   "cell_type": "markdown",
   "id": "f3abb44c",
   "metadata": {},
   "source": [
    "- SVC(kernel=\"rbf\", gamma=?, C=?) : 가우시안 RBF 커널\n",
    "    - gamma 증가:각 샘플의 영향 범위가 작아짐 -> 결정경계가 불규칙해짐\n",
    "    - gamma 감소: 영향범위 넓어짐 -> 결정 경계가 부드러워짐.        \n",
    "    모델이 overfitting 인 경우 gamma를 감소시켜야 한다."
   ]
  },
  {
   "cell_type": "code",
   "execution_count": 15,
   "id": "a4f0c0f2",
   "metadata": {},
   "outputs": [
    {
     "data": {
      "text/plain": [
       "Pipeline(steps=[('scaler', StandardScaler()),\n",
       "                ('svm_clf', SVC(C=0.001, gamma=5))])"
      ]
     },
     "execution_count": 15,
     "metadata": {},
     "output_type": "execute_result"
    }
   ],
   "source": [
    "rbf_kernel_svm_clf = Pipeline([ \n",
    "    (\"scaler\", StandardScaler()), \n",
    "    (\"svm_clf\", SVC(kernel=\"rbf\", gamma=5, C=0.001)) \n",
    "]) \n",
    "rbf_kernel_svm_clf.fit(X, y)"
   ]
  },
  {
   "attachments": {
    "image.png": {
     "image/png": "[encoded data removed]"
    }
   },
   "cell_type": "markdown",
   "id": "a5f2c090",
   "metadata": {},
   "source": [
    "![image.png](attachment:image.png)"
   ]
  },
  {
   "cell_type": "markdown",
   "id": "b89fa3a8",
   "metadata": {},
   "source": [
    "#### SVM 회귀"
   ]
  },
  {
   "cell_type": "markdown",
   "id": "6d9cf359",
   "metadata": {},
   "source": [
    "- 선형 회귀"
   ]
  },
  {
   "cell_type": "code",
   "execution_count": 17,
   "id": "6afe48e3",
   "metadata": {},
   "outputs": [],
   "source": [
    "np.random.seed(2020) \n",
    "m = 50 \n",
    "X = 2 * np.random.rand(m, 1) \n",
    "y = (4 + 3 * X + np.random.randn(m, 1)).ravel()"
   ]
  },
  {
   "cell_type": "code",
   "execution_count": 18,
   "id": "859fb385",
   "metadata": {},
   "outputs": [
    {
     "data": {
      "text/plain": [
       "LinearSVR(epsilon=1.5, random_state=2020)"
      ]
     },
     "execution_count": 18,
     "metadata": {},
     "output_type": "execute_result"
    }
   ],
   "source": [
    "from sklearn.svm import LinearSVR \n",
    "svm_reg = LinearSVR(epsilon=1.5, random_state=2020) \n",
    "svm_reg.fit(X, y)"
   ]
  },
  {
   "cell_type": "markdown",
   "id": "4515e0ea",
   "metadata": {},
   "source": [
    "- 비선형회귀"
   ]
  },
  {
   "cell_type": "code",
   "execution_count": 19,
   "id": "a03291ae",
   "metadata": {},
   "outputs": [
    {
     "data": {
      "text/plain": [
       "SVR(C=100, degree=2, kernel='poly')"
      ]
     },
     "execution_count": 19,
     "metadata": {},
     "output_type": "execute_result"
    }
   ],
   "source": [
    "np.random.seed(2020) \n",
    "m = 100 \n",
    "X = 2 * np.random.rand(m, 1) - 1 \n",
    "y = (0.2 + 0.1 * X + 0.5 * X**2 + np.random.randn(m, 1)/10).ravel()\n",
    "\n",
    "from sklearn.svm import SVR \n",
    "\n",
    "svm_poly_reg = SVR(kernel=\"poly\", degree=2, C=100, epsilon=0.1, gamma=\"scale\") \n",
    "svm_poly_reg.fit(X, y)"
   ]
  },
  {
   "cell_type": "markdown",
   "id": "0f45c93f",
   "metadata": {},
   "source": [
    "### ML6 - Decision Tree\n",
    "- 분류/회귀/다중출력"
   ]
  },
  {
   "cell_type": "markdown",
   "id": "aa079e9d",
   "metadata": {},
   "source": [
    "#### 분류나무\n",
    "- max_depth : 트리의 최대 깊이\n",
    "- min_samples_split: 분할을 위해 노드가 가져야 하는 최소 샘플수\n",
    "- min_samples_leaf: 리프노드가 가지고 있어야 할 최소 샘플수\n",
    "- min_weight_fraction_leaf: 가중차기 부여된 전체 샘플수에서의 최소 비율\n",
    "- max_leaf_nodes: 리프노드의 최대 수\n",
    "- max_features : 각 노드에서 분할에 이용할 특성의 최대수"
   ]
  },
  {
   "cell_type": "code",
   "execution_count": 23,
   "id": "456c9368",
   "metadata": {},
   "outputs": [
    {
     "data": {
      "text/plain": [
       "DecisionTreeClassifier(max_depth=2, random_state=42)"
      ]
     },
     "execution_count": 23,
     "metadata": {},
     "output_type": "execute_result"
    }
   ],
   "source": [
    "from sklearn.datasets import load_iris \n",
    "from sklearn.tree import DecisionTreeClassifier, plot_tree\n",
    "\n",
    "iris = load_iris() \n",
    "X = iris.data[:, 2:] \n",
    "y = iris.target \n",
    "\n",
    "tree_clf = DecisionTreeClassifier(max_depth=2, random_state=42) \n",
    "tree_clf.fit(X, y)"
   ]
  },
  {
   "cell_type": "code",
   "execution_count": 25,
   "id": "59113511",
   "metadata": {},
   "outputs": [
    {
     "data": {
      "image/png": "[encoded data removed]",
      "text/plain": [
       "<Figure size 864x864 with 1 Axes>"
      ]
     },
     "metadata": {
      "needs_background": "light"
     },
     "output_type": "display_data"
    }
   ],
   "source": [
    "plt.figure(figsize=(12,12))\n",
    "plot_tree(tree_clf);"
   ]
  },
  {
   "cell_type": "markdown",
   "id": "989c2c3e",
   "metadata": {},
   "source": [
    "- 클래스 확률 추정"
   ]
  },
  {
   "cell_type": "code",
   "execution_count": 26,
   "id": "c92d5f3b",
   "metadata": {},
   "outputs": [
    {
     "data": {
      "text/plain": [
       "array([[0.        , 0.90740741, 0.09259259]])"
      ]
     },
     "execution_count": 26,
     "metadata": {},
     "output_type": "execute_result"
    }
   ],
   "source": [
    "tree_clf.predict_proba([[5, 1.5]])"
   ]
  },
  {
   "cell_type": "code",
   "execution_count": 27,
   "id": "9449f10f",
   "metadata": {},
   "outputs": [
    {
     "data": {
      "text/plain": [
       "array([1])"
      ]
     },
     "execution_count": 27,
     "metadata": {},
     "output_type": "execute_result"
    }
   ],
   "source": [
    "tree_clf.predict([[5, 1.5]])"
   ]
  },
  {
   "cell_type": "markdown",
   "id": "253ff269",
   "metadata": {},
   "source": [
    "#### 회귀나무"
   ]
  },
  {
   "cell_type": "code",
   "execution_count": 29,
   "id": "0c76a272",
   "metadata": {},
   "outputs": [
    {
     "data": {
      "text/plain": [
       "DecisionTreeRegressor(max_depth=2, random_state=42)"
      ]
     },
     "execution_count": 29,
     "metadata": {},
     "output_type": "execute_result"
    }
   ],
   "source": [
    "np.random.seed(42) \n",
    "m = 200 \n",
    "X = np.random.rand(m, 1) \n",
    "y = 4 * (X - 0.5) ** 2 \n",
    "y = y + np.random.randn(m, 1) / 10\n",
    "\n",
    "from sklearn.tree import DecisionTreeRegressor \n",
    "\n",
    "tree_reg = DecisionTreeRegressor(max_depth=2, random_state=42) \n",
    "tree_reg.fit(X, y)"
   ]
  },
  {
   "cell_type": "code",
   "execution_count": 30,
   "id": "71fc3913",
   "metadata": {},
   "outputs": [
    {
     "data": {
      "image/png": "[encoded data removed]",
      "text/plain": [
       "<Figure size 864x864 with 1 Axes>"
      ]
     },
     "metadata": {
      "needs_background": "light"
     },
     "output_type": "display_data"
    }
   ],
   "source": [
    "plt.figure(figsize=(12,12))\n",
    "plot_tree(tree_reg);"
   ]
  },
  {
   "cell_type": "markdown",
   "id": "1fe4ead5",
   "metadata": {},
   "source": [
    "### ML7: Ensemble & Random Forest"
   ]
  },
  {
   "cell_type": "markdown",
   "id": "3f6a26ea",
   "metadata": {},
   "source": [
    "#### VotitngClassifier\n",
    "- logistic regression / random forest / svc 이용\n",
    "- 여기서는 voting=\"hard\"를 썼는데 soft를 쓸 수도 있음!"
   ]
  },
  {
   "cell_type": "code",
   "execution_count": 5,
   "id": "8d181645",
   "metadata": {},
   "outputs": [
    {
     "data": {
      "text/plain": [
       "VotingClassifier(estimators=[('lr', LogisticRegression(random_state=2020)),\n",
       "                             ('rf', RandomForestClassifier(random_state=2020)),\n",
       "                             ('svc', SVC(random_state=2020))])"
      ]
     },
     "execution_count": 5,
     "metadata": {},
     "output_type": "execute_result"
    }
   ],
   "source": [
    "from sklearn.model_selection import train_test_split \n",
    "from sklearn.datasets import make_moons \n",
    "\n",
    "X, y = make_moons(n_samples=500, noise=0.30, random_state=2020) \n",
    "X_train, X_test, y_train, y_test = train_test_split(X, y, random_state=2020)\n",
    "\n",
    "from sklearn.ensemble import RandomForestClassifier \n",
    "from sklearn.ensemble import VotingClassifier \n",
    "from sklearn.linear_model import LogisticRegression \n",
    "from sklearn.svm import SVC \n",
    "\n",
    "log_clf = LogisticRegression(solver=\"lbfgs\", random_state=2020) \n",
    "rnd_clf = RandomForestClassifier(n_estimators=100, random_state=2020) \n",
    "svm_clf = SVC(gamma=\"scale\", random_state=2020) \n",
    "\n",
    "voting_clf = VotingClassifier( \n",
    "    estimators=[('lr', log_clf), ('rf', rnd_clf), ('svc', svm_clf)],\n",
    "    voting='hard')\n",
    "\n",
    "\n",
    "voting_clf.fit(X_train, y_train)"
   ]
  },
  {
   "cell_type": "code",
   "execution_count": 32,
   "id": "97930a3f",
   "metadata": {},
   "outputs": [
    {
     "name": "stdout",
     "output_type": "stream",
     "text": [
      "LogisticRegression 0.856\n",
      "RandomForestClassifier 0.936\n",
      "SVC 0.952\n",
      "VotingClassifier 0.944\n"
     ]
    }
   ],
   "source": [
    "#각 분류기의 정확도 확인\n",
    "from sklearn.metrics import accuracy_score \n",
    "\n",
    "for clf in (log_clf, rnd_clf, svm_clf, voting_clf): \n",
    "    clf.fit(X_train, y_train) \n",
    "    y_pred = clf.predict(X_test) \n",
    "    print(clf.__class__.__name__, accuracy_score(y_test, y_pred))"
   ]
  },
  {
   "cell_type": "markdown",
   "id": "9e28aaea",
   "metadata": {},
   "source": [
    "#### 배깅"
   ]
  },
  {
   "cell_type": "code",
   "execution_count": 33,
   "id": "1fd86749",
   "metadata": {},
   "outputs": [],
   "source": [
    "from sklearn.ensemble import BaggingClassifier \n",
    "from sklearn.tree import DecisionTreeClassifier\n",
    "\n",
    "bag_clf = BaggingClassifier( \n",
    "    DecisionTreeClassifier(random_state=2020), \n",
    "    n_estimators=500, max_samples=100, \n",
    "    bootstrap=True, random_state=2020) \n",
    "\n",
    "bag_clf.fit(X_train, y_train)\n",
    "y_pred = bag_clf.predict(X_test)"
   ]
  },
  {
   "cell_type": "code",
   "execution_count": 34,
   "id": "0654b1f5",
   "metadata": {},
   "outputs": [
    {
     "name": "stdout",
     "output_type": "stream",
     "text": [
      "0.936\n"
     ]
    }
   ],
   "source": [
    "from sklearn.metrics import accuracy_score \n",
    "print(accuracy_score(y_test, y_pred))"
   ]
  },
  {
   "cell_type": "markdown",
   "id": "faf381c4",
   "metadata": {},
   "source": [
    "배깅 함수에서 bootstrap=Fale로 바꾸면 pasting         \n",
    ": 중복을 허용하지 않은 샘플링"
   ]
  },
  {
   "cell_type": "code",
   "execution_count": 36,
   "id": "9d3974ab",
   "metadata": {},
   "outputs": [
    {
     "data": {
      "text/plain": [
       "0.896"
      ]
     },
     "execution_count": 36,
     "metadata": {},
     "output_type": "execute_result"
    }
   ],
   "source": [
    "# oob 평가\n",
    "bag_clf = BaggingClassifier( DecisionTreeClassifier(), \n",
    "                            n_estimators=500, bootstrap=True, \n",
    "                            random_state=2020,n_jobs=1,oob_score=True) \n",
    "\n",
    "bag_clf.fit(X_train, y_train)\n",
    "\n",
    "bag_clf.oob_score_"
   ]
  },
  {
   "cell_type": "code",
   "execution_count": 37,
   "id": "77948739",
   "metadata": {},
   "outputs": [
    {
     "data": {
      "text/plain": [
       "0.944"
      ]
     },
     "execution_count": 37,
     "metadata": {},
     "output_type": "execute_result"
    }
   ],
   "source": [
    "from sklearn.metrics import accuracy_score \n",
    "y_pred = bag_clf.predict(X_test) \n",
    "accuracy_score(y_test,y_pred)"
   ]
  },
  {
   "cell_type": "markdown",
   "id": "895dfd3b",
   "metadata": {},
   "source": [
    "#### 랜덤포레스트\n",
    "max_samples로 훈련 세트 크기지정"
   ]
  },
  {
   "cell_type": "code",
   "execution_count": 38,
   "id": "1f6decd8",
   "metadata": {},
   "outputs": [
    {
     "data": {
      "text/plain": [
       "0.952"
      ]
     },
     "execution_count": 38,
     "metadata": {},
     "output_type": "execute_result"
    }
   ],
   "source": [
    "from sklearn.ensemble import RandomForestClassifier \n",
    "rnd_clf = RandomForestClassifier(\n",
    "    n_estimators=500, max_leaf_nodes=16, random_state=2020) \n",
    "rnd_clf.fit(X_train, y_train)\n",
    "y_pred_rf = rnd_clf.predict(X_test)\n",
    "np.sum(y_test == y_pred_rf) / len(y_test)"
   ]
  },
  {
   "cell_type": "markdown",
   "id": "2b803c8b",
   "metadata": {},
   "source": [
    "* bagging으로 랜덤포레스트와 유사하게"
   ]
  },
  {
   "cell_type": "code",
   "execution_count": 8,
   "id": "c7feef5f",
   "metadata": {},
   "outputs": [
    {
     "data": {
      "text/plain": [
       "0.944"
      ]
     },
     "execution_count": 8,
     "metadata": {},
     "output_type": "execute_result"
    }
   ],
   "source": [
    "from sklearn.ensemble import BaggingClassifier \n",
    "from sklearn.tree import DecisionTreeClassifier\n",
    "\n",
    "bag_clf = BaggingClassifier( \n",
    "    DecisionTreeClassifier(max_features=\"auto\",max_leaf_nodes=16), \n",
    "    n_estimators=500,max_samples=1.0,bootstrap=True) \n",
    "bag_clf.fit(X_train, y_train)\n",
    "\n",
    "y_pred_bag = bag_clf.predict(X_test) \n",
    "np.sum(y_test == y_pred_bag) / len(y_test)"
   ]
  },
  {
   "cell_type": "markdown",
   "id": "2210e515",
   "metadata": {},
   "source": [
    "- extra tree: 랜덤포레스트 중 극단적으로 무작위한 트리"
   ]
  },
  {
   "cell_type": "code",
   "execution_count": 9,
   "id": "8dd81488",
   "metadata": {},
   "outputs": [
    {
     "data": {
      "text/plain": [
       "0.944"
      ]
     },
     "execution_count": 9,
     "metadata": {},
     "output_type": "execute_result"
    }
   ],
   "source": [
    "from sklearn.ensemble import ExtraTreesClassifier \n",
    "\n",
    "extra_clf = ExtraTreesClassifier(n_estimators=500, random_state=2020) \n",
    "extra_clf.fit(X_train, y_train)\n",
    "\n",
    "y_pred_extra = extra_clf.predict(X_test) \n",
    "np.sum(y_test == y_pred_extra) / len(y_test)"
   ]
  },
  {
   "cell_type": "markdown",
   "id": "564695ab",
   "metadata": {},
   "source": [
    "- 특성의 중요도 파악"
   ]
  },
  {
   "cell_type": "code",
   "execution_count": 10,
   "id": "5673b5ae",
   "metadata": {},
   "outputs": [
    {
     "name": "stdout",
     "output_type": "stream",
     "text": [
      "sepal length (cm) 0.09501962624467897\n",
      "sepal width (cm) 0.0228520675895898\n",
      "petal length (cm) 0.42653720447161725\n",
      "petal width (cm) 0.45559110169411393\n"
     ]
    }
   ],
   "source": [
    "from sklearn.datasets import load_iris \n",
    "\n",
    "iris = load_iris() \n",
    "rnd_clf = RandomForestClassifier(n_estimators=500, random_state=2020) \n",
    "rnd_clf.fit(iris[\"data\"], iris[\"target\"])\n",
    "\n",
    "for name, score in zip(iris[\"feature_names\"], rnd_clf.feature_importances_): \n",
    "    print(name, score)"
   ]
  },
  {
   "cell_type": "markdown",
   "id": "61a68703",
   "metadata": {},
   "source": [
    "#### 부스팅"
   ]
  },
  {
   "cell_type": "markdown",
   "id": "b9b39d3d",
   "metadata": {},
   "source": [
    "- Adaboost"
   ]
  },
  {
   "cell_type": "code",
   "execution_count": 11,
   "id": "42d5dfb9",
   "metadata": {},
   "outputs": [
    {
     "data": {
      "text/plain": [
       "AdaBoostClassifier(base_estimator=DecisionTreeClassifier(max_depth=1),\n",
       "                   learning_rate=0.5, n_estimators=200, random_state=2020)"
      ]
     },
     "execution_count": 11,
     "metadata": {},
     "output_type": "execute_result"
    }
   ],
   "source": [
    "from sklearn.ensemble import AdaBoostClassifier\n",
    "\n",
    "ada_clf = AdaBoostClassifier( DecisionTreeClassifier(max_depth=1), \n",
    "                             n_estimators=200,algorithm=\"SAMME.R\", \n",
    "                             learning_rate=0.5, random_state=2020) \n",
    "ada_clf.fit(X_train, y_train)"
   ]
  },
  {
   "cell_type": "markdown",
   "id": "54e81529",
   "metadata": {},
   "source": [
    "- gradient boosting"
   ]
  },
  {
   "cell_type": "code",
   "execution_count": 12,
   "id": "b6dbe2bc",
   "metadata": {},
   "outputs": [
    {
     "data": {
      "text/plain": [
       "GradientBoostingRegressor(learning_rate=1.0, max_depth=2, n_estimators=3,\n",
       "                          random_state=2020)"
      ]
     },
     "execution_count": 12,
     "metadata": {},
     "output_type": "execute_result"
    }
   ],
   "source": [
    "from sklearn.ensemble import GradientBoostingRegressor \n",
    "gbrt = GradientBoostingRegressor(max_depth=2, n_estimators=3,   #예측기가 부족한편\n",
    "                                 learning_rate=1.0, random_state=2020) \n",
    "gbrt.fit(X, y)"
   ]
  },
  {
   "cell_type": "markdown",
   "id": "b84e0090",
   "metadata": {},
   "source": [
    "### ML8 - Dimension reduction"
   ]
  },
  {
   "cell_type": "markdown",
   "id": "d0d89885",
   "metadata": {},
   "source": [
    "#### PCA"
   ]
  },
  {
   "cell_type": "code",
   "execution_count": 13,
   "id": "aac1e861",
   "metadata": {},
   "outputs": [],
   "source": [
    "from sklearn.decomposition import PCA \n",
    "\n",
    "pca = PCA(n_components = 2) \n",
    "X2D = pca.fit_transform(X)"
   ]
  },
  {
   "cell_type": "code",
   "execution_count": 15,
   "id": "e2430f1b",
   "metadata": {},
   "outputs": [
    {
     "data": {
      "text/plain": [
       "array([[ 0.95654611, -0.29158111],\n",
       "       [ 0.29158111,  0.95654611]])"
      ]
     },
     "execution_count": 15,
     "metadata": {},
     "output_type": "execute_result"
    }
   ],
   "source": [
    "pca.components_"
   ]
  },
  {
   "cell_type": "code",
   "execution_count": 16,
   "id": "5241f913",
   "metadata": {},
   "outputs": [
    {
     "data": {
      "text/plain": [
       "array([0.75828232, 0.24171768])"
      ]
     },
     "execution_count": 16,
     "metadata": {},
     "output_type": "execute_result"
    }
   ],
   "source": [
    "pca.explained_variance_ratio_"
   ]
  }
 ],
 "metadata": {
  "kernelspec": {
   "display_name": "Python 3",
   "language": "python",
   "name": "python3"
  },
  "language_info": {
   "codemirror_mode": {
    "name": "ipython",
    "version": 3
   },
   "file_extension": ".py",
   "mimetype": "text/x-python",
   "name": "python",
   "nbconvert_exporter": "python",
   "pygments_lexer": "ipython3",
   "version": "3.8.8"
  }
 },
 "nbformat": 4,
 "nbformat_minor": 5
}
