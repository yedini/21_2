{
 "cells": [
  {
   "cell_type": "markdown",
   "id": "cd6a523c",
   "metadata": {},
   "source": [
    "#### load packages & data"
   ]
  },
  {
   "cell_type": "code",
   "execution_count": 71,
   "id": "e236f7c7",
   "metadata": {},
   "outputs": [],
   "source": [
    "import pandas as pd\n",
    "import numpy as np\n",
    "from sklearn.linear_model import LogisticRegression\n",
    "from sklearn.model_selection import train_test_split\n",
    "from sklearn.preprocessing import StandardScaler\n",
    "from sklearn.metrics import roc_curve, auc\n",
    "import matplotlib.pyplot as plt\n",
    "import statsmodels.formula.api as smf\n",
    "import statsmodels.api as sm\n",
    "from sklearn.tree import DecisionTreeRegressor, plot_tree\n",
    "from sklearn.tree import export_graphviz"
   ]
  },
  {
   "cell_type": "code",
   "execution_count": 57,
   "id": "e098170f",
   "metadata": {
    "scrolled": true
   },
   "outputs": [
    {
     "data": {
      "text/html": [
       "<div>\n",
       "<style scoped>\n",
       "    .dataframe tbody tr th:only-of-type {\n",
       "        vertical-align: middle;\n",
       "    }\n",
       "\n",
       "    .dataframe tbody tr th {\n",
       "        vertical-align: top;\n",
       "    }\n",
       "\n",
       "    .dataframe thead th {\n",
       "        text-align: right;\n",
       "    }\n",
       "</style>\n",
       "<table border=\"1\" class=\"dataframe\">\n",
       "  <thead>\n",
       "    <tr style=\"text-align: right;\">\n",
       "      <th></th>\n",
       "      <th>c</th>\n",
       "      <th>age</th>\n",
       "      <th>menopause</th>\n",
       "      <th>tumor_size</th>\n",
       "      <th>inv_nodes</th>\n",
       "      <th>node_caps</th>\n",
       "      <th>deg_malig</th>\n",
       "      <th>breast</th>\n",
       "      <th>breast_quad</th>\n",
       "      <th>irradiat</th>\n",
       "    </tr>\n",
       "  </thead>\n",
       "  <tbody>\n",
       "    <tr>\n",
       "      <th>0</th>\n",
       "      <td>no-recurrence-events</td>\n",
       "      <td>30-39</td>\n",
       "      <td>premeno</td>\n",
       "      <td>30-34</td>\n",
       "      <td>0-2</td>\n",
       "      <td>no</td>\n",
       "      <td>3</td>\n",
       "      <td>left</td>\n",
       "      <td>left_low</td>\n",
       "      <td>no</td>\n",
       "    </tr>\n",
       "    <tr>\n",
       "      <th>1</th>\n",
       "      <td>no-recurrence-events</td>\n",
       "      <td>40-49</td>\n",
       "      <td>premeno</td>\n",
       "      <td>20-24</td>\n",
       "      <td>0-2</td>\n",
       "      <td>no</td>\n",
       "      <td>2</td>\n",
       "      <td>right</td>\n",
       "      <td>right_up</td>\n",
       "      <td>no</td>\n",
       "    </tr>\n",
       "    <tr>\n",
       "      <th>2</th>\n",
       "      <td>no-recurrence-events</td>\n",
       "      <td>40-49</td>\n",
       "      <td>premeno</td>\n",
       "      <td>20-24</td>\n",
       "      <td>0-2</td>\n",
       "      <td>no</td>\n",
       "      <td>2</td>\n",
       "      <td>left</td>\n",
       "      <td>left_low</td>\n",
       "      <td>no</td>\n",
       "    </tr>\n",
       "    <tr>\n",
       "      <th>3</th>\n",
       "      <td>no-recurrence-events</td>\n",
       "      <td>60-69</td>\n",
       "      <td>ge40</td>\n",
       "      <td>15-19</td>\n",
       "      <td>0-2</td>\n",
       "      <td>no</td>\n",
       "      <td>2</td>\n",
       "      <td>right</td>\n",
       "      <td>left_up</td>\n",
       "      <td>no</td>\n",
       "    </tr>\n",
       "    <tr>\n",
       "      <th>4</th>\n",
       "      <td>no-recurrence-events</td>\n",
       "      <td>40-49</td>\n",
       "      <td>premeno</td>\n",
       "      <td>0-4</td>\n",
       "      <td>0-2</td>\n",
       "      <td>no</td>\n",
       "      <td>2</td>\n",
       "      <td>right</td>\n",
       "      <td>right_low</td>\n",
       "      <td>no</td>\n",
       "    </tr>\n",
       "  </tbody>\n",
       "</table>\n",
       "</div>"
      ],
      "text/plain": [
       "                      c    age menopause tumor_size inv_nodes node_caps  \\\n",
       "0  no-recurrence-events  30-39   premeno      30-34       0-2        no   \n",
       "1  no-recurrence-events  40-49   premeno      20-24       0-2        no   \n",
       "2  no-recurrence-events  40-49   premeno      20-24       0-2        no   \n",
       "3  no-recurrence-events  60-69      ge40      15-19       0-2        no   \n",
       "4  no-recurrence-events  40-49   premeno        0-4       0-2        no   \n",
       "\n",
       "   deg_malig breast breast_quad irradiat  \n",
       "0          3   left    left_low       no  \n",
       "1          2  right    right_up       no  \n",
       "2          2   left    left_low       no  \n",
       "3          2  right     left_up       no  \n",
       "4          2  right   right_low       no  "
      ]
     },
     "execution_count": 57,
     "metadata": {},
     "output_type": "execute_result"
    }
   ],
   "source": [
    "data = pd.read_csv('breast-cancer.txt', header=None)\n",
    "data.columns= ['c', 'age', 'menopause', 'tumor_size', 'inv_nodes', \n",
    "              'node_caps', 'deg_malig', 'breast', 'breast_quad', 'irradiat']\n",
    "data.head()"
   ]
  },
  {
   "cell_type": "code",
   "execution_count": 48,
   "id": "ded68eea",
   "metadata": {},
   "outputs": [
    {
     "name": "stdout",
     "output_type": "stream",
     "text": [
      "<class 'pandas.core.frame.DataFrame'>\n",
      "RangeIndex: 286 entries, 0 to 285\n",
      "Data columns (total 10 columns):\n",
      " #   Column       Non-Null Count  Dtype \n",
      "---  ------       --------------  ----- \n",
      " 0   class        286 non-null    object\n",
      " 1   age          286 non-null    object\n",
      " 2   menopause    286 non-null    object\n",
      " 3   tumor-size   286 non-null    object\n",
      " 4   inv-nodes    286 non-null    object\n",
      " 5   node-caps    286 non-null    object\n",
      " 6   deg-malig    286 non-null    int64 \n",
      " 7   breast       286 non-null    object\n",
      " 8   breast-quad  286 non-null    object\n",
      " 9   irradiat     286 non-null    object\n",
      "dtypes: int64(1), object(9)\n",
      "memory usage: 22.5+ KB\n"
     ]
    }
   ],
   "source": [
    "data.info()"
   ]
  },
  {
   "cell_type": "markdown",
   "id": "90994e3d",
   "metadata": {},
   "source": [
    "- na 데이터 처리"
   ]
  },
  {
   "cell_type": "code",
   "execution_count": 40,
   "id": "2a6ceb21",
   "metadata": {
    "scrolled": true
   },
   "outputs": [
    {
     "data": {
      "text/plain": [
       "no     222\n",
       "yes     56\n",
       "?        8\n",
       "Name: node_caps, dtype: int64"
      ]
     },
     "execution_count": 40,
     "metadata": {},
     "output_type": "execute_result"
    }
   ],
   "source": [
    "data['node_caps'].value_counts()"
   ]
  },
  {
   "cell_type": "code",
   "execution_count": 41,
   "id": "a17267ba",
   "metadata": {},
   "outputs": [
    {
     "data": {
      "text/plain": [
       "left_low     110\n",
       "left_up       97\n",
       "right_up      33\n",
       "right_low     24\n",
       "central       21\n",
       "?              1\n",
       "Name: breast_quad, dtype: int64"
      ]
     },
     "execution_count": 41,
     "metadata": {},
     "output_type": "execute_result"
    }
   ],
   "source": [
    "data['breast_quad'].value_counts()"
   ]
  },
  {
   "cell_type": "markdown",
   "id": "02aa4962",
   "metadata": {},
   "source": [
    "na값을 갖는 데이터가 많지 않고, na값이 있는 두 변수 모두 범주형 자료이므로 변수의 평균 등의 값으로 대체할 수 없으므로 na값이 존재하는 행은 삭제한다."
   ]
  },
  {
   "cell_type": "code",
   "execution_count": 58,
   "id": "3709b482",
   "metadata": {},
   "outputs": [],
   "source": [
    "naidx = data[(data['node_caps'] == '?') | (data['breast_quad'] == '?')].index\n",
    "data = data.drop(index=naidx, axis=0)"
   ]
  },
  {
   "cell_type": "markdown",
   "id": "8f9b2597",
   "metadata": {},
   "source": [
    "## 1. Logistic regression fitting"
   ]
  },
  {
   "cell_type": "markdown",
   "id": "3d2731a8",
   "metadata": {},
   "source": [
    "#### 1) recurrence event 확률을 예측하시오."
   ]
  },
  {
   "cell_type": "markdown",
   "id": "c53a8d99",
   "metadata": {},
   "source": [
    "train set으로 모델을 적합하고 test set을 예측하기 위해 전체 data set을 train과 test로 분리한다."
   ]
  },
  {
   "cell_type": "code",
   "execution_count": 61,
   "id": "7fa7f758",
   "metadata": {},
   "outputs": [
    {
     "data": {
      "text/html": [
       "<div>\n",
       "<style scoped>\n",
       "    .dataframe tbody tr th:only-of-type {\n",
       "        vertical-align: middle;\n",
       "    }\n",
       "\n",
       "    .dataframe tbody tr th {\n",
       "        vertical-align: top;\n",
       "    }\n",
       "\n",
       "    .dataframe thead th {\n",
       "        text-align: right;\n",
       "    }\n",
       "</style>\n",
       "<table border=\"1\" class=\"dataframe\">\n",
       "  <thead>\n",
       "    <tr style=\"text-align: right;\">\n",
       "      <th></th>\n",
       "      <th>deg_malig</th>\n",
       "      <th>age_20-29</th>\n",
       "      <th>age_30-39</th>\n",
       "      <th>age_40-49</th>\n",
       "      <th>age_50-59</th>\n",
       "      <th>age_60-69</th>\n",
       "      <th>age_70-79</th>\n",
       "      <th>menopause_ge40</th>\n",
       "      <th>menopause_lt40</th>\n",
       "      <th>menopause_premeno</th>\n",
       "      <th>...</th>\n",
       "      <th>node_caps_yes</th>\n",
       "      <th>breast_left</th>\n",
       "      <th>breast_right</th>\n",
       "      <th>breast_quad_central</th>\n",
       "      <th>breast_quad_left_low</th>\n",
       "      <th>breast_quad_left_up</th>\n",
       "      <th>breast_quad_right_low</th>\n",
       "      <th>breast_quad_right_up</th>\n",
       "      <th>irradiat_no</th>\n",
       "      <th>irradiat_yes</th>\n",
       "    </tr>\n",
       "  </thead>\n",
       "  <tbody>\n",
       "    <tr>\n",
       "      <th>214</th>\n",
       "      <td>2</td>\n",
       "      <td>0</td>\n",
       "      <td>0</td>\n",
       "      <td>0</td>\n",
       "      <td>0</td>\n",
       "      <td>1</td>\n",
       "      <td>0</td>\n",
       "      <td>1</td>\n",
       "      <td>0</td>\n",
       "      <td>0</td>\n",
       "      <td>...</td>\n",
       "      <td>0</td>\n",
       "      <td>0</td>\n",
       "      <td>1</td>\n",
       "      <td>0</td>\n",
       "      <td>1</td>\n",
       "      <td>0</td>\n",
       "      <td>0</td>\n",
       "      <td>0</td>\n",
       "      <td>1</td>\n",
       "      <td>0</td>\n",
       "    </tr>\n",
       "    <tr>\n",
       "      <th>276</th>\n",
       "      <td>3</td>\n",
       "      <td>0</td>\n",
       "      <td>1</td>\n",
       "      <td>0</td>\n",
       "      <td>0</td>\n",
       "      <td>0</td>\n",
       "      <td>0</td>\n",
       "      <td>0</td>\n",
       "      <td>0</td>\n",
       "      <td>1</td>\n",
       "      <td>...</td>\n",
       "      <td>1</td>\n",
       "      <td>1</td>\n",
       "      <td>0</td>\n",
       "      <td>0</td>\n",
       "      <td>0</td>\n",
       "      <td>0</td>\n",
       "      <td>1</td>\n",
       "      <td>0</td>\n",
       "      <td>0</td>\n",
       "      <td>1</td>\n",
       "    </tr>\n",
       "    <tr>\n",
       "      <th>199</th>\n",
       "      <td>1</td>\n",
       "      <td>0</td>\n",
       "      <td>0</td>\n",
       "      <td>0</td>\n",
       "      <td>1</td>\n",
       "      <td>0</td>\n",
       "      <td>0</td>\n",
       "      <td>0</td>\n",
       "      <td>0</td>\n",
       "      <td>1</td>\n",
       "      <td>...</td>\n",
       "      <td>0</td>\n",
       "      <td>1</td>\n",
       "      <td>0</td>\n",
       "      <td>0</td>\n",
       "      <td>1</td>\n",
       "      <td>0</td>\n",
       "      <td>0</td>\n",
       "      <td>0</td>\n",
       "      <td>1</td>\n",
       "      <td>0</td>\n",
       "    </tr>\n",
       "    <tr>\n",
       "      <th>56</th>\n",
       "      <td>1</td>\n",
       "      <td>0</td>\n",
       "      <td>0</td>\n",
       "      <td>0</td>\n",
       "      <td>1</td>\n",
       "      <td>0</td>\n",
       "      <td>0</td>\n",
       "      <td>1</td>\n",
       "      <td>0</td>\n",
       "      <td>0</td>\n",
       "      <td>...</td>\n",
       "      <td>0</td>\n",
       "      <td>0</td>\n",
       "      <td>1</td>\n",
       "      <td>1</td>\n",
       "      <td>0</td>\n",
       "      <td>0</td>\n",
       "      <td>0</td>\n",
       "      <td>0</td>\n",
       "      <td>1</td>\n",
       "      <td>0</td>\n",
       "    </tr>\n",
       "    <tr>\n",
       "      <th>93</th>\n",
       "      <td>2</td>\n",
       "      <td>0</td>\n",
       "      <td>0</td>\n",
       "      <td>0</td>\n",
       "      <td>0</td>\n",
       "      <td>1</td>\n",
       "      <td>0</td>\n",
       "      <td>1</td>\n",
       "      <td>0</td>\n",
       "      <td>0</td>\n",
       "      <td>...</td>\n",
       "      <td>0</td>\n",
       "      <td>0</td>\n",
       "      <td>1</td>\n",
       "      <td>0</td>\n",
       "      <td>0</td>\n",
       "      <td>1</td>\n",
       "      <td>0</td>\n",
       "      <td>0</td>\n",
       "      <td>1</td>\n",
       "      <td>0</td>\n",
       "    </tr>\n",
       "  </tbody>\n",
       "</table>\n",
       "<p>5 rows × 39 columns</p>\n",
       "</div>"
      ],
      "text/plain": [
       "     deg_malig  age_20-29  age_30-39  age_40-49  age_50-59  age_60-69  \\\n",
       "214          2          0          0          0          0          1   \n",
       "276          3          0          1          0          0          0   \n",
       "199          1          0          0          0          1          0   \n",
       "56           1          0          0          0          1          0   \n",
       "93           2          0          0          0          0          1   \n",
       "\n",
       "     age_70-79  menopause_ge40  menopause_lt40  menopause_premeno  ...  \\\n",
       "214          0               1               0                  0  ...   \n",
       "276          0               0               0                  1  ...   \n",
       "199          0               0               0                  1  ...   \n",
       "56           0               1               0                  0  ...   \n",
       "93           0               1               0                  0  ...   \n",
       "\n",
       "     node_caps_yes  breast_left  breast_right  breast_quad_central  \\\n",
       "214              0            0             1                    0   \n",
       "276              1            1             0                    0   \n",
       "199              0            1             0                    0   \n",
       "56               0            0             1                    1   \n",
       "93               0            0             1                    0   \n",
       "\n",
       "     breast_quad_left_low  breast_quad_left_up  breast_quad_right_low  \\\n",
       "214                     1                    0                      0   \n",
       "276                     0                    0                      1   \n",
       "199                     1                    0                      0   \n",
       "56                      0                    0                      0   \n",
       "93                      0                    1                      0   \n",
       "\n",
       "     breast_quad_right_up  irradiat_no  irradiat_yes  \n",
       "214                     0            1             0  \n",
       "276                     0            0             1  \n",
       "199                     0            1             0  \n",
       "56                      0            1             0  \n",
       "93                      0            1             0  \n",
       "\n",
       "[5 rows x 39 columns]"
      ]
     },
     "execution_count": 61,
     "metadata": {},
     "output_type": "execute_result"
    }
   ],
   "source": [
    "X = pd.get_dummies(data.drop(\"c\", axis=1))\n",
    "y = data['c']\n",
    "train_x, test_x, train_y, test_y = train_test_split(X, y, test_size=0.2, \n",
    "                                                   random_state=777)\n",
    "train_x.head()"
   ]
  },
  {
   "cell_type": "markdown",
   "id": "038412e4",
   "metadata": {},
   "source": [
    "model fitting"
   ]
  },
  {
   "cell_type": "code",
   "execution_count": 62,
   "id": "ae126c3c",
   "metadata": {},
   "outputs": [
    {
     "data": {
      "text/plain": [
       "LogisticRegression(random_state=777)"
      ]
     },
     "execution_count": 62,
     "metadata": {},
     "output_type": "execute_result"
    }
   ],
   "source": [
    "scaler = StandardScaler()\n",
    "train_x = scaler.fit_transform(train_x)\n",
    "test_x = scaler.transform(test_x)\n",
    "\n",
    "lreg = LogisticRegression(solver = \"lbfgs\", random_state= 777)\n",
    "lreg.fit(train_x, train_y)"
   ]
  },
  {
   "cell_type": "code",
   "execution_count": 63,
   "id": "cb52f48f",
   "metadata": {},
   "outputs": [
    {
     "data": {
      "image/png": "[encoded data removed]",
      "text/plain": [
       "<Figure size 432x288 with 1 Axes>"
      ]
     },
     "metadata": {
      "needs_background": "light"
     },
     "output_type": "display_data"
    }
   ],
   "source": [
    "# predict\n",
    "pred_y_prob = lreg.predict_proba(test_x)\n",
    "pred_y_1 = pred_y_prob[:, 1]\n",
    "test_y_int = [1 if i == 'recurrence-events' else 0 for i in test_y]\n",
    "fpr, tpr, thres = roc_curve(test_y_int, pred_y_1)\n",
    "plt.plot(fpr, tpr, label=\"ROC curve - auc: {}\".format(auc(fpr, tpr)))\n",
    "plt.legend()\n",
    "plt.xlabel(\"False positive, rate\")\n",
    "plt.ylabel(\"True positive rate\")\n",
    "plt.title(\"ROC curve for prediction\")\n",
    "plt.show()"
   ]
  },
  {
   "cell_type": "code",
   "execution_count": 8,
   "id": "8cc31c38",
   "metadata": {
    "scrolled": true
   },
   "outputs": [
    {
     "data": {
      "text/plain": [
       "array([[0.01673209, 0.98326791],\n",
       "       [0.89615972, 0.10384028],\n",
       "       [0.99468018, 0.00531982],\n",
       "       [0.48185408, 0.51814592],\n",
       "       [0.67166422, 0.32833578],\n",
       "       [0.54503365, 0.45496635],\n",
       "       [0.75691634, 0.24308366],\n",
       "       [0.9336053 , 0.0663947 ],\n",
       "       [0.79990349, 0.20009651],\n",
       "       [0.91432854, 0.08567146]])"
      ]
     },
     "execution_count": 8,
     "metadata": {},
     "output_type": "execute_result"
    }
   ],
   "source": [
    "pred_y_prob[:10]"
   ]
  },
  {
   "cell_type": "markdown",
   "id": "3c242502",
   "metadata": {},
   "source": [
    "#### 2) recurrence event 확률에 영향을 미치는 변수를 파악하시오."
   ]
  },
  {
   "cell_type": "code",
   "execution_count": 64,
   "id": "03ac8403",
   "metadata": {},
   "outputs": [
    {
     "name": "stdout",
     "output_type": "stream",
     "text": [
      "                                  Generalized Linear Model Regression Results                                  \n",
      "===============================================================================================================\n",
      "Dep. Variable:     ['c[no-recurrence-events]', 'c[recurrence-events]']   No. Observations:                  221\n",
      "Model:                                                             GLM   Df Residuals:                      189\n",
      "Model Family:                                                 Binomial   Df Model:                           31\n",
      "Link Function:                                                   logit   Scale:                          1.0000\n",
      "Method:                                                           IRLS   Log-Likelihood:                -100.98\n",
      "Date:                                                 Thu, 14 Oct 2021   Deviance:                       201.96\n",
      "Time:                                                         22:33:44   Pearson chi2:                     202.\n",
      "No. Iterations:                                                     21                                         \n",
      "Covariance Type:                                             nonrobust                                         \n",
      "============================================================================================\n",
      "                               coef    std err          z      P>|z|      [0.025      0.975]\n",
      "--------------------------------------------------------------------------------------------\n",
      "Intercept                   25.4074   4.82e+04      0.001      1.000   -9.44e+04    9.45e+04\n",
      "age[T.30-39]               -21.7901   4.82e+04     -0.000      1.000   -9.45e+04    9.44e+04\n",
      "age[T.40-49]               -21.3159   4.82e+04     -0.000      1.000   -9.45e+04    9.44e+04\n",
      "age[T.50-59]               -21.4080   4.82e+04     -0.000      1.000   -9.45e+04    9.44e+04\n",
      "age[T.60-69]               -22.5675   4.82e+04     -0.000      1.000   -9.45e+04    9.44e+04\n",
      "age[T.70-79]                -1.3612   5.32e+04  -2.56e-05      1.000   -1.04e+05    1.04e+05\n",
      "menopause[T.lt40]           20.8469   2.36e+04      0.001      0.999   -4.63e+04    4.64e+04\n",
      "menopause[T.premeno]        -0.8405      0.625     -1.344      0.179      -2.066       0.385\n",
      "tumor_size[T.10-14]          1.9993      1.754      1.140      0.254      -1.438       5.437\n",
      "tumor_size[T.15-19]          0.6369      1.465      0.435      0.664      -2.235       3.509\n",
      "tumor_size[T.20-24]          0.3086      1.334      0.231      0.817      -2.305       2.922\n",
      "tumor_size[T.25-29]          0.1526      1.352      0.113      0.910      -2.498       2.803\n",
      "tumor_size[T.30-34]         -0.0419      1.327     -0.032      0.975      -2.642       2.559\n",
      "tumor_size[T.35-39]          0.6867      1.507      0.456      0.649      -2.267       3.640\n",
      "tumor_size[T.40-44]          0.2600      1.429      0.182      0.856      -2.541       3.061\n",
      "tumor_size[T.45-49]          0.6557      1.785      0.367      0.713      -2.843       4.154\n",
      "tumor_size[T.5-9]           21.2622   2.72e+04      0.001      0.999   -5.33e+04    5.33e+04\n",
      "tumor_size[T.50-54]          0.1299      1.583      0.082      0.935      -2.972       3.232\n",
      "inv_nodes[T.12-14]         -23.3145   3.32e+04     -0.001      0.999   -6.52e+04    6.51e+04\n",
      "inv_nodes[T.15-17]          -1.5505      1.200     -1.292      0.197      -3.903       0.802\n",
      "inv_nodes[T.24-26]         -22.5264   4.82e+04     -0.000      1.000   -9.45e+04    9.44e+04\n",
      "inv_nodes[T.3-5]            -1.0384      0.607     -1.710      0.087      -2.229       0.152\n",
      "inv_nodes[T.6-8]            -1.4335      0.803     -1.784      0.074      -3.008       0.141\n",
      "inv_nodes[T.9-11]           -0.4262      1.502     -0.284      0.777      -3.370       2.518\n",
      "node_caps[T.yes]             0.3182      0.597      0.533      0.594      -0.853       1.489\n",
      "breast[T.right]              0.0997      0.389      0.256      0.798      -0.662       0.862\n",
      "breast_quad[T.left_low]     -0.6235      0.892     -0.699      0.485      -2.372       1.125\n",
      "breast_quad[T.left_up]      -0.5082      0.910     -0.558      0.577      -2.292       1.276\n",
      "breast_quad[T.right_low]    -0.4862      1.064     -0.457      0.648      -2.571       1.598\n",
      "breast_quad[T.right_up]     -1.3471      0.967     -1.393      0.164      -3.243       0.549\n",
      "irradiat[T.yes]             -0.7227      0.416     -1.739      0.082      -1.537       0.092\n",
      "deg_malig                   -0.7201      0.286     -2.517      0.012      -1.281      -0.159\n",
      "============================================================================================\n"
     ]
    }
   ],
   "source": [
    "# model fitting with stasmodel module\n",
    "train_x, test_x, train_y, test_y = train_test_split(data.drop(\"c\", axis=1), data['c'], test_size=0.2, \n",
    "                                                   random_state=777)\n",
    "\n",
    "f = 'c~age+menopause+tumor_size+inv_nodes+node_caps+deg_malig+breast+breast_quad+irradiat'\n",
    "train = pd.concat([train_x, pd.DataFrame(train_y)], axis=1)\n",
    "model = smf.glm(formula=f, data=train, family=sm.families.Binomial())\n",
    "result = model.fit()\n",
    "print(result.summary())"
   ]
  },
  {
   "cell_type": "markdown",
   "id": "71cff93e",
   "metadata": {},
   "source": [
    "model summary 결과에 따르면 deg_malig , inv_nodes 변수의 3-5와 6-8, irradiat 변수가 종속변수에 유의한 영향을 미친다."
   ]
  },
  {
   "cell_type": "markdown",
   "id": "c5d9c24c",
   "metadata": {},
   "source": [
    "## 2. Regression tree fitting"
   ]
  },
  {
   "cell_type": "markdown",
   "id": "35fdb7b7",
   "metadata": {},
   "source": [
    "#### 1) recurrence event 확률을 예측하시오"
   ]
  },
  {
   "cell_type": "code",
   "execution_count": 67,
   "id": "4de82fc4",
   "metadata": {},
   "outputs": [
    {
     "data": {
      "text/plain": [
       "DecisionTreeRegressor(max_depth=3)"
      ]
     },
     "execution_count": 67,
     "metadata": {},
     "output_type": "execute_result"
    }
   ],
   "source": [
    "X = pd.get_dummies(data.drop(\"c\", axis=1))\n",
    "y = data['c']\n",
    "train_x, test_x, train_y, test_y = train_test_split(X, y, test_size=0.2, \n",
    "                                                   random_state=777)\n",
    "\n",
    "scaler = StandardScaler()\n",
    "train_x = scaler.fit_transform(train_x)\n",
    "test_x = scaler.transform(test_x)\n",
    "\n",
    "train_y_int = [1 if i == 'recurrence-events' else 0 for i in train_y]\n",
    "tree = DecisionTreeRegressor(max_depth=3)\n",
    "tree.fit(train_x, train_y_int)"
   ]
  },
  {
   "cell_type": "code",
   "execution_count": 68,
   "id": "78626398",
   "metadata": {},
   "outputs": [
    {
     "data": {
      "image/png": "[encoded data removed]",
      "text/plain": [
       "<Figure size 432x288 with 1 Axes>"
      ]
     },
     "metadata": {
      "needs_background": "light"
     },
     "output_type": "display_data"
    }
   ],
   "source": [
    "# predict\n",
    "predt_y = tree.predict(test_x)\n",
    "\n",
    "fpr, tpr, thres = roc_curve(test_y_int, predt_y)\n",
    "plt.plot(fpr, tpr, label=\"ROC curve - auc: {}\".format(auc(fpr, tpr)))\n",
    "plt.legend()\n",
    "plt.xlabel(\"False positive, rate\")\n",
    "plt.ylabel(\"True positive rate\")\n",
    "plt.title(\"ROC curve for prediction\")\n",
    "plt.show()"
   ]
  },
  {
   "cell_type": "markdown",
   "id": "3fa1ec79",
   "metadata": {},
   "source": [
    "#### 2) recurrence event 확률에 영향을 미치는 변수를 파악하시오."
   ]
  },
  {
   "cell_type": "code",
   "execution_count": 74,
   "id": "60f1df1e",
   "metadata": {},
   "outputs": [
    {
     "data": {
      "image/png": "[encoded data removed]",
      "text/plain": [
       "<Figure size 864x864 with 1 Axes>"
      ]
     },
     "metadata": {
      "needs_background": "light"
     },
     "output_type": "display_data"
    }
   ],
   "source": [
    "plt.figure(figsize=(12,12))\n",
    "plot_tree(tree);"
   ]
  },
  {
   "cell_type": "markdown",
   "id": "421540a7",
   "metadata": {},
   "source": [
    "X 데이터의 0번째 변수인 deg_malig , 25번째와 21번째 변수인 inv_nodes 변수가 종속변수에 주요한 영향을 끼친다고 할 수 있다."
   ]
  },
  {
   "cell_type": "markdown",
   "id": "84338d41",
   "metadata": {},
   "source": [
    "## 3. Logistic regression과 Regression tree의 결과를 비교하시오."
   ]
  },
  {
   "cell_type": "code",
   "execution_count": 85,
   "id": "ee509011",
   "metadata": {},
   "outputs": [
    {
     "data": {
      "image/png": "[encoded data removed]",
      "text/plain": [
       "<Figure size 864x360 with 2 Axes>"
      ]
     },
     "metadata": {
      "needs_background": "light"
     },
     "output_type": "display_data"
    }
   ],
   "source": [
    "plt.figure(figsize=(12,5))\n",
    "\n",
    "plt.subplot(1,2,1)\n",
    "fpr, tpr, thres = roc_curve(test_y_int, pred_y_1)\n",
    "plt.plot(fpr, tpr, label=\"ROC curve - auc: {}\".format(auc(fpr, tpr)))\n",
    "plt.legend()\n",
    "plt.xlabel(\"False positive, rate\")\n",
    "plt.ylabel(\"True positive rate\")\n",
    "plt.title(\"ROC curve for prediction by logistic regression\")\n",
    "\n",
    "\n",
    "plt.subplot(1,2,2)\n",
    "fpr, tpr, thres = roc_curve(test_y_int, predt_y)\n",
    "plt.plot(fpr, tpr, label=\"ROC curve - auc: {}\".format(auc(fpr, tpr)))\n",
    "plt.legend()\n",
    "plt.xlabel(\"False positive, rate\")\n",
    "plt.ylabel(\"True positive rate\")\n",
    "plt.title(\"ROC curve for prediction by regression tree\")\n",
    "plt.show()"
   ]
  },
  {
   "cell_type": "markdown",
   "id": "9cd15d4b",
   "metadata": {},
   "source": [
    "logistic regression을 이용한 예측과 regression tree를 이용한 예측의 ROC curve 및 auc값을 비교해보면, logistic regression의 auc값이 좀 더 높은 것을 확인할 수 있다. 따라서 두 모델 중 logistic regression의 예측 정확도가 regression tree보다 높다."
   ]
  }
 ],
 "metadata": {
  "kernelspec": {
   "display_name": "Python 3",
   "language": "python",
   "name": "python3"
  },
  "language_info": {
   "codemirror_mode": {
    "name": "ipython",
    "version": 3
   },
   "file_extension": ".py",
   "mimetype": "text/x-python",
   "name": "python",
   "nbconvert_exporter": "python",
   "pygments_lexer": "ipython3",
   "version": "3.8.8"
  }
 },
 "nbformat": 4,
 "nbformat_minor": 5
}
