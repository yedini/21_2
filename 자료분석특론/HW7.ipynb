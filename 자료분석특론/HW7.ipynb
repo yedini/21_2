{
 "cells": [
  {
   "cell_type": "markdown",
   "id": "eaef7285",
   "metadata": {},
   "source": [
    "MNIST 자료 중 3, 5, 6, 7 에 해당되는 자료만을 선택,       \n",
    "수업시간에 배운 unsupervised learning 방법 중 5 가지를 이용하여\n",
    "훈련시키고 각 방법의 성능을 비교하시오.       \n",
    "각 clustering 방법에서는 최적의 parameter 조합을 이용하고 최적\n",
    "의 k 를 찾아서 훈련시킬 것             \n",
    "위의 결과와 자료에서 제공되고 있는 label 을 비교 clustering 이 잘\n",
    "되지 않는 이상점이 몇 개인지를 확인하고 image 그림을 그려 확인\n",
    "해보시오"
   ]
  },
  {
   "cell_type": "code",
   "execution_count": 14,
   "id": "8be545f3",
   "metadata": {},
   "outputs": [],
   "source": [
    "import pandas as pd\n",
    "import numpy as np\n",
    "from sklearn.datasets import fetch_openml \n",
    "import matplotlib as mpl\n",
    "import matplotlib.pyplot as plt\n",
    "from sklearn.cluster import KMeans\n",
    "from sklearn.metrics import accuracy_score\n",
    "from sklearn.cluster import DBSCAN\n",
    "from sklearn.cluster import AgglomerativeClustering\n",
    "from sklearn.cluster import SpectralClustering\n",
    "from sklearn.mixture import GaussianMixture"
   ]
  },
  {
   "cell_type": "code",
   "execution_count": 2,
   "id": "de3af6d2",
   "metadata": {},
   "outputs": [
    {
     "data": {
      "text/html": [
       "<div>\n",
       "<style scoped>\n",
       "    .dataframe tbody tr th:only-of-type {\n",
       "        vertical-align: middle;\n",
       "    }\n",
       "\n",
       "    .dataframe tbody tr th {\n",
       "        vertical-align: top;\n",
       "    }\n",
       "\n",
       "    .dataframe thead th {\n",
       "        text-align: right;\n",
       "    }\n",
       "</style>\n",
       "<table border=\"1\" class=\"dataframe\">\n",
       "  <thead>\n",
       "    <tr style=\"text-align: right;\">\n",
       "      <th></th>\n",
       "      <th>pixel1</th>\n",
       "      <th>pixel2</th>\n",
       "      <th>pixel3</th>\n",
       "      <th>pixel4</th>\n",
       "      <th>pixel5</th>\n",
       "      <th>pixel6</th>\n",
       "      <th>pixel7</th>\n",
       "      <th>pixel8</th>\n",
       "      <th>pixel9</th>\n",
       "      <th>pixel10</th>\n",
       "      <th>...</th>\n",
       "      <th>pixel776</th>\n",
       "      <th>pixel777</th>\n",
       "      <th>pixel778</th>\n",
       "      <th>pixel779</th>\n",
       "      <th>pixel780</th>\n",
       "      <th>pixel781</th>\n",
       "      <th>pixel782</th>\n",
       "      <th>pixel783</th>\n",
       "      <th>pixel784</th>\n",
       "      <th>class</th>\n",
       "    </tr>\n",
       "  </thead>\n",
       "  <tbody>\n",
       "    <tr>\n",
       "      <th>0</th>\n",
       "      <td>0.0</td>\n",
       "      <td>0.0</td>\n",
       "      <td>0.0</td>\n",
       "      <td>0.0</td>\n",
       "      <td>0.0</td>\n",
       "      <td>0.0</td>\n",
       "      <td>0.0</td>\n",
       "      <td>0.0</td>\n",
       "      <td>0.0</td>\n",
       "      <td>0.0</td>\n",
       "      <td>...</td>\n",
       "      <td>0.0</td>\n",
       "      <td>0.0</td>\n",
       "      <td>0.0</td>\n",
       "      <td>0.0</td>\n",
       "      <td>0.0</td>\n",
       "      <td>0.0</td>\n",
       "      <td>0.0</td>\n",
       "      <td>0.0</td>\n",
       "      <td>0.0</td>\n",
       "      <td>5</td>\n",
       "    </tr>\n",
       "    <tr>\n",
       "      <th>1</th>\n",
       "      <td>0.0</td>\n",
       "      <td>0.0</td>\n",
       "      <td>0.0</td>\n",
       "      <td>0.0</td>\n",
       "      <td>0.0</td>\n",
       "      <td>0.0</td>\n",
       "      <td>0.0</td>\n",
       "      <td>0.0</td>\n",
       "      <td>0.0</td>\n",
       "      <td>0.0</td>\n",
       "      <td>...</td>\n",
       "      <td>0.0</td>\n",
       "      <td>0.0</td>\n",
       "      <td>0.0</td>\n",
       "      <td>0.0</td>\n",
       "      <td>0.0</td>\n",
       "      <td>0.0</td>\n",
       "      <td>0.0</td>\n",
       "      <td>0.0</td>\n",
       "      <td>0.0</td>\n",
       "      <td>0</td>\n",
       "    </tr>\n",
       "    <tr>\n",
       "      <th>2</th>\n",
       "      <td>0.0</td>\n",
       "      <td>0.0</td>\n",
       "      <td>0.0</td>\n",
       "      <td>0.0</td>\n",
       "      <td>0.0</td>\n",
       "      <td>0.0</td>\n",
       "      <td>0.0</td>\n",
       "      <td>0.0</td>\n",
       "      <td>0.0</td>\n",
       "      <td>0.0</td>\n",
       "      <td>...</td>\n",
       "      <td>0.0</td>\n",
       "      <td>0.0</td>\n",
       "      <td>0.0</td>\n",
       "      <td>0.0</td>\n",
       "      <td>0.0</td>\n",
       "      <td>0.0</td>\n",
       "      <td>0.0</td>\n",
       "      <td>0.0</td>\n",
       "      <td>0.0</td>\n",
       "      <td>4</td>\n",
       "    </tr>\n",
       "    <tr>\n",
       "      <th>3</th>\n",
       "      <td>0.0</td>\n",
       "      <td>0.0</td>\n",
       "      <td>0.0</td>\n",
       "      <td>0.0</td>\n",
       "      <td>0.0</td>\n",
       "      <td>0.0</td>\n",
       "      <td>0.0</td>\n",
       "      <td>0.0</td>\n",
       "      <td>0.0</td>\n",
       "      <td>0.0</td>\n",
       "      <td>...</td>\n",
       "      <td>0.0</td>\n",
       "      <td>0.0</td>\n",
       "      <td>0.0</td>\n",
       "      <td>0.0</td>\n",
       "      <td>0.0</td>\n",
       "      <td>0.0</td>\n",
       "      <td>0.0</td>\n",
       "      <td>0.0</td>\n",
       "      <td>0.0</td>\n",
       "      <td>1</td>\n",
       "    </tr>\n",
       "    <tr>\n",
       "      <th>4</th>\n",
       "      <td>0.0</td>\n",
       "      <td>0.0</td>\n",
       "      <td>0.0</td>\n",
       "      <td>0.0</td>\n",
       "      <td>0.0</td>\n",
       "      <td>0.0</td>\n",
       "      <td>0.0</td>\n",
       "      <td>0.0</td>\n",
       "      <td>0.0</td>\n",
       "      <td>0.0</td>\n",
       "      <td>...</td>\n",
       "      <td>0.0</td>\n",
       "      <td>0.0</td>\n",
       "      <td>0.0</td>\n",
       "      <td>0.0</td>\n",
       "      <td>0.0</td>\n",
       "      <td>0.0</td>\n",
       "      <td>0.0</td>\n",
       "      <td>0.0</td>\n",
       "      <td>0.0</td>\n",
       "      <td>9</td>\n",
       "    </tr>\n",
       "  </tbody>\n",
       "</table>\n",
       "<p>5 rows × 785 columns</p>\n",
       "</div>"
      ],
      "text/plain": [
       "   pixel1  pixel2  pixel3  pixel4  pixel5  pixel6  pixel7  pixel8  pixel9  \\\n",
       "0     0.0     0.0     0.0     0.0     0.0     0.0     0.0     0.0     0.0   \n",
       "1     0.0     0.0     0.0     0.0     0.0     0.0     0.0     0.0     0.0   \n",
       "2     0.0     0.0     0.0     0.0     0.0     0.0     0.0     0.0     0.0   \n",
       "3     0.0     0.0     0.0     0.0     0.0     0.0     0.0     0.0     0.0   \n",
       "4     0.0     0.0     0.0     0.0     0.0     0.0     0.0     0.0     0.0   \n",
       "\n",
       "   pixel10  ...  pixel776  pixel777  pixel778  pixel779  pixel780  pixel781  \\\n",
       "0      0.0  ...       0.0       0.0       0.0       0.0       0.0       0.0   \n",
       "1      0.0  ...       0.0       0.0       0.0       0.0       0.0       0.0   \n",
       "2      0.0  ...       0.0       0.0       0.0       0.0       0.0       0.0   \n",
       "3      0.0  ...       0.0       0.0       0.0       0.0       0.0       0.0   \n",
       "4      0.0  ...       0.0       0.0       0.0       0.0       0.0       0.0   \n",
       "\n",
       "   pixel782  pixel783  pixel784  class  \n",
       "0       0.0       0.0       0.0      5  \n",
       "1       0.0       0.0       0.0      0  \n",
       "2       0.0       0.0       0.0      4  \n",
       "3       0.0       0.0       0.0      1  \n",
       "4       0.0       0.0       0.0      9  \n",
       "\n",
       "[5 rows x 785 columns]"
      ]
     },
     "execution_count": 2,
     "metadata": {},
     "output_type": "execute_result"
    }
   ],
   "source": [
    "# load data\n",
    "mnist = fetch_openml('mnist_784', version=1) \n",
    "data = pd.concat([mnist['data'], pd.DataFrame(mnist['target'])], axis=1)\n",
    "data.head()"
   ]
  },
  {
   "cell_type": "code",
   "execution_count": 3,
   "id": "186a2ee1",
   "metadata": {},
   "outputs": [
    {
     "data": {
      "text/html": [
       "<div>\n",
       "<style scoped>\n",
       "    .dataframe tbody tr th:only-of-type {\n",
       "        vertical-align: middle;\n",
       "    }\n",
       "\n",
       "    .dataframe tbody tr th {\n",
       "        vertical-align: top;\n",
       "    }\n",
       "\n",
       "    .dataframe thead th {\n",
       "        text-align: right;\n",
       "    }\n",
       "</style>\n",
       "<table border=\"1\" class=\"dataframe\">\n",
       "  <thead>\n",
       "    <tr style=\"text-align: right;\">\n",
       "      <th></th>\n",
       "      <th>pixel1</th>\n",
       "      <th>pixel2</th>\n",
       "      <th>pixel3</th>\n",
       "      <th>pixel4</th>\n",
       "      <th>pixel5</th>\n",
       "      <th>pixel6</th>\n",
       "      <th>pixel7</th>\n",
       "      <th>pixel8</th>\n",
       "      <th>pixel9</th>\n",
       "      <th>pixel10</th>\n",
       "      <th>...</th>\n",
       "      <th>pixel776</th>\n",
       "      <th>pixel777</th>\n",
       "      <th>pixel778</th>\n",
       "      <th>pixel779</th>\n",
       "      <th>pixel780</th>\n",
       "      <th>pixel781</th>\n",
       "      <th>pixel782</th>\n",
       "      <th>pixel783</th>\n",
       "      <th>pixel784</th>\n",
       "      <th>class</th>\n",
       "    </tr>\n",
       "  </thead>\n",
       "  <tbody>\n",
       "    <tr>\n",
       "      <th>0</th>\n",
       "      <td>0.0</td>\n",
       "      <td>0.0</td>\n",
       "      <td>0.0</td>\n",
       "      <td>0.0</td>\n",
       "      <td>0.0</td>\n",
       "      <td>0.0</td>\n",
       "      <td>0.0</td>\n",
       "      <td>0.0</td>\n",
       "      <td>0.0</td>\n",
       "      <td>0.0</td>\n",
       "      <td>...</td>\n",
       "      <td>0.0</td>\n",
       "      <td>0.0</td>\n",
       "      <td>0.0</td>\n",
       "      <td>0.0</td>\n",
       "      <td>0.0</td>\n",
       "      <td>0.0</td>\n",
       "      <td>0.0</td>\n",
       "      <td>0.0</td>\n",
       "      <td>0.0</td>\n",
       "      <td>5</td>\n",
       "    </tr>\n",
       "    <tr>\n",
       "      <th>1</th>\n",
       "      <td>0.0</td>\n",
       "      <td>0.0</td>\n",
       "      <td>0.0</td>\n",
       "      <td>0.0</td>\n",
       "      <td>0.0</td>\n",
       "      <td>0.0</td>\n",
       "      <td>0.0</td>\n",
       "      <td>0.0</td>\n",
       "      <td>0.0</td>\n",
       "      <td>0.0</td>\n",
       "      <td>...</td>\n",
       "      <td>0.0</td>\n",
       "      <td>0.0</td>\n",
       "      <td>0.0</td>\n",
       "      <td>0.0</td>\n",
       "      <td>0.0</td>\n",
       "      <td>0.0</td>\n",
       "      <td>0.0</td>\n",
       "      <td>0.0</td>\n",
       "      <td>0.0</td>\n",
       "      <td>3</td>\n",
       "    </tr>\n",
       "    <tr>\n",
       "      <th>2</th>\n",
       "      <td>0.0</td>\n",
       "      <td>0.0</td>\n",
       "      <td>0.0</td>\n",
       "      <td>0.0</td>\n",
       "      <td>0.0</td>\n",
       "      <td>0.0</td>\n",
       "      <td>0.0</td>\n",
       "      <td>0.0</td>\n",
       "      <td>0.0</td>\n",
       "      <td>0.0</td>\n",
       "      <td>...</td>\n",
       "      <td>0.0</td>\n",
       "      <td>0.0</td>\n",
       "      <td>0.0</td>\n",
       "      <td>0.0</td>\n",
       "      <td>0.0</td>\n",
       "      <td>0.0</td>\n",
       "      <td>0.0</td>\n",
       "      <td>0.0</td>\n",
       "      <td>0.0</td>\n",
       "      <td>3</td>\n",
       "    </tr>\n",
       "    <tr>\n",
       "      <th>3</th>\n",
       "      <td>0.0</td>\n",
       "      <td>0.0</td>\n",
       "      <td>0.0</td>\n",
       "      <td>0.0</td>\n",
       "      <td>0.0</td>\n",
       "      <td>0.0</td>\n",
       "      <td>0.0</td>\n",
       "      <td>0.0</td>\n",
       "      <td>0.0</td>\n",
       "      <td>0.0</td>\n",
       "      <td>...</td>\n",
       "      <td>0.0</td>\n",
       "      <td>0.0</td>\n",
       "      <td>0.0</td>\n",
       "      <td>0.0</td>\n",
       "      <td>0.0</td>\n",
       "      <td>0.0</td>\n",
       "      <td>0.0</td>\n",
       "      <td>0.0</td>\n",
       "      <td>0.0</td>\n",
       "      <td>5</td>\n",
       "    </tr>\n",
       "    <tr>\n",
       "      <th>4</th>\n",
       "      <td>0.0</td>\n",
       "      <td>0.0</td>\n",
       "      <td>0.0</td>\n",
       "      <td>0.0</td>\n",
       "      <td>0.0</td>\n",
       "      <td>0.0</td>\n",
       "      <td>0.0</td>\n",
       "      <td>0.0</td>\n",
       "      <td>0.0</td>\n",
       "      <td>0.0</td>\n",
       "      <td>...</td>\n",
       "      <td>0.0</td>\n",
       "      <td>0.0</td>\n",
       "      <td>0.0</td>\n",
       "      <td>0.0</td>\n",
       "      <td>0.0</td>\n",
       "      <td>0.0</td>\n",
       "      <td>0.0</td>\n",
       "      <td>0.0</td>\n",
       "      <td>0.0</td>\n",
       "      <td>3</td>\n",
       "    </tr>\n",
       "  </tbody>\n",
       "</table>\n",
       "<p>5 rows × 785 columns</p>\n",
       "</div>"
      ],
      "text/plain": [
       "   pixel1  pixel2  pixel3  pixel4  pixel5  pixel6  pixel7  pixel8  pixel9  \\\n",
       "0     0.0     0.0     0.0     0.0     0.0     0.0     0.0     0.0     0.0   \n",
       "1     0.0     0.0     0.0     0.0     0.0     0.0     0.0     0.0     0.0   \n",
       "2     0.0     0.0     0.0     0.0     0.0     0.0     0.0     0.0     0.0   \n",
       "3     0.0     0.0     0.0     0.0     0.0     0.0     0.0     0.0     0.0   \n",
       "4     0.0     0.0     0.0     0.0     0.0     0.0     0.0     0.0     0.0   \n",
       "\n",
       "   pixel10  ...  pixel776  pixel777  pixel778  pixel779  pixel780  pixel781  \\\n",
       "0      0.0  ...       0.0       0.0       0.0       0.0       0.0       0.0   \n",
       "1      0.0  ...       0.0       0.0       0.0       0.0       0.0       0.0   \n",
       "2      0.0  ...       0.0       0.0       0.0       0.0       0.0       0.0   \n",
       "3      0.0  ...       0.0       0.0       0.0       0.0       0.0       0.0   \n",
       "4      0.0  ...       0.0       0.0       0.0       0.0       0.0       0.0   \n",
       "\n",
       "   pixel782  pixel783  pixel784  class  \n",
       "0       0.0       0.0       0.0      5  \n",
       "1       0.0       0.0       0.0      3  \n",
       "2       0.0       0.0       0.0      3  \n",
       "3       0.0       0.0       0.0      5  \n",
       "4       0.0       0.0       0.0      3  \n",
       "\n",
       "[5 rows x 785 columns]"
      ]
     },
     "execution_count": 3,
     "metadata": {},
     "output_type": "execute_result"
    }
   ],
   "source": [
    "data['class']=data['class'].astype(int)\n",
    "data=data[data['class'].isin([3,5,6,7])].reset_index(drop=True)\n",
    "data.head()"
   ]
  },
  {
   "cell_type": "code",
   "execution_count": 4,
   "id": "b45c7c32",
   "metadata": {},
   "outputs": [
    {
     "data": {
      "text/plain": [
       "array([5, 3, 6, 7])"
      ]
     },
     "execution_count": 4,
     "metadata": {},
     "output_type": "execute_result"
    }
   ],
   "source": [
    "data['class'].unique()"
   ]
  },
  {
   "cell_type": "code",
   "execution_count": 5,
   "id": "aef7e612",
   "metadata": {},
   "outputs": [],
   "source": [
    "X = data.iloc[:, :-1]\n",
    "y = data.iloc[:, -1]"
   ]
  },
  {
   "cell_type": "markdown",
   "id": "ba58c698",
   "metadata": {},
   "source": [
    "### k-means\n",
    "- init = \"k-means++\", \"random\" 에 대해 모델 적합 후 정확도가 더 높은 모델을 선택\n",
    "- n_init=5로 설정하여 5번의 반복중 가장 작은 inertia를 갖는 모델 선택\n",
    "- n_cluster=1부터 10까지 증가시킨 모델을 이용하여 scree plot을 그리고 가장 적절한 k를 선택"
   ]
  },
  {
   "cell_type": "code",
   "execution_count": 5,
   "id": "6802cfd0",
   "metadata": {},
   "outputs": [
    {
     "name": "stdout",
     "output_type": "stream",
     "text": [
      "accuracy score 0.7507149838902364 with algorithm=k-means++\n",
      "accuracy score 0.5564565760417044 with algorithm=random\n"
     ]
    }
   ],
   "source": [
    "for a in [\"k-means++\", \"random\"]:\n",
    "    m_kmeans = KMeans(n_clusters=4, init=a, n_init=10,\n",
    "                     algorithm=\"full\", random_state=777)\n",
    "    y_pred=m_kmeans.fit_predict(X)\n",
    "    \n",
    "    data_w_label = pd.concat([data, \n",
    "                              pd.DataFrame(y_pred)], axis=1).rename(columns={0:'label'})\n",
    "    for n in range(4):\n",
    "        data_w_label.loc[data_w_label['label']==n,'label']=data_w_label[data_w_label['label']==n][\"class\"].value_counts().index[0]\n",
    "    print(\"accuracy score {} with algorithm={}\".format(accuracy_score(y, data_w_label['label']), a))"
   ]
  },
  {
   "cell_type": "markdown",
   "id": "36a472a2",
   "metadata": {},
   "source": [
    "두 방법 중 정확도가 더 높은 k-means++ 방법을 선택한다."
   ]
  },
  {
   "cell_type": "code",
   "execution_count": 6,
   "id": "7ef97be7",
   "metadata": {},
   "outputs": [
    {
     "data": {
      "image/png": "[encoded data removed]",
      "text/plain": [
       "<Figure size 576x252 with 1 Axes>"
      ]
     },
     "metadata": {
      "needs_background": "light"
     },
     "output_type": "display_data"
    }
   ],
   "source": [
    "kmeans_per_k = [KMeans(n_clusters=k, random_state=777).fit(X) for k in range(1,10)]\n",
    "inertias = [model.inertia_ for model in kmeans_per_k]\n",
    "\n",
    "plt.figure(figsize=(8, 3.5))\n",
    "plt.plot(range(1, 10), inertias, \"bo-\")\n",
    "plt.xlabel(\"$k$\", fontsize=14)\n",
    "plt.ylabel(\"Inertia\", fontsize=14);"
   ]
  },
  {
   "cell_type": "markdown",
   "id": "7775edc8",
   "metadata": {},
   "source": [
    "3,4 부근에서 기울기의 변화가 눈에 띄는데, 사용 데이터에서 숫자 구분이 4개이므로 4를 클러스터 개수로 선택한다."
   ]
  },
  {
   "cell_type": "code",
   "execution_count": 31,
   "id": "3bfd60a2",
   "metadata": {},
   "outputs": [
    {
     "name": "stdout",
     "output_type": "stream",
     "text": [
      "accuracy score: 0.7507149838902364\n"
     ]
    }
   ],
   "source": [
    "#최종 kmeans 모델\n",
    "kmeans = KMeans(n_clusters=4,init=\"k-means++\", n_init=10,\n",
    "                     algorithm=\"full\", random_state=777).fit(X)\n",
    "y_pred_kmeans=kmeans.predict(X)\n",
    "preddf_kmeans = pd.concat([data['class'], \n",
    "                              pd.DataFrame(y_pred_kmeans)], axis=1).rename(columns={0:'label'})\n",
    "\n",
    "for n in range(4):\n",
    "    preddf_kmeans.loc[preddf_kmeans['label']==n,'label']=preddf_kmeans[preddf_kmeans['label']==n][\"class\"].value_counts().index[0]\n",
    "\n",
    "print(\"accuracy score: {}\".format(accuracy_score(y, preddf_kmeans['label'])))"
   ]
  },
  {
   "cell_type": "markdown",
   "id": "c27f75e2",
   "metadata": {},
   "source": [
    "최종적으로 사용한 k-means 모델의 정확도는 75.07%이다."
   ]
  },
  {
   "cell_type": "markdown",
   "id": "b62da358",
   "metadata": {},
   "source": [
    "예측이 잘못된 데이터 이미지 출력해보기"
   ]
  },
  {
   "cell_type": "code",
   "execution_count": 48,
   "id": "646ef276",
   "metadata": {},
   "outputs": [],
   "source": [
    "error_label_kmeans=preddf_kmeans[preddf_kmeans['class'] != preddf_kmeans['label']]\n",
    "error_idx_kmeans=error_label_kmeans.index\n",
    "\n",
    "error_kmeans=X.iloc[error_idx_kmeans]\n",
    "error_label_kmeans=error_label_kmeans.reset_index(False)"
   ]
  },
  {
   "cell_type": "code",
   "execution_count": 50,
   "id": "bc32e439",
   "metadata": {},
   "outputs": [
    {
     "data": {
      "image/png": "[encoded data removed]",
      "text/plain": [
       "<Figure size 1440x720 with 10 Axes>"
      ]
     },
     "metadata": {
      "needs_background": "light"
     },
     "output_type": "display_data"
    }
   ],
   "source": [
    "plt.figure(figsize=(20,10))\n",
    "for i in range(10):\n",
    "    plt.subplot(2,5,i+1)\n",
    "    digit = error_kmeans.iloc[i] \n",
    "    digit_image = np.array(digit).reshape(28, 28) \n",
    "    plt.imshow(digit_image, cmap=mpl.cm.binary) \n",
    "    plt.axis(\"off\")\n",
    "    plt.title(\"label: \"+str(error_label_kmeans['class'][i])+\", pred: \"+str(error_label_kmeans['label'][i]))"
   ]
  },
  {
   "cell_type": "markdown",
   "id": "b9612aee",
   "metadata": {},
   "source": [
    "### DBSCAN\n",
    "- eps, min_samples를 조정한 몇 개의 모델을 만들어보고 가장 성능이 좋은 모델을 선택한다."
   ]
  },
  {
   "cell_type": "code",
   "execution_count": 64,
   "id": "f6c45be0",
   "metadata": {
    "scrolled": true
   },
   "outputs": [
    {
     "name": "stdout",
     "output_type": "stream",
     "text": [
      "number of cluster 1, accuracy score 0.2640191145060276 with eps=0.05, min_samples=3\n",
      "number of cluster 1, accuracy score 0.2640191145060276 with eps=0.05, min_samples=5\n",
      "number of cluster 1, accuracy score 0.2640191145060276 with eps=0.2, min_samples=3\n",
      "number of cluster 1, accuracy score 0.2640191145060276 with eps=0.2, min_samples=5\n",
      "number of cluster 1, accuracy score 0.2640191145060276 with eps=0.5, min_samples=3\n",
      "number of cluster 1, accuracy score 0.2640191145060276 with eps=0.5, min_samples=5\n"
     ]
    }
   ],
   "source": [
    "for eps in [0.05, 0.2, 0.5]:\n",
    "    for ms in [3, 5]:\n",
    "        m_dbscan = DBSCAN(eps=eps, min_samples=ms)\n",
    "        m_dbscan.fit(X)\n",
    "        y_pred=m_dbscan.labels_\n",
    "    \n",
    "        data_w_label = pd.concat([data, \n",
    "                                  pd.DataFrame(y_pred)], axis=1).rename(columns={0:'label'})\n",
    "        for n in set(m_dbscan.labels_):\n",
    "            data_w_label.loc[data_w_label['label']==n,'label']=data_w_label[data_w_label['label']==n][\"class\"].value_counts().index[0]\n",
    "        print(\"number of cluster {}, accuracy score {} with eps={}, min_samples={}\".format(len(set(m_dbscan.labels_)),accuracy_score(y, data_w_label['label']), eps, ms))"
   ]
  },
  {
   "cell_type": "markdown",
   "id": "8ec72f9d",
   "metadata": {},
   "source": [
    "DBSCAN으로 모델링한 경우 모두 하나의 클러스터로만 분류되었다. 같은 클러스터로 묶인 값들 중 가장 많은 클래스를 차지하는 값으로 labeling하므로, 4개의 숫자 중 가장 많은 값인 7로 분류된다. 이때의 정확도는 26.40%이다.      "
   ]
  },
  {
   "cell_type": "code",
   "execution_count": 10,
   "id": "541fa952",
   "metadata": {
    "scrolled": true
   },
   "outputs": [
    {
     "data": {
      "image/png": "[encoded data removed]",
      "text/plain": [
       "<Figure size 1440x720 with 10 Axes>"
      ]
     },
     "metadata": {
      "needs_background": "light"
     },
     "output_type": "display_data"
    }
   ],
   "source": [
    "# dbscan 예측\n",
    "dbscan = DBSCAN(eps=0.05, min_samples=3)\n",
    "dbscan.fit(X)\n",
    "y_pred_db=dbscan.labels_\n",
    "preddf_db = pd.concat([data, \n",
    "    pd.DataFrame(y_pred_db)], axis=1).rename(columns={0:'label'})\n",
    "\n",
    "for n in set(dbscan.labels_):\n",
    "    preddf_db.loc[preddf_db['label']==n,'label']=preddf_db[preddf_db['label']==n][\"class\"].value_counts().index[0]\n",
    "\n",
    "## 실제와 다르게 예측한 값들에 대한 데이터 생성\n",
    "error_label_db=preddf_db[preddf_db['class'] != preddf_db['label']]\n",
    "error_idx_db=error_label_db.index\n",
    "\n",
    "error_db=X.iloc[error_idx_db]\n",
    "error_label_db=error_label_db.reset_index(False)\n",
    "\n",
    "plt.figure(figsize=(20,10))\n",
    "for i in range(10):\n",
    "    plt.subplot(2,5,i+1)\n",
    "    digit = error_db.iloc[i] \n",
    "    digit_image = np.array(digit).reshape(28, 28) \n",
    "    plt.imshow(digit_image, cmap=mpl.cm.binary) \n",
    "    plt.axis(\"off\")\n",
    "    plt.title(\"label: \"+str(error_label_db['class'][i])+\", pred: \"+str(error_label_db['label'][i]))"
   ]
  },
  {
   "cell_type": "markdown",
   "id": "a729b0e9",
   "metadata": {},
   "source": [
    "### Agglomerate clustering\n",
    "클러스터 개수와 linkage를 조정하여 모델을 적합해보고 가장 정확도가 높은 모델을 선택한다."
   ]
  },
  {
   "cell_type": "code",
   "execution_count": 16,
   "id": "0f25859d",
   "metadata": {},
   "outputs": [
    {
     "name": "stdout",
     "output_type": "stream",
     "text": [
      "accuracy score 0.7646164428193897 with linkage=ward, number of cluster=3\n",
      "accuracy score 0.7646164428193897 with linkage=ward, number of cluster=4\n",
      "accuracy score 0.7646164428193897 with linkage=ward, number of cluster=5\n",
      "accuracy score 0.26528617456467435 with linkage=average, number of cluster=3\n",
      "accuracy score 0.265358577996597 with linkage=average, number of cluster=4\n",
      "accuracy score 0.268254715273504 with linkage=average, number of cluster=5\n",
      "accuracy score 0.26409151793795027 with linkage=single, number of cluster=3\n",
      "accuracy score 0.26409151793795027 with linkage=single, number of cluster=4\n",
      "accuracy score 0.2641277196539116 with linkage=single, number of cluster=5\n"
     ]
    }
   ],
   "source": [
    "for linkage in ['ward', 'average', 'single']:\n",
    "    for n_cluster in [3,4,5]:\n",
    "        m_ac = AgglomerativeClustering(n_clusters=n_cluster, linkage=linkage)\n",
    "        m_ac.fit(X)\n",
    "        y_pred=m_ac.labels_\n",
    "    \n",
    "        data_w_label = pd.concat([data, \n",
    "                                    pd.DataFrame(y_pred)], axis=1).rename(columns={0:'label'})\n",
    "    \n",
    "        for n in range(n_cluster):\n",
    "            data_w_label.loc[data_w_label['label']==n,'label']=data_w_label[data_w_label['label']==n][\"class\"].value_counts().index[0]\n",
    "        print(\"accuracy score {} with linkage={}, number of cluster={}\".format(accuracy_score(y, data_w_label['label']), linkage, n_cluster))"
   ]
  },
  {
   "cell_type": "markdown",
   "id": "b06eb269",
   "metadata": {},
   "source": [
    "적합한 모델들 중 linkage를 ward를 설정했을 때가 정확도 76.46%로 가장 높았다.     \n",
    "세개의 클러스터 개수에서 모두 같은 결과를 보였으므로, original data의 레이블 개수인 4개를 클러스터 개수로 지정하여 모델 적합 및 예측을 진행한다."
   ]
  },
  {
   "cell_type": "code",
   "execution_count": 17,
   "id": "35640236",
   "metadata": {},
   "outputs": [
    {
     "data": {
      "image/png": "[encoded data removed]",
      "text/plain": [
       "<Figure size 1440x720 with 10 Axes>"
      ]
     },
     "metadata": {
      "needs_background": "light"
     },
     "output_type": "display_data"
    }
   ],
   "source": [
    "# spectral clustering 예측\n",
    "ac = AgglomerativeClustering(n_clusters=4, linkage=\"ward\")\n",
    "ac.fit(X)\n",
    "y_pred_ac=ac.labels_\n",
    "preddf_ac = pd.concat([data, \n",
    "    pd.DataFrame(y_pred_ac)], axis=1).rename(columns={0:'label'})\n",
    "\n",
    "for n in set(ac.labels_):\n",
    "    preddf_ac.loc[preddf_ac['label']==n,'label']=preddf_ac[preddf_ac['label']==n][\"class\"].value_counts().index[0]\n",
    "\n",
    "## 실제와 다르게 예측한 값들에 대한 데이터 생성\n",
    "error_label_ac=preddf_ac[preddf_ac['class'] != preddf_ac['label']]\n",
    "error_idx_ac=error_label_ac.index\n",
    "\n",
    "error_ac=X.iloc[error_idx_ac]\n",
    "error_label_ac=error_label_ac.reset_index(False)\n",
    "\n",
    "plt.figure(figsize=(20,10))\n",
    "for i in range(10):\n",
    "    plt.subplot(2,5,i+1)\n",
    "    digit = error_ac.iloc[i] \n",
    "    digit_image = np.array(digit).reshape(28, 28) \n",
    "    plt.imshow(digit_image, cmap=mpl.cm.binary) \n",
    "    plt.axis(\"off\")\n",
    "    plt.title(\"label: \"+str(error_label_ac['class'][i])+\", pred: \"+str(error_label_ac['label'][i]))"
   ]
  },
  {
   "cell_type": "markdown",
   "id": "5e45e464",
   "metadata": {},
   "source": [
    "### Spectral Clustering\n",
    "gamma와 클러스터 개수를 조정하여 모델을 적합해보고 가장 정확도가 높은 모델을 선택한다."
   ]
  },
  {
   "cell_type": "code",
   "execution_count": 17,
   "id": "ef9d90e3",
   "metadata": {
    "scrolled": true
   },
   "outputs": [
    {
     "name": "stderr",
     "output_type": "stream",
     "text": [
      "C:\\Users\\YJ-HWANG\\anaconda3\\lib\\site-packages\\sklearn\\manifold\\_spectral_embedding.py:245: UserWarning: Graph is not fully connected, spectral embedding may not work as expected.\n",
      "  warnings.warn(\"Graph is not fully connected, spectral embedding\"\n"
     ]
    },
    {
     "name": "stdout",
     "output_type": "stream",
     "text": [
      "accuracy score 0.2648879556890997 with gamma=1, number of cluster=3\n"
     ]
    },
    {
     "name": "stderr",
     "output_type": "stream",
     "text": [
      "C:\\Users\\YJ-HWANG\\anaconda3\\lib\\site-packages\\sklearn\\manifold\\_spectral_embedding.py:245: UserWarning: Graph is not fully connected, spectral embedding may not work as expected.\n",
      "  warnings.warn(\"Graph is not fully connected, spectral embedding\"\n"
     ]
    },
    {
     "name": "stdout",
     "output_type": "stream",
     "text": [
      "accuracy score 0.26427252651775696 with gamma=1, number of cluster=4\n"
     ]
    },
    {
     "name": "stderr",
     "output_type": "stream",
     "text": [
      "C:\\Users\\YJ-HWANG\\anaconda3\\lib\\site-packages\\sklearn\\manifold\\_spectral_embedding.py:245: UserWarning: Graph is not fully connected, spectral embedding may not work as expected.\n",
      "  warnings.warn(\"Graph is not fully connected, spectral embedding\"\n"
     ]
    },
    {
     "name": "stdout",
     "output_type": "stream",
     "text": [
      "accuracy score 0.2656481917242877 with gamma=1, number of cluster=5\n"
     ]
    },
    {
     "name": "stderr",
     "output_type": "stream",
     "text": [
      "C:\\Users\\YJ-HWANG\\anaconda3\\lib\\site-packages\\sklearn\\manifold\\_spectral_embedding.py:245: UserWarning: Graph is not fully connected, spectral embedding may not work as expected.\n",
      "  warnings.warn(\"Graph is not fully connected, spectral embedding\"\n"
     ]
    },
    {
     "name": "stdout",
     "output_type": "stream",
     "text": [
      "accuracy score 0.26416392136987293 with gamma=10, number of cluster=3\n"
     ]
    },
    {
     "name": "stderr",
     "output_type": "stream",
     "text": [
      "C:\\Users\\YJ-HWANG\\anaconda3\\lib\\site-packages\\sklearn\\manifold\\_spectral_embedding.py:245: UserWarning: Graph is not fully connected, spectral embedding may not work as expected.\n",
      "  warnings.warn(\"Graph is not fully connected, spectral embedding\"\n"
     ]
    },
    {
     "name": "stdout",
     "output_type": "stream",
     "text": [
      "accuracy score 0.2640191145060276 with gamma=10, number of cluster=4\n"
     ]
    },
    {
     "name": "stderr",
     "output_type": "stream",
     "text": [
      "C:\\Users\\YJ-HWANG\\anaconda3\\lib\\site-packages\\sklearn\\manifold\\_spectral_embedding.py:245: UserWarning: Graph is not fully connected, spectral embedding may not work as expected.\n",
      "  warnings.warn(\"Graph is not fully connected, spectral embedding\"\n"
     ]
    },
    {
     "name": "stdout",
     "output_type": "stream",
     "text": [
      "accuracy score 0.2656843934402491 with gamma=10, number of cluster=5\n"
     ]
    },
    {
     "name": "stderr",
     "output_type": "stream",
     "text": [
      "C:\\Users\\YJ-HWANG\\anaconda3\\lib\\site-packages\\sklearn\\manifold\\_spectral_embedding.py:245: UserWarning: Graph is not fully connected, spectral embedding may not work as expected.\n",
      "  warnings.warn(\"Graph is not fully connected, spectral embedding\"\n"
     ]
    },
    {
     "name": "stdout",
     "output_type": "stream",
     "text": [
      "accuracy score 0.2640191145060276 with gamma=100, number of cluster=3\n"
     ]
    },
    {
     "name": "stderr",
     "output_type": "stream",
     "text": [
      "C:\\Users\\YJ-HWANG\\anaconda3\\lib\\site-packages\\sklearn\\manifold\\_spectral_embedding.py:245: UserWarning: Graph is not fully connected, spectral embedding may not work as expected.\n",
      "  warnings.warn(\"Graph is not fully connected, spectral embedding\"\n"
     ]
    },
    {
     "name": "stdout",
     "output_type": "stream",
     "text": [
      "accuracy score 0.2640191145060276 with gamma=100, number of cluster=4\n"
     ]
    },
    {
     "name": "stderr",
     "output_type": "stream",
     "text": [
      "C:\\Users\\YJ-HWANG\\anaconda3\\lib\\site-packages\\sklearn\\manifold\\_spectral_embedding.py:245: UserWarning: Graph is not fully connected, spectral embedding may not work as expected.\n",
      "  warnings.warn(\"Graph is not fully connected, spectral embedding\"\n"
     ]
    },
    {
     "name": "stdout",
     "output_type": "stream",
     "text": [
      "accuracy score 0.26557578829236506 with gamma=100, number of cluster=5\n"
     ]
    }
   ],
   "source": [
    "for gamma in [1, 10, 100]:\n",
    "    for n_cluster in [3,4,5]:\n",
    "        m_sc = SpectralClustering(n_clusters=n_cluster, gamma=gamma, random_state=777)\n",
    "        m_sc.fit(X)\n",
    "        y_pred=m_sc.labels_\n",
    "    \n",
    "        data_w_label = pd.concat([data, \n",
    "                                    pd.DataFrame(y_pred)], axis=1).rename(columns={0:'label'})\n",
    "    \n",
    "        for n in range(n_cluster):\n",
    "            data_w_label.loc[data_w_label['label']==n,'label']=data_w_label[data_w_label['label']==n][\"class\"].value_counts().index[0]\n",
    "        print(\"accuracy score {} with gamma={}, number of cluster={}\".format(accuracy_score(y, data_w_label['label']), gamma, n_cluster))"
   ]
  },
  {
   "cell_type": "markdown",
   "id": "b2a444b9",
   "metadata": {},
   "source": [
    "적합한 모델들 중 gamma가 10이고 클러스터 개수가 5개일 때 정확도가 0.2659로 가장 높았다."
   ]
  },
  {
   "cell_type": "code",
   "execution_count": 18,
   "id": "89979a06",
   "metadata": {
    "scrolled": false
   },
   "outputs": [
    {
     "name": "stderr",
     "output_type": "stream",
     "text": [
      "C:\\Users\\YJ-HWANG\\anaconda3\\lib\\site-packages\\sklearn\\manifold\\_spectral_embedding.py:245: UserWarning: Graph is not fully connected, spectral embedding may not work as expected.\n",
      "  warnings.warn(\"Graph is not fully connected, spectral embedding\"\n"
     ]
    },
    {
     "data": {
      "image/png": "[encoded data removed]",
      "text/plain": [
       "<Figure size 1440x720 with 10 Axes>"
      ]
     },
     "metadata": {
      "needs_background": "light"
     },
     "output_type": "display_data"
    }
   ],
   "source": [
    "# spectral clustering 예측\n",
    "sc = SpectralClustering(n_clusters=5, gamma=10, random_state=777)\n",
    "sc.fit(X)\n",
    "y_pred_sc=sc.labels_\n",
    "preddf_sc = pd.concat([data, \n",
    "    pd.DataFrame(y_pred_sc)], axis=1).rename(columns={0:'label'})\n",
    "\n",
    "for n in set(sc.labels_):\n",
    "    preddf_sc.loc[preddf_sc['label']==n,'label']=preddf_sc[preddf_sc['label']==n][\"class\"].value_counts().index[0]\n",
    "\n",
    "## 실제와 다르게 예측한 값들에 대한 데이터 생성\n",
    "error_label_sc=preddf_sc[preddf_sc['class'] != preddf_sc['label']]\n",
    "error_idx_sc=error_label_sc.index\n",
    "\n",
    "error_sc=X.iloc[error_idx_sc]\n",
    "error_label_sc=error_label_sc.reset_index(False)\n",
    "\n",
    "plt.figure(figsize=(20,10))\n",
    "for i in range(10):\n",
    "    plt.subplot(2,5,i+1)\n",
    "    digit = error_sc.iloc[i] \n",
    "    digit_image = np.array(digit).reshape(28, 28) \n",
    "    plt.imshow(digit_image, cmap=mpl.cm.binary) \n",
    "    plt.axis(\"off\")\n",
    "    plt.title(\"label: \"+str(error_label_sc['class'][i])+\", pred: \"+str(error_label_sc['label'][i]))"
   ]
  },
  {
   "cell_type": "markdown",
   "id": "59e9ce38",
   "metadata": {},
   "source": [
    "### Gaussian Mixture Model\n",
    "covariance type을 full, tied, spherical, diag로 각각 설정하고, 클러스터 개수를 3,4,5개로 설정하여 각각 모델을 적합한 후 가장 정확도가 높은 모델을 선택한다."
   ]
  },
  {
   "cell_type": "code",
   "execution_count": 27,
   "id": "1c34f79e",
   "metadata": {},
   "outputs": [
    {
     "name": "stdout",
     "output_type": "stream",
     "text": [
      "accuracy score 0.6250950295043985 with covariance type=full, number of cluster=3\n",
      "accuracy score 0.570937262426239 with covariance type=full, number of cluster=4\n",
      "accuracy score 0.533178872678565 with covariance type=full, number of cluster=5\n",
      "accuracy score 0.697751873438801 with covariance type=tied, number of cluster=3\n",
      "accuracy score 0.5267711689534084 with covariance type=tied, number of cluster=4\n",
      "accuracy score 0.507367049198132 with covariance type=tied, number of cluster=5\n",
      "accuracy score 0.735184447742823 with covariance type=spherical, number of cluster=3\n",
      "accuracy score 0.5641313398255078 with covariance type=spherical, number of cluster=4\n",
      "accuracy score 0.5726387430764218 with covariance type=spherical, number of cluster=5\n",
      "accuracy score 0.6616225609093871 with covariance type=diag, number of cluster=3\n",
      "accuracy score 0.6759584404300764 with covariance type=diag, number of cluster=4\n",
      "accuracy score 0.6256018535278572 with covariance type=diag, number of cluster=5\n"
     ]
    }
   ],
   "source": [
    "for ct in [\"full\", \"tied\", \"spherical\", \"diag\"]:\n",
    "    for n_cluster in [3,4,5]:\n",
    "        m_gmm = GaussianMixture(n_components=n_cluster, n_init=5,\n",
    "                                covariance_type=ct, random_state=777)\n",
    "        y_pred=m_gmm.fit_predict(X)        \n",
    "    \n",
    "        data_w_label = pd.concat([data, \n",
    "                                    pd.DataFrame(y_pred)], axis=1).rename(columns={0:'label'})\n",
    "    \n",
    "        for n in range(n_cluster):\n",
    "            data_w_label.loc[data_w_label['label']==n,'label']=data_w_label[data_w_label['label']==n][\"class\"].value_counts().index[0]\n",
    "        print(\"accuracy score {} with covariance type={}, number of cluster={}\".format(accuracy_score(y, data_w_label['label']), ct, n_cluster))"
   ]
  },
  {
   "cell_type": "markdown",
   "id": "6708f54a",
   "metadata": {},
   "source": [
    "covariance type이 spherical이고 클러스터 개수가 3개인 모델이 정확도가 73.52%로 가장 높았다."
   ]
  },
  {
   "cell_type": "code",
   "execution_count": 13,
   "id": "911036a8",
   "metadata": {},
   "outputs": [
    {
     "data": {
      "image/png": "[encoded data removed]",
      "text/plain": [
       "<Figure size 1440x720 with 10 Axes>"
      ]
     },
     "metadata": {
      "needs_background": "light"
     },
     "output_type": "display_data"
    }
   ],
   "source": [
    "# Gaussian mixture model 예측\n",
    "gmm = GaussianMixture(n_components=3, n_init=5,\n",
    "                                covariance_type=\"spherical\", random_state=777)\n",
    "\n",
    "y_pred_gmm=gmm.fit_predict(X)  \n",
    "preddf_gmm = pd.concat([data, \n",
    "    pd.DataFrame(y_pred_gmm)], axis=1).rename(columns={0:'label'})\n",
    "\n",
    "for n in set(y_pred_gmm):\n",
    "    preddf_gmm.loc[preddf_gmm['label']==n,'label']=preddf_gmm[preddf_gmm['label']==n][\"class\"].value_counts().index[0]\n",
    "\n",
    "## 실제와 다르게 예측한 값들에 대한 데이터 생성\n",
    "error_label_gmm=preddf_gmm[preddf_gmm['class'] != preddf_gmm['label']]\n",
    "error_idx_gmm=error_label_gmm.index\n",
    "\n",
    "error_gmm=X.iloc[error_idx_gmm]\n",
    "error_label_gmm=error_label_gmm.reset_index(False)\n",
    "\n",
    "plt.figure(figsize=(20,10))\n",
    "for i in range(10):\n",
    "    plt.subplot(2,5,i+1)\n",
    "    digit = error_gmm.iloc[i] \n",
    "    digit_image = np.array(digit).reshape(28, 28) \n",
    "    plt.imshow(digit_image, cmap=mpl.cm.binary) \n",
    "    plt.axis(\"off\")\n",
    "    plt.title(\"label: \"+str(error_label_gmm['class'][i])+\", pred: \"+str(error_label_gmm['label'][i]))"
   ]
  }
 ],
 "metadata": {
  "kernelspec": {
   "display_name": "Python 3",
   "language": "python",
   "name": "python3"
  },
  "language_info": {
   "codemirror_mode": {
    "name": "ipython",
    "version": 3
   },
   "file_extension": ".py",
   "mimetype": "text/x-python",
   "name": "python",
   "nbconvert_exporter": "python",
   "pygments_lexer": "ipython3",
   "version": "3.8.8"
  }
 },
 "nbformat": 4,
 "nbformat_minor": 5
}
